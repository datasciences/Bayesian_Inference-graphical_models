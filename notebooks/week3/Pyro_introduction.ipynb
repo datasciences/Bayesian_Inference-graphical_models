{
  "nbformat": 4,
  "nbformat_minor": 0,
  "metadata": {
    "colab": {
      "name": "IntroductionPyro.ipynb",
      "provenance": [],
      "collapsed_sections": [
        "w9YOYvzVOdj0",
        "wFDAZrD03osC",
        "wUj58lM032dC",
        "EPvVKbjh4RqG",
        "aCq5d93r7BHd",
        "GKImM3Q7036s",
        "SQ-QrAT7ft-J",
        "_t07Ut2YfnOp",
        "3HkXEPxc7YkA",
        "h2rNnW2Y2ark",
        "g8RF9rXNQWCi",
        "t4sujQkEXhdq",
        "iqFQxIzYcw6q"
      ]
    },
    "kernelspec": {
      "name": "python3",
      "display_name": "Python 3"
    }
  },
  "cells": [
    {
      "cell_type": "markdown",
      "metadata": {
        "id": "BNAVothFcRVF",
        "colab_type": "text"
      },
      "source": [
        "**Probability is the mathematics of reasoning under uncertainty, much as calculus is the mathematics for reasoning about rates of change.** Models built in the language of probability can capture complex reasoning, know what they do not know, and uncover structure in data without supervision. Further, probability provides a way for human experts to provide knowledge to AI systems in the form of a priori beliefs."
      ]
    },
    {
      "cell_type": "markdown",
      "metadata": {
        "id": "g3gdg3buYOoI",
        "colab_type": "text"
      },
      "source": [
        "\n",
        "\n",
        "By observing the outcome of a probabilistic program, we can describe an inference problem, roughly translated as: “**what must be true if this random choice had a certain observed value?**” Probabilistic programming systems provide universal inference algorithms that can perform inference with little intervention from the user. \n",
        "\n",
        "Yet **inference is the key challenge for probabilistic modeling**, and non-scalable inference is the main failure mode of PPLs. Leveraging the power of deep learning, recent advances have introduced a new approach to probabilistic inference and PPL implementation. **The key idea is to describe inference in a model via a second model called an inference model, or guide in Pyro.** (This is actually an idea that goes back as far as at least the Helmholtz machine.) Just as **a model is a generative story for the data, a guide is a generative story for translating the data into latent choices**.\n",
        "\n",
        "Of course, **we cannot simply write down the correct guide** (that is why inference is hard). **Instead, we use the variational approach, specifying a parameterized family of guides and then solving an optimization problem to move the guide toward the posterior distribution of the model.** This **optimization can be automated thanks to automatic differentiation**, a technique for efficiently computing the gradient of a program, and several tricks for estimating the gradient of an expectation.\n",
        "\n",
        " "
      ]
    },
    {
      "cell_type": "markdown",
      "metadata": {
        "id": "l66FriJ0ceE7",
        "colab_type": "text"
      },
      "source": [
        "The basic operations in a PPL are sampling from a distribution, observing sampled values, and inferring the resulting posterior over executions. However, the required behavior of sampling statements depends on the inference context in which they occur. For instance, when computing the standard evidence-lower-bound objective, sampling statements in the guide should actually sample new values, while sampling statements in the model should only reuse these values. **The Pyro implementation builds these context-specific effects out of a set of Poutine objects (a tasty portmanteau for Pyro Coroutine), such as Trace, Replay, and Condition. Each Poutine provides a small modification to the handling of Pyro constructs (sampling, parameter construction, etc); layering Poutines together allows us to build the operations needed for different inference algorithms. **With this program logic handled by Poutines, the main inference code focuses on constructing objectives and estimating gradients.\n",
        "\n",
        "Ref: https://colab.research.google.com/drive/1FvNCbnu16evlCXyxxzNPf1uHUkVkDSFJ#scrollTo=g3gdg3buYOoI"
      ]
    },
    {
      "cell_type": "markdown",
      "metadata": {
        "id": "w9YOYvzVOdj0",
        "colab_type": "text"
      },
      "source": [
        "# Introduction to pyro\n",
        "**An Introduction to Models in Pyro**\n",
        "\n",
        "The basic unit of probabilistic programs is the stochastic function. \n",
        "It has two parts:\n",
        "\n",
        "1. Deterministic Python code.\n",
        "2. Primitive stochastic functions that call a random number generator."
      ]
    },
    {
      "cell_type": "code",
      "metadata": {
        "id": "1_1rBlv-Z4wu",
        "colab_type": "code",
        "colab": {
          "base_uri": "https://localhost:8080/",
          "height": 515
        },
        "outputId": "1ac5bda5-b58f-439f-f0dc-9382a83b5fb3"
      },
      "source": [
        "!pip install pyro-ppl"
      ],
      "execution_count": 4,
      "outputs": [
        {
          "output_type": "stream",
          "text": [
            "Collecting pyro-ppl\n",
            "\u001b[?25l  Downloading https://files.pythonhosted.org/packages/de/4d/6dc71b764a3d5c9a24b065df8a40af5f0be1ffb272f2cda4a13267964830/pyro_ppl-1.2.0-py3-none-any.whl (470kB)\n",
            "\u001b[K     |████████████████████████████████| 471kB 7.6MB/s \n",
            "\u001b[?25hRequirement already satisfied: numpy>=1.7 in /usr/local/lib/python3.6/dist-packages (from pyro-ppl) (1.17.5)\n",
            "Requirement already satisfied: opt-einsum>=2.3.2 in /usr/local/lib/python3.6/dist-packages (from pyro-ppl) (3.1.0)\n",
            "Collecting tqdm>=4.36\n",
            "\u001b[?25l  Downloading https://files.pythonhosted.org/packages/72/c9/7fc20feac72e79032a7c8138fd0d395dc6d8812b5b9edf53c3afd0b31017/tqdm-4.41.1-py2.py3-none-any.whl (56kB)\n",
            "\u001b[K     |████████████████████████████████| 61kB 6.5MB/s \n",
            "\u001b[?25hCollecting torch>=1.4.0\n",
            "\u001b[?25l  Downloading https://files.pythonhosted.org/packages/24/19/4804aea17cd136f1705a5e98a00618cb8f6ccc375ad8bfa437408e09d058/torch-1.4.0-cp36-cp36m-manylinux1_x86_64.whl (753.4MB)\n",
            "\u001b[K     |████████████████████████████████| 753.4MB 16kB/s \n",
            "\u001b[?25hCollecting pyro-api>=0.1.1\n",
            "  Downloading https://files.pythonhosted.org/packages/c2/bc/6cdbd1929e32fff62a33592633c2cc0393c7f7739131ccc9c9c4e28ac8dd/pyro_api-0.1.1-py3-none-any.whl\n",
            "\u001b[31mERROR: torchvision 0.4.2 has requirement torch==1.3.1, but you'll have torch 1.4.0 which is incompatible.\u001b[0m\n",
            "Installing collected packages: tqdm, torch, pyro-api, pyro-ppl\n",
            "  Found existing installation: tqdm 4.28.1\n",
            "    Uninstalling tqdm-4.28.1:\n",
            "      Successfully uninstalled tqdm-4.28.1\n",
            "  Found existing installation: torch 1.3.1\n",
            "    Uninstalling torch-1.3.1:\n",
            "      Successfully uninstalled torch-1.3.1\n",
            "Successfully installed pyro-api-0.1.1 pyro-ppl-1.2.0 torch-1.4.0 tqdm-4.41.1\n"
          ],
          "name": "stdout"
        },
        {
          "output_type": "display_data",
          "data": {
            "application/vnd.colab-display-data+json": {
              "pip_warning": {
                "packages": [
                  "torch",
                  "tqdm"
                ]
              }
            }
          },
          "metadata": {
            "tags": []
          }
        }
      ]
    },
    {
      "cell_type": "code",
      "metadata": {
        "id": "BeYoX4MIOJPw",
        "colab_type": "code",
        "colab": {}
      },
      "source": [
        "import seaborn as sns\n",
        "import pyro \n",
        "from pyro import condition\n",
        "from pyro.poutine import trace\n",
        "from pyro.infer import NUTS, MCMC, EmpiricalMarginal\n",
        "import pyro.distributions as dist\n",
        "from pyro import param\n",
        "import torch\n",
        "from torch.distributions import constraints\n",
        "import pandas as pd\n",
        "from pprint import pprint\n",
        "import matplotlib.pyplot as plt\n",
        "\n",
        "pyro.set_rng_seed(101)"
      ],
      "execution_count": 0,
      "outputs": []
    },
    {
      "cell_type": "markdown",
      "metadata": {
        "id": "wFDAZrD03osC",
        "colab_type": "text"
      },
      "source": [
        "# Introduction to distributions using torch"
      ]
    },
    {
      "cell_type": "markdown",
      "metadata": {
        "id": "uNwhfTFf5sb2",
        "colab_type": "text"
      },
      "source": [
        "We will look at using pytorch distributions and sampling methods."
      ]
    },
    {
      "cell_type": "code",
      "metadata": {
        "id": "umEtfAiP3m7l",
        "colab_type": "code",
        "colab": {
          "base_uri": "https://localhost:8080/",
          "height": 52
        },
        "outputId": "d5444d3c-1619-40ef-e3ee-0bb7844bfbe8"
      },
      "source": [
        "mean_n = 0. # mean zero\n",
        "\n",
        "var_n = 1. # unit variance\n",
        "\n",
        "# create a normal distribution\n",
        "normal =  torch.distributions.Normal(mean_n, var_n) \n",
        "\n",
        "# sample from the normal distribution\n",
        "x = normal.rsample()\n",
        "\n",
        "# print sample x\n",
        "print(\"sample\", x)\n",
        "\n",
        "# log prob of x\n",
        "print(\"log prob\", normal.log_prob(x))"
      ],
      "execution_count": 9,
      "outputs": [
        {
          "output_type": "stream",
          "text": [
            "sample tensor(-0.8152)\n",
            "log prob tensor(-1.2512)\n"
          ],
          "name": "stdout"
        }
      ]
    },
    {
      "cell_type": "markdown",
      "metadata": {
        "id": "eLixWKtN5AcF",
        "colab_type": "text"
      },
      "source": [
        "Here, torch.distributions.Normal is an instance of the Distribution class that takes parameters and provides sample and score methods. "
      ]
    },
    {
      "cell_type": "markdown",
      "metadata": {
        "id": "wUj58lM032dC",
        "colab_type": "text"
      },
      "source": [
        "# A pytorch stochastic simple weather model\n",
        "\n",
        "Let’s suppose we have a bunch of data with daily mean temperatures and cloud cover. We want to reason about how temperature interacts with whether it was sunny or cloudy.\n",
        "\n"
      ]
    },
    {
      "cell_type": "code",
      "metadata": {
        "id": "oMaXeFVi4Gco",
        "colab_type": "code",
        "colab": {}
      },
      "source": [
        "def weather():\n",
        "  cloudy = torch.distributions.Bernoulli(0.3).sample()\n",
        "\n",
        "  cloudy = 'cloudy' if cloudy.item() == 1.0 else 'sunny'\n",
        "\n",
        "  mean_temp = {'cloudy': 55.0, 'sunny': 75.0}[cloudy]\n",
        "\n",
        "  scale_temp = {'cloudy': 10.0, 'sunny': 15.0}[cloudy]\n",
        "\n",
        "  temp = torch.distributions.Normal(mean_temp, scale_temp).rsample()\n",
        "  \n",
        "  return cloudy, temp.item()"
      ],
      "execution_count": 0,
      "outputs": []
    },
    {
      "cell_type": "code",
      "metadata": {
        "id": "K4xgpXVl4Nzh",
        "colab_type": "code",
        "colab": {
          "base_uri": "https://localhost:8080/",
          "height": 35
        },
        "outputId": "f6cc29e3-e186-410e-bfd1-961729c3c1df"
      },
      "source": [
        "weather()"
      ],
      "execution_count": 11,
      "outputs": [
        {
          "output_type": "execute_result",
          "data": {
            "text/plain": [
              "('cloudy', 64.5440444946289)"
            ]
          },
          "metadata": {
            "tags": []
          },
          "execution_count": 11
        }
      ]
    },
    {
      "cell_type": "markdown",
      "metadata": {
        "id": "EPvVKbjh4RqG",
        "colab_type": "text"
      },
      "source": [
        "# Introduction to distributions using pyro"
      ]
    },
    {
      "cell_type": "code",
      "metadata": {
        "id": "umcEUmkH5ajH",
        "colab_type": "code",
        "colab": {
          "base_uri": "https://localhost:8080/",
          "height": 52
        },
        "outputId": "640416d0-b3b1-4887-fc7e-556b56e7a0b2"
      },
      "source": [
        "mean_n = 0. # mean zero\n",
        "\n",
        "var_n = 1. # unit variance\n",
        "\n",
        "# create a normal distribution\n",
        "normal =  pyro.distributions.Normal(mean_n, var_n) \n",
        "\n",
        "# sample from the normal distribution\n",
        "x = normal.sample()\n",
        "\n",
        "# print sample x\n",
        "print(\"sample\", x)\n",
        "\n",
        "# log prob of x\n",
        "print(\"log prob\", normal.log_prob(x))"
      ],
      "execution_count": 12,
      "outputs": [
        {
          "output_type": "stream",
          "text": [
            "sample tensor(1.2917)\n",
            "log prob tensor(-1.7532)\n"
          ],
          "name": "stdout"
        }
      ]
    },
    {
      "cell_type": "markdown",
      "metadata": {
        "id": "aCq5d93r7BHd",
        "colab_type": "text"
      },
      "source": [
        "# A pyro stochastic simple weather model"
      ]
    },
    {
      "cell_type": "code",
      "metadata": {
        "id": "9MOHKbC36xiL",
        "colab_type": "code",
        "colab": {}
      },
      "source": [
        "def find_weather():\n",
        "  # sample 0 or 1 from a bernouli distribution\n",
        "  weather = pyro.sample('weather', pyro.distributions.Bernoulli(0.3))\n",
        "\n",
        "  # convert 0 or 1 to cloudy or sunny\n",
        "  weather = 'cloudy' if weather.item() == 1.0 else 'sunny'\n",
        "\n",
        "  # subset corresponding mean temp out of a dictionary\n",
        "  mean_temp = {'cloudy': 55.0, 'sunny':75.0}[weather]\n",
        "  \n",
        "  var_temp =  {'cloudy': 10.0, 'sunny': 15.0}[weather]\n",
        "\n",
        "  # sample from a normal distribution using the above mean and var\n",
        "  temp = pyro.sample('temp',\n",
        "                     pyro.distributions.Normal(mean_temp, var_temp))\n",
        "  \n",
        "  # return the weather and temp\n",
        "  return weather, temp.item()"
      ],
      "execution_count": 0,
      "outputs": []
    },
    {
      "cell_type": "code",
      "metadata": {
        "id": "DnT2MIyO7TcF",
        "colab_type": "code",
        "colab": {
          "base_uri": "https://localhost:8080/",
          "height": 35
        },
        "outputId": "66d3a4a0-349d-4342-b50f-22baf09a2dc8"
      },
      "source": [
        "find_weather()"
      ],
      "execution_count": 14,
      "outputs": [
        {
          "output_type": "execute_result",
          "data": {
            "text/plain": [
              "('sunny', 84.56695556640625)"
            ]
          },
          "metadata": {
            "tags": []
          },
          "execution_count": 14
        }
      ]
    },
    {
      "cell_type": "markdown",
      "metadata": {
        "id": "GKImM3Q7036s",
        "colab_type": "text"
      },
      "source": [
        "# Another pyro example\n",
        "\n",
        "Ref: \n",
        "1. https://github.com/probabilisticai/probai-2019\n",
        "2. http://pyro.ai/examples/intro_part_i.html\n",
        "\n",
        "\n",
        "In Pyro, a probabilistic model is defined as a stochastic function (i.e. every time is run, it returns a new sample).\n",
        "\n",
        "Each random variable is associated to a primitive stochastic function using the construct pyro.sample(...)."
      ]
    },
    {
      "cell_type": "markdown",
      "metadata": {
        "id": "t9rFeUlL1YJO",
        "colab_type": "text"
      },
      "source": [
        "## A Temperature Model\n",
        "\n",
        "As initial running example, we consider the problem of modelling the temperature. We first start with a simple model where temperture is modeled using a random Normal variable."
      ]
    },
    {
      "cell_type": "code",
      "metadata": {
        "id": "I9xViBph1geF",
        "colab_type": "code",
        "colab": {
          "base_uri": "https://localhost:8080/",
          "height": 52
        },
        "outputId": "d97ec492-f4b1-454b-a395-77b38bd43214"
      },
      "source": [
        "def model():\n",
        "    temp = pyro.sample('temp', dist.Normal(15.0, 2.0))\n",
        "    return temp\n",
        "\n",
        "print(model())\n",
        "print(model())"
      ],
      "execution_count": 15,
      "outputs": [
        {
          "output_type": "stream",
          "text": [
            "tensor(12.3232)\n",
            "tensor(17.3379)\n"
          ],
          "name": "stdout"
        }
      ]
    },
    {
      "cell_type": "markdown",
      "metadata": {
        "id": "nqJWDrNH2wAG",
        "colab_type": "text"
      },
      "source": [
        "See how the model is a stochastic function which returns a different value everytime it is invoked."
      ]
    },
    {
      "cell_type": "markdown",
      "metadata": {
        "id": "BZVhUzHj1uvq",
        "colab_type": "text"
      },
      "source": [
        "## A Temperature-Sensor Model\n",
        "\n",
        "In the following example, we introduce the presence of a sensor, which is the one which is giving observations about the real temperature. In this case, we assume the sensor provides unbiased measurments of the temperature (i.e. the mean of the sensor's readings are the real temperature) and the error of the sensor's measurements is known."
      ]
    },
    {
      "cell_type": "code",
      "metadata": {
        "id": "iq61gWJ-1vCj",
        "colab_type": "code",
        "colab": {
          "base_uri": "https://localhost:8080/",
          "height": 35
        },
        "outputId": "8d403214-4930-4ff7-8984-891f77c89558"
      },
      "source": [
        "def model():\n",
        "    temp = pyro.sample('temp', dist.Normal(15.0, 2.0))\n",
        "    sensor = pyro.sample('sensor', dist.Normal(temp, 1.0))\n",
        "    return (temp, sensor)\n",
        "\n",
        "out1 = model()\n",
        "out1"
      ],
      "execution_count": 16,
      "outputs": [
        {
          "output_type": "execute_result",
          "data": {
            "text/plain": [
              "(tensor(17.1841), tensor(17.5299))"
            ]
          },
          "metadata": {
            "tags": []
          },
          "execution_count": 16
        }
      ]
    },
    {
      "cell_type": "markdown",
      "metadata": {
        "id": "ensAVEWU3Moo",
        "colab_type": "text"
      },
      "source": [
        "The above method defines a joint probability distribution:\n",
        "p(sensor,temp)=p(sensor|temp)p(temp)"
      ]
    },
    {
      "cell_type": "markdown",
      "metadata": {
        "id": "iN_kuBlC8_sw",
        "colab_type": "text"
      },
      "source": [
        "# Lets go back to weather model and explore further the strengths of Pyro"
      ]
    },
    {
      "cell_type": "code",
      "metadata": {
        "id": "OfzgVb2CS_Te",
        "colab_type": "code",
        "colab": {}
      },
      "source": [
        "def find_weather():\n",
        "  # sample 0 or 1 from a bernouli distribution\n",
        "  weather = pyro.sample('weather', pyro.distributions.Bernoulli(0.3))\n",
        "  \n",
        "  # convert 0 or 1 to cloudy or sunny\n",
        "  weather = 'cloudy' if weather.item() == 1.0 else 'sunny'\n",
        "  \n",
        "  # subset corresponding mean temp out of a dictionary\n",
        "  mean_temp = {'cloudy': 55.0, 'sunny':75.0}[weather]\n",
        "  \n",
        "  var_temp =  {'cloudy': 10.0, 'sunny': 15.0}[weather]\n",
        "  \n",
        "  # sample from a normal distribution using the above mean and var\n",
        "  temp = pyro.sample('temp',\n",
        "                     pyro.distributions.Normal(mean_temp, var_temp))\n",
        "  \n",
        "  # return the weather and temp\n",
        "  return weather, temp.item()"
      ],
      "execution_count": 0,
      "outputs": []
    },
    {
      "cell_type": "code",
      "metadata": {
        "id": "0d7WpmmHBHew",
        "colab_type": "code",
        "outputId": "9dc47789-2663-4e47-8534-10c9a577d56e",
        "colab": {
          "base_uri": "https://localhost:8080/",
          "height": 35
        }
      },
      "source": [
        "find_weather()"
      ],
      "execution_count": 61,
      "outputs": [
        {
          "output_type": "execute_result",
          "data": {
            "text/plain": [
              "('sunny', 79.12579345703125)"
            ]
          },
          "metadata": {
            "tags": []
          },
          "execution_count": 61
        }
      ]
    },
    {
      "cell_type": "code",
      "metadata": {
        "id": "O5VwkD1wW7U0",
        "colab_type": "code",
        "outputId": "89d73ca5-16b1-475a-fc2d-319275ea964d",
        "colab": {
          "base_uri": "https://localhost:8080/",
          "height": 284
        }
      },
      "source": [
        "# plot cloudy distibution for 1000 sampling\n",
        "data = [find_weather()[1] for i in range(1000)]\n",
        "sns.distplot(data)"
      ],
      "execution_count": 62,
      "outputs": [
        {
          "output_type": "execute_result",
          "data": {
            "text/plain": [
              "<matplotlib.axes._subplots.AxesSubplot at 0x7f63f414d278>"
            ]
          },
          "metadata": {
            "tags": []
          },
          "execution_count": 62
        },
        {
          "output_type": "display_data",
          "data": {
            "image/png": "[encoded data removed]",
            "text/plain": [
              "<Figure size 432x288 with 1 Axes>"
            ]
          },
          "metadata": {
            "tags": []
          }
        }
      ]
    },
    {
      "cell_type": "code",
      "metadata": {
        "id": "afTU7AJEXVVY",
        "colab_type": "code",
        "outputId": "ead29d8a-f515-46c7-e44f-ad42d64cd301",
        "colab": {
          "base_uri": "https://localhost:8080/",
          "height": 677
        }
      },
      "source": [
        "sample_trace = trace(find_weather).get_trace()\n",
        "sample_trace.nodes"
      ],
      "execution_count": 63,
      "outputs": [
        {
          "output_type": "execute_result",
          "data": {
            "text/plain": [
              "OrderedDict([('_INPUT',\n",
              "              {'args': (), 'kwargs': {}, 'name': '_INPUT', 'type': 'args'}),\n",
              "             ('weather',\n",
              "              {'args': (),\n",
              "               'cond_indep_stack': (),\n",
              "               'continuation': None,\n",
              "               'done': True,\n",
              "               'fn': Bernoulli(probs: 0.30000001192092896),\n",
              "               'infer': {},\n",
              "               'is_observed': False,\n",
              "               'kwargs': {},\n",
              "               'mask': None,\n",
              "               'name': 'weather',\n",
              "               'scale': 1.0,\n",
              "               'stop': False,\n",
              "               'type': 'sample',\n",
              "               'value': tensor(1.)}),\n",
              "             ('temp',\n",
              "              {'args': (),\n",
              "               'cond_indep_stack': (),\n",
              "               'continuation': None,\n",
              "               'done': True,\n",
              "               'fn': Normal(loc: 55.0, scale: 10.0),\n",
              "               'infer': {},\n",
              "               'is_observed': False,\n",
              "               'kwargs': {},\n",
              "               'mask': None,\n",
              "               'name': 'temp',\n",
              "               'scale': 1.0,\n",
              "               'stop': False,\n",
              "               'type': 'sample',\n",
              "               'value': tensor(38.6814)}),\n",
              "             ('_RETURN',\n",
              "              {'name': '_RETURN',\n",
              "               'type': 'return',\n",
              "               'value': ('cloudy', 38.681434631347656)})])"
            ]
          },
          "metadata": {
            "tags": []
          },
          "execution_count": 63
        }
      ]
    },
    {
      "cell_type": "code",
      "metadata": {
        "id": "csQzjkukX4c9",
        "colab_type": "code",
        "outputId": "37acf7ca-d658-4b0c-ad7d-8da04c313a02",
        "colab": {
          "base_uri": "https://localhost:8080/",
          "height": 35
        }
      },
      "source": [
        "sample_trace.log_prob_sum().exp()"
      ],
      "execution_count": 68,
      "outputs": [
        {
          "output_type": "execute_result",
          "data": {
            "text/plain": [
              "tensor(0.0032)"
            ]
          },
          "metadata": {
            "tags": []
          },
          "execution_count": 68
        }
      ]
    },
    {
      "cell_type": "markdown",
      "metadata": {
        "id": "OYdfiG0Txn3I",
        "colab_type": "text"
      },
      "source": [
        "## If I observe a temperature of 70 degrees, how likely is it to be cloudy? "
      ]
    },
    {
      "cell_type": "code",
      "metadata": {
        "id": "-mmYMaefBEUq",
        "colab_type": "code",
        "colab": {}
      },
      "source": [
        "def find_weather(obs_temp):\n",
        "  \n",
        "  # sample 0 or 1 from a bernouli distribution\n",
        "  weather = pyro.sample('weather', pyro.distributions.Bernoulli(0.3))\n",
        "  \n",
        "  # convert 0 or 1 to cloudy or sunny\n",
        "  weather = 'cloudy' if weather.item() == 1.0 else 'sunny'\n",
        "  \n",
        "  # subset corresponding mean temp out of a dictionary\n",
        "  mean_temp = {'cloudy': 55.0, 'sunny':75.0}[weather]\n",
        "  \n",
        "  var_temp =  {'cloudy': 10.0, 'sunny': 15.0}[weather]\n",
        " \n",
        "  # sample from a normal distribution using the above mean and var\n",
        "  temp = pyro.sample('temp',\n",
        "                     pyro.distributions.Normal(mean_temp, var_temp),\n",
        "                     obs = obs_temp)\n",
        "  \n",
        "  # return the weather and temp\n",
        "  return weather, temp"
      ],
      "execution_count": 0,
      "outputs": []
    },
    {
      "cell_type": "code",
      "metadata": {
        "id": "cwnTExIqB0D5",
        "colab_type": "code",
        "outputId": "c8999d28-5694-4c6a-fdc2-23daabbdb9c6",
        "colab": {
          "base_uri": "https://localhost:8080/",
          "height": 72
        }
      },
      "source": [
        "# for observed temp = 70, do simulation 1000 times\n",
        "obs_temp = 70.\n",
        "data = [find_weather(obs_temp) for i in range(1000)]\n",
        "#data"
      ],
      "execution_count": 51,
      "outputs": [
        {
          "output_type": "stream",
          "text": [
            "/usr/local/lib/python3.6/dist-packages/pyro/primitives.py:86: RuntimeWarning: trying to observe a value outside of inference at temp\n",
            "  RuntimeWarning)\n"
          ],
          "name": "stderr"
        }
      ]
    },
    {
      "cell_type": "code",
      "metadata": {
        "id": "ysTlxYiVCHhY",
        "colab_type": "code",
        "outputId": "e2e581ee-b8c3-4843-e985-6c52d951327b",
        "colab": {
          "base_uri": "https://localhost:8080/",
          "height": 88
        }
      },
      "source": [
        "# get the table of times cloudy and sunny appears\n",
        "df = pd.DataFrame(data, columns=('cloudy', 'sunny'))\n",
        "tab = df.groupby(['cloudy', 'sunny']).size()\n",
        "print(tab)"
      ],
      "execution_count": 52,
      "outputs": [
        {
          "output_type": "stream",
          "text": [
            "cloudy  sunny\n",
            "cloudy  70.0     300\n",
            "sunny   70.0     700\n",
            "dtype: int64\n"
          ],
          "name": "stdout"
        }
      ]
    },
    {
      "cell_type": "code",
      "metadata": {
        "id": "VO-AxrNHAogX",
        "colab_type": "code",
        "outputId": "da323d3d-445c-48a1-bd24-068b4ba0a908",
        "colab": {
          "base_uri": "https://localhost:8080/",
          "height": 35
        }
      },
      "source": [
        "# Get how likey it is to be cloudy\n",
        "likely_cloudy = tab[0]/(tab[0] + tab[1])\n",
        "likely_cloudy"
      ],
      "execution_count": 53,
      "outputs": [
        {
          "output_type": "execute_result",
          "data": {
            "text/plain": [
              "0.3"
            ]
          },
          "metadata": {
            "tags": []
          },
          "execution_count": 53
        }
      ]
    },
    {
      "cell_type": "markdown",
      "metadata": {
        "id": "faBVeUHdDfvw",
        "colab_type": "text"
      },
      "source": [
        "The real utility of probabilistic programming is in the ability to condition generative models on observed data and infer the latent factors that might have produced that data. \n",
        "\n",
        "Pyro separate the expression of conditioning from its evaluation via inference, making it possible to write a model once and condition it on many different observations. Pyro supports constraining a model’s internal sample statements to be equal to a given set of observations."
      ]
    },
    {
      "cell_type": "markdown",
      "metadata": {
        "id": "mrst3Yq0DLAa",
        "colab_type": "text"
      },
      "source": [
        "# log probabilities\n",
        "\n",
        "What is the difference between a sample from a normal distribution, log probability of that sample, log probability exp of that sample\n"
      ]
    },
    {
      "cell_type": "code",
      "metadata": {
        "id": "SYsYQ4PVDNjt",
        "colab_type": "code",
        "colab": {
          "base_uri": "https://localhost:8080/",
          "height": 301
        },
        "outputId": "c040a300-a95c-45cc-8988-8ee366a837b7"
      },
      "source": [
        "normal = dist.Normal(0,1)\n",
        "print(normal)\n",
        "\n",
        "sample = normal.sample()\n",
        "print(sample)\n",
        "\n",
        "sample = normal.sample(sample_shape=[3,4,5])\n",
        "print(sample)\n"
      ],
      "execution_count": 136,
      "outputs": [
        {
          "output_type": "stream",
          "text": [
            "Normal(loc: 0.0, scale: 1.0)\n",
            "tensor(-0.7856)\n",
            "tensor([[[-1.0310, -0.2372, -0.2939, -0.0345, -1.2909],\n",
            "         [ 0.5041, -0.2480, -2.2423,  0.6651,  0.0460],\n",
            "         [ 0.0063,  1.5112,  0.8163, -0.2369, -0.5550],\n",
            "         [-0.5904,  0.1580,  0.1481,  0.1842, -1.4677]],\n",
            "\n",
            "        [[-0.5815, -1.1745,  0.5043, -0.2988,  0.7409],\n",
            "         [-1.1260,  0.3113, -1.2979, -0.6521, -0.8878],\n",
            "         [ 0.1813,  0.7919, -1.3477,  1.1076,  0.8875],\n",
            "         [-1.1023, -0.0266,  0.6935,  0.4347,  0.8148]],\n",
            "\n",
            "        [[-0.6296,  0.7037,  1.6643,  0.7298, -0.5734],\n",
            "         [ 0.3999,  0.0161,  0.7690, -0.8167,  0.6825],\n",
            "         [-1.2659, -0.5452,  0.2551,  0.1201,  0.2503],\n",
            "         [ 0.9352, -0.7729, -1.1063,  0.4798,  1.2707]]])\n"
          ],
          "name": "stdout"
        }
      ]
    },
    {
      "cell_type": "code",
      "metadata": {
        "id": "vTIyGUcHDfeV",
        "colab_type": "code",
        "colab": {
          "base_uri": "https://localhost:8080/",
          "height": 266
        },
        "outputId": "27551b9c-0155-437c-9f02-ef8a53e8f759"
      },
      "source": [
        "normal.log_prob(sample)"
      ],
      "execution_count": 139,
      "outputs": [
        {
          "output_type": "execute_result",
          "data": {
            "text/plain": [
              "tensor([[[-1.4504, -0.9471, -0.9621, -0.9195, -1.7521],\n",
              "         [-1.0460, -0.9497, -3.4328, -1.1401, -0.9200],\n",
              "         [-0.9190, -2.0609, -1.2521, -0.9470, -1.0730],\n",
              "         [-1.0932, -0.9314, -0.9299, -0.9359, -1.9961]],\n",
              "\n",
              "        [[-1.0880, -1.6087, -1.0461, -0.9636, -1.1934],\n",
              "         [-1.5529, -0.9674, -1.7612, -1.1316, -1.3130],\n",
              "         [-0.9354, -1.2325, -1.8271, -1.5324, -1.3127],\n",
              "         [-1.5265, -0.9193, -1.1594, -1.0134, -1.2509]],\n",
              "\n",
              "        [[-1.1171, -1.1666, -2.3039, -1.1852, -1.0833],\n",
              "         [-0.9989, -0.9191, -1.2146, -1.2524, -1.1518],\n",
              "         [-1.7202, -1.0675, -0.9515, -0.9262, -0.9503],\n",
              "         [-1.3563, -1.2176, -1.5309, -1.0340, -1.7263]]])"
            ]
          },
          "metadata": {
            "tags": []
          },
          "execution_count": 139
        }
      ]
    },
    {
      "cell_type": "code",
      "metadata": {
        "id": "b-Yz1xnWD0df",
        "colab_type": "code",
        "colab": {
          "base_uri": "https://localhost:8080/",
          "height": 266
        },
        "outputId": "ca260c28-653f-4dd0-cb9b-f57076350f97"
      },
      "source": [
        "normal.log_prob(sample).exp()"
      ],
      "execution_count": 140,
      "outputs": [
        {
          "output_type": "execute_result",
          "data": {
            "text/plain": [
              "tensor([[[0.2345, 0.3879, 0.3821, 0.3987, 0.1734],\n",
              "         [0.3513, 0.3869, 0.0323, 0.3198, 0.3985],\n",
              "         [0.3989, 0.1273, 0.2859, 0.3879, 0.3420],\n",
              "         [0.3351, 0.3940, 0.3946, 0.3922, 0.1359]],\n",
              "\n",
              "        [[0.3369, 0.2002, 0.3513, 0.3815, 0.3032],\n",
              "         [0.2116, 0.3801, 0.1718, 0.3225, 0.2690],\n",
              "         [0.3924, 0.2916, 0.1609, 0.2160, 0.2691],\n",
              "         [0.2173, 0.3988, 0.3137, 0.3630, 0.2863]],\n",
              "\n",
              "        [[0.3272, 0.3114, 0.0999, 0.3057, 0.3385],\n",
              "         [0.3683, 0.3989, 0.2968, 0.2858, 0.3161],\n",
              "         [0.1790, 0.3439, 0.3862, 0.3961, 0.3866],\n",
              "         [0.2576, 0.2959, 0.2163, 0.3556, 0.1779]]])"
            ]
          },
          "metadata": {
            "tags": []
          },
          "execution_count": 140
        }
      ]
    },
    {
      "cell_type": "markdown",
      "metadata": {
        "id": "JrgzswP4D8hd",
        "colab_type": "text"
      },
      "source": [
        "Multiple distributions can be embedded in single object, as shown in this example, where three Normal distributions with different means and same scale are defined in a single object."
      ]
    },
    {
      "cell_type": "code",
      "metadata": {
        "id": "7uymMVR1D9yG",
        "colab_type": "code",
        "colab": {
          "base_uri": "https://localhost:8080/",
          "height": 88
        },
        "outputId": "9d7569f7-b07c-497b-ace2-116859078c33"
      },
      "source": [
        "# 3 normal distributions with mean different std same\n",
        "\n",
        "normal = dist.Normal(torch.tensor([1.,2.,3.]),1.)\n",
        "print(normal)\n",
        "\n",
        "# If you sample from such a distribution you get 3 samples, each from 3 of the distributions\n",
        "print(normal.sample())\n",
        "\n",
        "print(normal.log_prob(normal.sample()))\n",
        "\n",
        "print(normal.log_prob(normal.sample()).exp())"
      ],
      "execution_count": 146,
      "outputs": [
        {
          "output_type": "stream",
          "text": [
            "Normal(loc: torch.Size([3]), scale: torch.Size([3]))\n",
            "tensor([1.7538, 3.1476, 3.0993])\n",
            "tensor([-3.0362, -1.0743, -1.8386])\n",
            "tensor([0.2408, 0.3551, 0.2698])\n"
          ],
          "name": "stdout"
        }
      ]
    },
    {
      "cell_type": "markdown",
      "metadata": {
        "id": "9gS2BreADnpb",
        "colab_type": "text"
      },
      "source": [
        "# Introduction to conditioning\n",
        " "
      ]
    },
    {
      "cell_type": "markdown",
      "metadata": {
        "id": "xvr0DrHNfykZ",
        "colab_type": "text"
      },
      "source": [
        "Attempting the same question of weather model using conditionaing:\n",
        "If I observe a temperature of 70 degrees, how likely is it to be cloudy?"
      ]
    },
    {
      "cell_type": "markdown",
      "metadata": {
        "id": "SJuh5U3mjdFx",
        "colab_type": "text"
      },
      "source": [
        "Pyro provides the function pyro.condition to allow us to constrain the values of sample statements. pyro.condition is a higher-order function that takes a model and a dictionary of observations and returns a new model that has the same input and output signatures but always uses the given values at observed sample statements:"
      ]
    },
    {
      "cell_type": "markdown",
      "metadata": {
        "id": "SQ-QrAT7ft-J",
        "colab_type": "text"
      },
      "source": [
        "# Weather model: Conditioning example 1"
      ]
    },
    {
      "cell_type": "code",
      "metadata": {
        "id": "yr0MsP9-gBUc",
        "colab_type": "code",
        "colab": {
          "base_uri": "https://localhost:8080/",
          "height": 35
        },
        "outputId": "bd1bd470-02a8-4880-cb5c-f79e705e30a0"
      },
      "source": [
        "# Find the probability of being cloudy and temperature equal to 60\n",
        "# Model functions\n",
        "def find_weather():\n",
        "  # sample 0 or 1 from a bernouli distribution\n",
        "  weather = pyro.sample('weather', pyro.distributions.Bernoulli(0.3))\n",
        "  \n",
        "  # convert 0 or 1 to cloudy or sunny\n",
        "  weather = 'cloudy' if weather.item() == 1.0 else 'sunny'\n",
        "  \n",
        "  # subset corresponding mean temp out of a dictionary\n",
        "  mean_temp = {'cloudy': 55.0, 'sunny':75.0}[weather]\n",
        "  \n",
        "  var_temp =  {'cloudy': 10.0, 'sunny': 15.0}[weather]\n",
        "  \n",
        "  # sample from a normal distribution using the above mean and var\n",
        "  temp = pyro.sample('temp',\n",
        "                     pyro.distributions.Normal(mean_temp, var_temp))\n",
        "  \n",
        "  # return the weather and temp\n",
        "  return weather, temp.item()\n",
        "\n",
        "\n",
        "trace(cond_model).get_trace().log_prob_sum().exp()\n",
        "\n",
        "\n",
        "# Conditioning functions\n",
        "def weather_model(weather, temp):\n",
        "  cond_model = condition(find_weather, {\n",
        "                  \"weather\": weather,\n",
        "                  \"temp\": temp\n",
        "              })\n",
        "  \n",
        "  output = trace(cond_model).get_trace().log_prob_sum().exp()\n",
        "  \n",
        "  # Perform importance sampling\n",
        "  #posterior = pyro.infer.Importance(cond_model, num_samples = 1000)\n",
        "  \n",
        "  #marginal = pyro.infer.EmpiricalMarginal(posterior.run())\n",
        "  \n",
        "  return output.item()\n",
        "\n",
        "weather = torch.tensor(1.)\n",
        "temp = torch.tensor(60.0)\n",
        "\n",
        "weather_model(weather, temp)\n"
      ],
      "execution_count": 72,
      "outputs": [
        {
          "output_type": "execute_result",
          "data": {
            "text/plain": [
              "0.010561957955360413"
            ]
          },
          "metadata": {
            "tags": []
          },
          "execution_count": 72
        }
      ]
    },
    {
      "cell_type": "markdown",
      "metadata": {
        "id": "_t07Ut2YfnOp",
        "colab_type": "text"
      },
      "source": [
        "# Scale model: Conditioning example 2"
      ]
    },
    {
      "cell_type": "markdown",
      "metadata": {
        "id": "zAWmeUQDUyi_",
        "colab_type": "text"
      },
      "source": [
        "**Talks about a noisy scale, and model that as a random normal, with its mean being a sample from a normal around our guess.** The scale output is generated following a normal distribution around the real value, which is weight. Saying that this real value was drawn from our prior is simply a way to penalize unlikely observations"
      ]
    },
    {
      "cell_type": "markdown",
      "metadata": {
        "id": "TxDOi3396m2y",
        "colab_type": "text"
      },
      "source": [
        "Suppose we are trying to figure out how much something weighs, but the scale we’re using is unreliable and gives slightly different answers every time we weigh the same object. We could try to compensate for this variability by integrating the noisy measurement information with a guess based on some prior knowledge about the object, like its density or material properties. \n",
        "\n",
        "1. We will build a model that takes input as a guess weight and to have some stochasticity, we will use this as the mean and draw a sample from a normal distribution. Using this sample, we will again use this as the mean and sample from another normal distribution, to be as close to our guess. Imagine this to be a model, it has nothing to do with bayesian statistics. Just a simple stochastic model that gives different measures everytime we measure. \n",
        "\n",
        "2. As a next step, we want to have the same object weighed multiple times to estimate the exact value of the object. So we will use condition to input 9.5 as the guess all the time and get back different measurements as output. \n",
        "\n",
        "3. Once it is done, we will use this model as the MODEL and create a guide function to approximate to this distribution of object weights. Imagine that we do not know how this distribution looks like. \n",
        "\n",
        "The guide is made in such a way that it has the parameters mu and sigma to be learned. a is close to our \"guess\", which we provided inside the model. b is the approximate standard deviation we think it is. Further, we call the guide function and get a normally distributed sample. You have to make sure at this point that the names of the sampled parameters \"weight\" needs to be same in both model and guide functions. \n",
        "\n",
        "Once all these steps are done, we will use stochastic variational inference. "
      ]
    },
    {
      "cell_type": "code",
      "metadata": {
        "id": "d6KwgKqVTjVm",
        "colab_type": "code",
        "colab": {}
      },
      "source": [
        "def scale(guess):\n",
        "  weight = pyro.sample('weight', pyro.distributions.Normal(guess, 1.0))\n",
        "  return pyro.sample('measurement', pyro.distributions.Normal(weight, 0.75))\n"
      ],
      "execution_count": 0,
      "outputs": []
    },
    {
      "cell_type": "code",
      "metadata": {
        "id": "iK2l2TtgTjYx",
        "colab_type": "code",
        "outputId": "77c9984b-0e53-41dc-df7b-f7a0afbe922a",
        "colab": {
          "base_uri": "https://localhost:8080/",
          "height": 284
        }
      },
      "source": [
        "generate_data = [scale(15).numpy() for i in range(100)]\n",
        "sns.distplot(generate_data)"
      ],
      "execution_count": 28,
      "outputs": [
        {
          "output_type": "execute_result",
          "data": {
            "text/plain": [
              "<matplotlib.axes._subplots.AxesSubplot at 0x7f63f4776748>"
            ]
          },
          "metadata": {
            "tags": []
          },
          "execution_count": 28
        },
        {
          "output_type": "display_data",
          "data": {
            "image/png": "[encoded data removed]",
            "text/plain": [
              "<Figure size 432x288 with 1 Axes>"
            ]
          },
          "metadata": {
            "tags": []
          }
        }
      ]
    },
    {
      "cell_type": "markdown",
      "metadata": {
        "id": "9TreV9MOg9oX",
        "colab_type": "text"
      },
      "source": [
        "You can define condition as a statement or a function as shown .below in cells"
      ]
    },
    {
      "cell_type": "code",
      "metadata": {
        "id": "C_Q7lQhJclcX",
        "colab_type": "code",
        "colab": {}
      },
      "source": [
        "# Conditioned scale \n",
        "conditioned_scale = condition(scale, data = {\"measurement\": 9.50})"
      ],
      "execution_count": 0,
      "outputs": []
    },
    {
      "cell_type": "code",
      "metadata": {
        "id": "H1tT13GDZXJO",
        "colab_type": "code",
        "colab": {}
      },
      "source": [
        "# Conditioned scale as a function\n",
        "def deferred_conditioned_scale(measurement, guess):\n",
        "  return condition(scale, data = {\"measurement\": measurement})(guess) #(guess) because scale takes parameter\n"
      ],
      "execution_count": 0,
      "outputs": []
    },
    {
      "cell_type": "code",
      "metadata": {
        "id": "Oz1G3m_WXuMA",
        "colab_type": "code",
        "outputId": "485bbfde-cc7b-4cc0-ea65-24d698f714c9",
        "colab": {
          "base_uri": "https://localhost:8080/",
          "height": 35
        }
      },
      "source": [
        "deferred_conditioned_scale(9.5, 8.5)"
      ],
      "execution_count": 77,
      "outputs": [
        {
          "output_type": "execute_result",
          "data": {
            "text/plain": [
              "9.5"
            ]
          },
          "metadata": {
            "tags": []
          },
          "execution_count": 77
        }
      ]
    },
    {
      "cell_type": "code",
      "metadata": {
        "id": "QqWi4mZpoM33",
        "colab_type": "code",
        "colab": {
          "base_uri": "https://localhost:8080/",
          "height": 35
        },
        "outputId": "2a5778a1-fd6d-4b9d-ca80-80a58f1f0bfa"
      },
      "source": [
        "def scale(guess):\n",
        "    weight = pyro.sample(\"weight\", dist.Normal(guess, 1.0))\n",
        "    measurement = pyro.sample(\"measurement\", dist.Normal(weight, 0.75))\n",
        "    return measurement\n",
        "\n",
        "scale(14.)\n",
        "\n",
        "conditioned_scale = pyro.condition(scale,{\"measurement\": torch.tensor(14.)})\n",
        "\n",
        "trace(conditioned_scale).get_trace(torch.tensor(14.0)).log_prob_sum().exp()\n"
      ],
      "execution_count": 130,
      "outputs": [
        {
          "output_type": "execute_result",
          "data": {
            "text/plain": [
              "tensor(0.1402)"
            ]
          },
          "metadata": {
            "tags": []
          },
          "execution_count": 130
        }
      ]
    },
    {
      "cell_type": "code",
      "metadata": {
        "id": "Nj2g5ERu3QT0",
        "colab_type": "code",
        "colab": {
          "base_uri": "https://localhost:8080/",
          "height": 52
        },
        "outputId": "0164766d-4a54-4792-ab06-2021b3017339"
      },
      "source": [
        "# Set the prior and infer the posterior. We will use the Hamiltonian Monte Carlo (HMC) inference algorithm with the no U-turn sampler (NUTS), like you would in a language like Stan.\n",
        "from pyro.infer import NUTS, MCMC, EmpiricalMarginal\n",
        "\n",
        "guess_prior = torch.tensor(13.)\n",
        "\n",
        "nuts_kernel = NUTS(conditioned_scale, adapt_step_size=True)\n",
        "posterior = MCMC(nuts_kernel, \n",
        "                 num_samples=1000, \n",
        "                 warmup_steps=300).run(guess_prior)\n",
        "marginal = EmpiricalMarginal(posterior, \"weight\")\n",
        "\n",
        "plt.hist([marginal().item() for _ in range(1000)],)\n",
        "plt.title(\"P(weight | measurement = 14)\")\n",
        "plt.xlabel(\"Weight\")\n",
        "plt.ylabel(\"#\")\n",
        "print(posterior)"
      ],
      "execution_count": 132,
      "outputs": [
        {
          "output_type": "stream",
          "text": [
            "Sample: 100%|██████████| 1300/1300 [00:07, 176.55it/s, step size=1.05e+00, acc. prob=0.935]"
          ],
          "name": "stderr"
        },
        {
          "output_type": "stream",
          "text": [
            "None\n"
          ],
          "name": "stdout"
        },
        {
          "output_type": "stream",
          "text": [
            "\n"
          ],
          "name": "stderr"
        }
      ]
    },
    {
      "cell_type": "markdown",
      "metadata": {
        "id": "Z_XUoiUGasiO",
        "colab_type": "text"
      },
      "source": [
        "# Flexible Approximate Inference With Guide Functions"
      ]
    },
    {
      "cell_type": "markdown",
      "metadata": {
        "id": "3HkXEPxc7YkA",
        "colab_type": "text"
      },
      "source": [
        "## Estimate the distribution over weight given \"guess\" and \"measurement data\".\n"
      ]
    },
    {
      "cell_type": "markdown",
      "metadata": {
        "id": "FrLHsWw88bqk",
        "colab_type": "text"
      },
      "source": [
        "Inference algorithms in Pyro, such as pyro.infer.SVI, allow us to use arbitrary stochastic functions, which we will call guide functions or guides, as approximate posterior distributions. \n",
        "\n",
        "Posterior distribution can be modeled using an approximate distribution, and then distorting it's parameters to approximate the target distribution. We can call this approximate distribution \"GUIDE\" in pyro. \n",
        "\n",
        "**To make inference in Pyro over a given model we need to define a guide, this guide has the same signature than its counterpart model. And the guide must provide samples for those variables of the model which are not observed using again the pyro.sample construct. Guides are also parametrized using Pyro's parameters (pyro.param), so the variational inference algorithm will optimize these parameters.**\n",
        "\n",
        "\n",
        "Guide must satisfy these conditions to to be valid approximations for a particular model.\n",
        "\n",
        "1. All unobserved (i.e., not conditioned) sample statements that appear in the model appear in the guide. \n",
        "\n",
        "2. The guide has the same input signature as the model (i.e., takes the same arguments)\n",
        "\n",
        "**Guide functions can serve as programmable, data-dependent proposal distributions for** importance sampling, rejection sampling, sequential Monte Carlo, MCMC, and independent Metropolis-Hastings, and as variational distributions or inference networks for stochastic variational inference. Currently, importance sampling, MCMC, and stochastic variational inference are implemented in Pyro, and we plan to add other algorithms in the future.\n",
        "\n",
        "Although the precise meaning of the guide is different across different inference algorithms, the guide function should generally be chosen so that, in principle, it is flexible enough to closely approximate the distribution over all unobserved sample statements in the model.\n",
        "\n",
        "In the case of scale, **it turns out that the true posterior distribution over weight given guess and measurement is actually Normal(9.14,0.6)**. As the model is quite simple, we are able to determine our posterior distribution of interest analytically (for derivation\n",
        "\n",
        "\n",
        "Ref: \n",
        "1. https://github.com/probabilisticai/probai-2019\n",
        "2. pyro.ai\n"
      ]
    },
    {
      "cell_type": "code",
      "metadata": {
        "id": "iobJT9BaZDQ3",
        "colab_type": "code",
        "colab": {}
      },
      "source": [
        "def scale_parametrized_guide(guess):\n",
        "    a = pyro.param(\"a\", torch.tensor(guess)) # I guess it is guess\n",
        "    b = pyro.param(\"b\", torch.tensor(1.))    # standard deviation\n",
        "    return pyro.sample(\"weight\",\n",
        "                       pyro.distributions.Normal(a, torch.abs(b)))  "
      ],
      "execution_count": 0,
      "outputs": []
    },
    {
      "cell_type": "markdown",
      "metadata": {
        "id": "TkDo8zgse443",
        "colab_type": "text"
      },
      "source": [
        "As an aside, note that in scale_parametrized_guide, we had to apply torch.abs to parameter b because the standard deviation of a normal distribution has to be positive; similar restrictions also apply to parameters of many other distributions. The PyTorch distributions library, which Pyro is built on, includes a constraints module for enforcing such restrictions, and applying constraints to Pyro parameters is as easy as passing the relevant constraint object to pyro.param:"
      ]
    },
    {
      "cell_type": "code",
      "metadata": {
        "id": "Wz3zHyHUecoD",
        "colab_type": "code",
        "colab": {}
      },
      "source": [
        "def scale_parametrized_guide_constrained(guess):\n",
        "    a = pyro.param(\"a\", torch.tensor(guess))\n",
        "    b = pyro.param(\"b\", torch.tensor(1.), constraint=constraints.positive)\n",
        "    return pyro.sample(\"weight\",\n",
        "                       pyro.distributions.Normal(a, b))  # no more torch.abs"
      ],
      "execution_count": 0,
      "outputs": []
    },
    {
      "cell_type": "markdown",
      "metadata": {
        "id": "KnG1BOsIfjkY",
        "colab_type": "text"
      },
      "source": [
        "Pyro is built to enable stochastic variational inference, a powerful and widely applicable class of variational inference algorithms with three key characteristics:\n",
        "\n",
        "Parameters are always real-valued tensors\n",
        "\n",
        "We compute Monte Carlo estimates of a loss function from samples of execution histories of the model and guide\n",
        "\n",
        "We use stochastic gradient descent to search for the optimal parameters.\n",
        "\n",
        "Combining stochastic gradient descent with PyTorch’s GPU-accelerated tensor math and automatic differentiation allows us to scale variational inference to very high-dimensional parameter spaces and massive datasets."
      ]
    },
    {
      "cell_type": "code",
      "metadata": {
        "id": "8TF0R1MifUzc",
        "colab_type": "code",
        "outputId": "03119a4c-5f6e-4fd1-9c47-eeed6d8f6584",
        "colab": {
          "base_uri": "https://localhost:8080/",
          "height": 330
        }
      },
      "source": [
        "guess = 8.5\n",
        "\n",
        "pyro.clear_param_store()\n",
        "svi = pyro.infer.SVI(model = conditioned_scale,\n",
        "                     guide = scale_parametrized_guide_constrained,\n",
        "                     optim = pyro.optim.SGD({\"lr\":0.001,\n",
        "                                             \"momentum\": 0.1}),\n",
        "                     loss = pyro.infer.Trace_ELBO())\n",
        "\n",
        "losses, a, b = [], [], []\n",
        "num_steps = 2500\n",
        "for t in range(num_steps):\n",
        "  losses.append(svi.step(guess))\n",
        "  a.append(pyro.param(\"a\").item())\n",
        "  b.append(pyro.param(\"b\").item())\n",
        "\n",
        "plt.plot(losses)\n",
        "plt.title(\"ELBO\")\n",
        "plt.xlabel(\"step\")\n",
        "plt.ylabel(\"loss\")\n",
        "print('a = ', pyro.param(\"a\").item())\n",
        "print('b= ', pyro.param(\"b\").item())"
      ],
      "execution_count": 0,
      "outputs": [
        {
          "output_type": "stream",
          "text": [
            "a =  9.149458885192871\n",
            "b=  0.5678160190582275\n"
          ],
          "name": "stdout"
        },
        {
          "output_type": "display_data",
          "data": {
            "image/png": "[encoded data removed]",
            "text/plain": [
              "<Figure size 432x288 with 1 Axes>"
            ]
          },
          "metadata": {
            "tags": []
          }
        }
      ]
    },
    {
      "cell_type": "code",
      "metadata": {
        "id": "hA_sBZ0SfWGl",
        "colab_type": "code",
        "outputId": "02f7c3ba-a2d8-41ed-af22-c3a78ecf5a11",
        "colab": {
          "base_uri": "https://localhost:8080/",
          "height": 297
        }
      },
      "source": [
        "plt.subplot(1,2,1)\n",
        "plt.plot([0,num_steps],[9.14,9.14], 'k:')\n",
        "plt.plot(a)\n",
        "plt.ylabel('a')\n",
        "\n",
        "plt.subplot(1,2,2)\n",
        "plt.ylabel('b')\n",
        "plt.plot([0,num_steps],[0.6,0.6], 'k:')\n",
        "plt.plot(b)\n",
        "plt.tight_layout()"
      ],
      "execution_count": 0,
      "outputs": [
        {
          "output_type": "display_data",
          "data": {
            "image/png": "[encoded data removed]",
            "text/plain": [
              "<Figure size 432x288 with 2 Axes>"
            ]
          },
          "metadata": {
            "tags": []
          }
        }
      ]
    },
    {
      "cell_type": "markdown",
      "metadata": {
        "id": "h2rNnW2Y2ark",
        "colab_type": "text"
      },
      "source": [
        "# Let's look at everything together"
      ]
    },
    {
      "cell_type": "code",
      "metadata": {
        "id": "HLHkksnLgRhL",
        "colab_type": "code",
        "outputId": "c63f293f-4a33-43c5-befc-9e7e10922cb9",
        "colab": {
          "base_uri": "https://localhost:8080/",
          "height": 330
        }
      },
      "source": [
        "'''\n",
        "Estimate the distribution over weight given \"guess\" and \"measurement data\"\n",
        "1. Input: guess weight of the object\n",
        "2. Measurement: Measured weight of the object\n",
        "3. Ouput: Estimate the distribution of weight of the object\n",
        "\n",
        "We will start with guess as the mean(parameter a) and 1(parameter b) as the standard deviation.\n",
        "Using a sampling or SVI method, we can compute the distribution of weight as well as the original value of the parameters a and b\n",
        "'''\n",
        "\n",
        "\n",
        "# Model part\n",
        "# There is a messy scale model that outputs a normal sample using \"a sample from the normal distribution centered around our guess\"\n",
        "def scale(guess):\n",
        "  weight = pyro.sample('weight',\n",
        "                       pyro.distributions.Normal(guess, 1.0))\n",
        "  measurement = pyro.sample('measurement',\n",
        "                            pyro.distributions.Normal(weight,\n",
        "                                                      0.75))\n",
        "  return measurement\n",
        "\n",
        "\n",
        "# conditioning part\n",
        "# We condition our model to always measure a value 9.5\n",
        "conditioned_model = condition(scale, {'measurement':9.5})\n",
        "\n",
        "# Guide\n",
        "# In the guide function we initialize two parameters a and b.\n",
        "# the b (std) needs to be positive therefore we take the toch.abs(b)\n",
        "def guide(guess):\n",
        "  a = pyro.param(\"a\", torch.tensor(guess))\n",
        "  b = pyro.param(\"b\", torch.tensor(1.))\n",
        "  return pyro.sample(\"weight\",\n",
        "                     pyro.distributions.Normal(a, torch.abs(b)))\n",
        "\n",
        "# Approximation\n",
        "# input guess of weight\n",
        "guess = 8.5\n",
        "\n",
        "# clear parameter sore\n",
        "pyro.clear_param_store()\n",
        "\n",
        "# Run variational inferece\n",
        "svi = pyro.infer.SVI(model = conditioned_model,\n",
        "                     guide = guide,\n",
        "                     optim = pyro.optim.SGD({\"lr\":0.001,\n",
        "                                             \"momentum\": 0.1}),\n",
        "                     loss = pyro.infer.Trace_ELBO())\n",
        "\n",
        "# Approximation steps\n",
        "losses, a, b = [], [], []\n",
        "num_steps = 2500\n",
        "\n",
        "for t in range(num_steps):\n",
        "  losses.append(svi.step(guess))\n",
        "  a.append(pyro.param(\"a\").item())\n",
        "  b.append(pyro.param(\"b\").item())\n",
        "\n",
        "plt.plot(losses)\n",
        "plt.title(\"ELBO\")\n",
        "plt.xlabel(\"step\")\n",
        "plt.ylabel(\"loss\")\n",
        "print(\"a= \", pyro.param(\"a\").item())\n",
        "print(\"b= \", pyro.param(\"b\").item())"
      ],
      "execution_count": 134,
      "outputs": [
        {
          "output_type": "stream",
          "text": [
            "a=  9.150297164916992\n",
            "b=  0.5983615517616272\n"
          ],
          "name": "stdout"
        },
        {
          "output_type": "display_data",
          "data": {
            "image/png": "[encoded data removed]",
            "text/plain": [
              "<Figure size 432x288 with 1 Axes>"
            ]
          },
          "metadata": {
            "tags": []
          }
        }
      ]
    },
    {
      "cell_type": "code",
      "metadata": {
        "id": "c7GuuiNN26y6",
        "colab_type": "code",
        "outputId": "3c5a6334-37db-4ceb-dead-199c07cb4555",
        "colab": {
          "base_uri": "https://localhost:8080/",
          "height": 297
        }
      },
      "source": [
        "plt.subplot(1,2,1)\n",
        "plt.plot([0,num_steps],[9.14,9.14], 'k:')\n",
        "plt.plot(a)\n",
        "plt.ylabel('a')\n",
        "\n",
        "plt.subplot(1,2,2)\n",
        "plt.ylabel('b')\n",
        "plt.plot([0,num_steps],[0.6,0.6], 'k:')\n",
        "plt.plot(b)\n",
        "plt.tight_layout()"
      ],
      "execution_count": 0,
      "outputs": [
        {
          "output_type": "display_data",
          "data": {
            "image/png": "[encoded data removed]",
            "text/plain": [
              "<Figure size 432x288 with 2 Axes>"
            ]
          },
          "metadata": {
            "tags": []
          }
        }
      ]
    },
    {
      "cell_type": "markdown",
      "metadata": {
        "id": "BexxelJQN6i5",
        "colab_type": "text"
      },
      "source": [
        "Just like the model, the guide is encoded as a stochastic function guide() that contains pyro.**sample and pyro.param statements. It does not contain observed data, since the guide needs to be a properly normalized distribution.** Note that Pyro enforces that model() and guide() have the same call signature, i.e. both callables should take the same arguments.\n",
        "\n",
        "Since the guide is an approximation to the posterior pθmax(z|x), the guide needs to provide a valid joint probability density over all the latent random variables in the model. Recall that when random variables are specified in Pyro with the primitive statement pyro.sample() the first argument denotes the name of the random variable. These names will be used to align the random variables in the model and guide. To be very explicit, if the model contains a random variable z_1"
      ]
    },
    {
      "cell_type": "markdown",
      "metadata": {
        "id": "iXRDvVu0OP3z",
        "colab_type": "text"
      },
      "source": [
        "Once we’ve specified a guide (we give some explicit examples below), we’re ready to proceed to inference. Learning will be setup as an optimization problem where each iteration of training takes a step in θ−ϕ space that moves the guide closer to the exact posterior. To do this we need to define an appropriate objective function."
      ]
    },
    {
      "cell_type": "markdown",
      "metadata": {
        "id": "g8RF9rXNQWCi",
        "colab_type": "text"
      },
      "source": [
        "# SVI Part1: Coin toss model\n",
        "\n",
        "We finish with a simple example. You’ve been given a two-sided coin. You want to determine whether the coin is fair or not, i.e. whether it falls heads or tails with the same frequency. You have a prior belief about the likely fairness of the coin based on two observations:\n",
        "\n",
        "it’s a standard quarter issued by the US Mint\n",
        "\n",
        "it’s a bit banged up from years of use\n",
        "\n",
        "So while you expect the coin to have been quite fair when it was first produced, you allow for its fairness to have since deviated from a perfect 1:1 ratio. So you wouldn’t be surprised if it turned out that the coin preferred heads over tails at a ratio of 11:10. By contrast you would be very surprised if it turned out that the coin preferred heads over tails at a ratio of **5:1—it’s not that banged up.**\n",
        "\n",
        "\n",
        "To turn this into a probabilistic model we encode heads and tails as 1s and 0s. We encode the fairness of the coin as a real number f, where f satisfies f∈[0.0,1.0] and f=0.50 corresponds to a perfectly fair coin. Our prior belief about f will be encoded by a beta distribution, specifically Beta(10,10), which is a symmetric probability distribution on the interval [0.0,1.0] that is peaked at f=0.5."
      ]
    },
    {
      "cell_type": "code",
      "metadata": {
        "id": "Tj_V3b28S1WO",
        "colab_type": "code",
        "outputId": "d00ee7e6-8bbd-428b-a442-26bceab7d9ba",
        "colab": {
          "base_uri": "https://localhost:8080/",
          "height": 72
        }
      },
      "source": [
        "import math\n",
        "import os\n",
        "import torch\n",
        "import torch.distributions.constraints as constraints\n",
        "import pyro\n",
        "from pyro.optim import Adam\n",
        "from pyro.infer import SVI, Trace_ELBO\n",
        "import pyro.distributions as dist\n",
        "\n",
        "# this is for running the notebook in our testing framework\n",
        "smoke_test = ('CI' in os.environ)\n",
        "n_steps = 2 if smoke_test else 2000\n",
        "\n",
        "# enable validation (e.g. validate parameters of distributions)\n",
        "assert pyro.__version__.startswith('1.2.0')\n",
        "pyro.enable_validation(True)\n",
        "\n",
        "# clear the param store in case we're in a REPL\n",
        "pyro.clear_param_store()\n",
        "\n",
        "# create some data with 6 observed heads and 4 observed tails\n",
        "data = []\n",
        "for _ in range(6):\n",
        "    data.append(torch.tensor(1.0))\n",
        "for _ in range(4):\n",
        "    data.append(torch.tensor(0.0))\n",
        "\n",
        "def model(data):\n",
        "    # define the hyperparameters that control the beta prior\n",
        "    alpha0 = torch.tensor(10.0)\n",
        "    beta0 = torch.tensor(10.0)\n",
        "    # sample f from the beta prior\n",
        "    f = pyro.sample(\"latent_fairness\", dist.Beta(alpha0, beta0))\n",
        "    # loop over the observed data\n",
        "    for i in range(len(data)):\n",
        "        # observe datapoint i using the bernoulli likelihood\n",
        "        pyro.sample(\"obs_{}\".format(i), dist.Bernoulli(f), obs=data[i])\n",
        "\n",
        "def guide(data):\n",
        "    # register the two variational parameters with Pyro\n",
        "    # - both parameters will have initial value 15.0.\n",
        "    # - because we invoke constraints.positive, the optimizer\n",
        "    # will take gradients on the unconstrained parameters\n",
        "    # (which are related to the constrained parameters by a log)\n",
        "    alpha_q = pyro.param(\"alpha_q\", torch.tensor(15.0),\n",
        "                         constraint=constraints.positive)\n",
        "    beta_q = pyro.param(\"beta_q\", torch.tensor(15.0),\n",
        "                        constraint=constraints.positive)\n",
        "    # sample latent_fairness from the distribution Beta(alpha_q, beta_q)\n",
        "    pyro.sample(\"latent_fairness\", dist.Beta(alpha_q, beta_q))\n",
        "\n",
        "# setup the optimizer\n",
        "adam_params = {\"lr\": 0.0005, \"betas\": (0.90, 0.999)}\n",
        "optimizer = Adam(adam_params)\n",
        "\n",
        "# setup the inference algorithm\n",
        "svi = SVI(model, guide, optimizer, loss=Trace_ELBO())\n",
        "\n",
        "# do gradient steps\n",
        "for step in range(n_steps):\n",
        "    svi.step(data)\n",
        "    if step % 100 == 0:\n",
        "        print('.', end='')\n",
        "\n",
        "# grab the learned variational parameters\n",
        "alpha_q = pyro.param(\"alpha_q\").item()\n",
        "beta_q = pyro.param(\"beta_q\").item()\n",
        "\n",
        "# here we use some facts about the beta distribution\n",
        "# compute the inferred mean of the coin's fairness\n",
        "inferred_mean = alpha_q / (alpha_q + beta_q)\n",
        "# compute inferred standard deviation\n",
        "factor = beta_q / (alpha_q * (1.0 + alpha_q + beta_q))\n",
        "inferred_std = inferred_mean * math.sqrt(factor)\n",
        "\n",
        "print(\"\\nbased on the data and our prior belief, the fairness \" +\n",
        "      \"of the coin is %.3f +- %.3f\" % (inferred_mean, inferred_std))"
      ],
      "execution_count": 0,
      "outputs": [
        {
          "output_type": "stream",
          "text": [
            "....................\n",
            "based on the data and our prior belief, the fairness of the coin is 0.535 +- 0.089\n"
          ],
          "name": "stdout"
        }
      ]
    },
    {
      "cell_type": "markdown",
      "metadata": {
        "id": "t4sujQkEXhdq",
        "colab_type": "text"
      },
      "source": [
        "# Sleep model\n",
        "http://willcrichton.net/notes/probabilistic-programming-under-the-hood/"
      ]
    },
    {
      "cell_type": "code",
      "metadata": {
        "id": "JjIylTk2X1Db",
        "colab_type": "code",
        "outputId": "8ad802cc-1250-47e6-efda-86cfab7e1042",
        "colab": {
          "base_uri": "https://localhost:8080/",
          "height": 70
        }
      },
      "source": [
        "def sleep_model():\n",
        "    \n",
        "    # Very likely to feel lazy\n",
        "    feeling_lazy = pyro.sample(\"feeling_lazy\", dist.Bernoulli(0.9))\n",
        "    \n",
        "    if feeling_lazy:\n",
        "        \n",
        "        # Only going to (possibly) ignore my alarm if I'm feeling lazy\n",
        "        ignore_alarm = pyro.sample(\"ignore_alarm\", dist.Bernoulli(0.8))\n",
        "        \n",
        "        # Will sleep more if I ignore my alarm\n",
        "        amount_slept = pyro.sample(\"amount_slept\",\n",
        "                              dist.Normal(8 + 2 * ignore_alarm, 1))\n",
        "    else:\n",
        "        amount_slept = pyro.sample(\"amount_slept\", dist.Normal(6, 1))\n",
        "    \n",
        "    return amount_slept\n",
        "\n",
        "print(sleep_model())\n",
        "\n",
        "print(sleep_model()) \n",
        "\n",
        "print(sleep_model()) "
      ],
      "execution_count": 43,
      "outputs": [
        {
          "output_type": "stream",
          "text": [
            "tensor(6.1913)\n",
            "tensor(9.2602)\n",
            "tensor(10.2821)\n"
          ],
          "name": "stdout"
        }
      ]
    },
    {
      "cell_type": "markdown",
      "metadata": {
        "id": "iqFQxIzYcw6q",
        "colab_type": "text"
      },
      "source": [
        "# What is trace ?\n",
        "\n",
        "Ref: https://github.com/pyro-ppl/pyro/blob/dev/pyro/poutine/trace_messenger.py\n",
        "\n",
        "Return a handler that records the inputs and outputs of primitive calls\n",
        "and their dependencies.\n",
        "\n",
        "I think trace calculates the joint or conditional probability of an event happening when the model is asked to make decisions backward(Something close like this)\n",
        "\n",
        "Trace traces backs to the beginning of a model from the output and gets all parameter values of the model\n",
        "\n",
        "\n",
        "    \n",
        "    Consider the following Pyro program:\n",
        "        >>> def model(x):\n",
        "        ...     s = pyro.param(\"s\", torch.tensor(0.5))\n",
        "        ...     z = pyro.sample(\"z\", dist.Normal(x, s))\n",
        "        ...     return z ** 2\n",
        "    We can record its execution using ``trace``\n",
        "    and use the resulting data structure to compute the log-joint probability\n",
        "    of all of the sample sites in the execution or extract all parameters.\n",
        "        >>> trace = pyro.poutine.trace(model).get_trace(0.0)\n",
        "        >>> logp = trace.log_prob_sum()\n",
        "        >>> params = [trace.nodes[name][\"value\"].unconstrained() for name in trace.param_nodes]"
      ]
    },
    {
      "cell_type": "code",
      "metadata": {
        "id": "I0EyMoK-da8M",
        "colab_type": "code",
        "colab": {
          "base_uri": "https://localhost:8080/",
          "height": 238
        },
        "outputId": "6731392b-60e1-4413-beaa-3c99074d6e8c"
      },
      "source": [
        "def model(x):\n",
        "    s = pyro.param(\"s\", torch.tensor(0.5))\n",
        "    z = pyro.sample(\"z\", dist.Normal(x, s))\n",
        "    return z ** 2\n",
        "\n",
        "trace = pyro.poutine.trace(model).get_trace(5.0)\n",
        "print(trace)\n",
        "logp = trace.log_prob_sum()\n",
        "print(logp)\n",
        "params = [trace.nodes[name][\"value\"].unconstrained() for name in trace.param_nodes]\n",
        "print(params)"
      ],
      "execution_count": 1,
      "outputs": [
        {
          "output_type": "error",
          "ename": "NameError",
          "evalue": "ignored",
          "traceback": [
            "\u001b[0;31m---------------------------------------------------------------------------\u001b[0m",
            "\u001b[0;31mNameError\u001b[0m                                 Traceback (most recent call last)",
            "\u001b[0;32m<ipython-input-1-a55fa5656595>\u001b[0m in \u001b[0;36m<module>\u001b[0;34m()\u001b[0m\n\u001b[1;32m      4\u001b[0m     \u001b[0;32mreturn\u001b[0m \u001b[0mz\u001b[0m \u001b[0;34m**\u001b[0m \u001b[0;36m2\u001b[0m\u001b[0;34m\u001b[0m\u001b[0;34m\u001b[0m\u001b[0m\n\u001b[1;32m      5\u001b[0m \u001b[0;34m\u001b[0m\u001b[0m\n\u001b[0;32m----> 6\u001b[0;31m \u001b[0mtrace\u001b[0m \u001b[0;34m=\u001b[0m \u001b[0mpyro\u001b[0m\u001b[0;34m.\u001b[0m\u001b[0mpoutine\u001b[0m\u001b[0;34m.\u001b[0m\u001b[0mtrace\u001b[0m\u001b[0;34m(\u001b[0m\u001b[0mmodel\u001b[0m\u001b[0;34m)\u001b[0m\u001b[0;34m.\u001b[0m\u001b[0mget_trace\u001b[0m\u001b[0;34m(\u001b[0m\u001b[0;36m5.0\u001b[0m\u001b[0;34m)\u001b[0m\u001b[0;34m\u001b[0m\u001b[0;34m\u001b[0m\u001b[0m\n\u001b[0m\u001b[1;32m      7\u001b[0m \u001b[0mprint\u001b[0m\u001b[0;34m(\u001b[0m\u001b[0mtrace\u001b[0m\u001b[0;34m)\u001b[0m\u001b[0;34m\u001b[0m\u001b[0;34m\u001b[0m\u001b[0m\n\u001b[1;32m      8\u001b[0m \u001b[0mlogp\u001b[0m \u001b[0;34m=\u001b[0m \u001b[0mtrace\u001b[0m\u001b[0;34m.\u001b[0m\u001b[0mlog_prob_sum\u001b[0m\u001b[0;34m(\u001b[0m\u001b[0;34m)\u001b[0m\u001b[0;34m\u001b[0m\u001b[0;34m\u001b[0m\u001b[0m\n",
            "\u001b[0;31mNameError\u001b[0m: name 'pyro' is not defined"
          ]
        }
      ]
    },
    {
      "cell_type": "code",
      "metadata": {
        "id": "fB5EMgCX-JvF",
        "colab_type": "code",
        "colab": {}
      },
      "source": [
        "# Runs the sleep model once and collects a trace\n",
        "tr = trace(sleep_model).get_trace()"
      ],
      "execution_count": 0,
      "outputs": []
    },
    {
      "cell_type": "markdown",
      "metadata": {
        "id": "QM4ahs1SjQ_R",
        "colab_type": "text"
      },
      "source": [
        "## Joint probability of a sample: what is the probability that feeling_lazy = 1, ignore_alarm = 0, amount_slept = 10?"
      ]
    },
    {
      "cell_type": "code",
      "metadata": {
        "id": "KrLmbUtOVZuW",
        "colab_type": "code",
        "colab": {
          "base_uri": "https://localhost:8080/",
          "height": 35
        },
        "outputId": "f23712de-ccf3-4576-bb9f-f3675cce0690"
      },
      "source": [
        "cond_model = condition(sleep_model, {\n",
        "    \"feeling_lazy\": torch.tensor(1.),\n",
        "    \"ignore_alarm\": torch.tensor(0.),\n",
        "    \"amount_slept\": torch.tensor(10.)\n",
        "})\n",
        "\n",
        "trace(cond_model).get_trace().log_prob_sum().exp() # 0.0097"
      ],
      "execution_count": 60,
      "outputs": [
        {
          "output_type": "execute_result",
          "data": {
            "text/plain": [
              "tensor(0.0097)"
            ]
          },
          "metadata": {
            "tags": []
          },
          "execution_count": 60
        }
      ]
    },
    {
      "cell_type": "markdown",
      "metadata": {
        "id": "vSoDT6gxju7Z",
        "colab_type": "text"
      },
      "source": [
        "Here, condition means “force the sample to return the provided value, and compute the trace probability as if that value was sampled.” So for example, forcing feeling_lazy to 1 means the trace starts with probability 0.9. "
      ]
    },
    {
      "cell_type": "markdown",
      "metadata": {
        "id": "iI6OpaATj_fP",
        "colab_type": "text"
      },
      "source": [
        "we can look at the marginal distribution over each variable:"
      ]
    },
    {
      "cell_type": "code",
      "metadata": {
        "id": "3svs9VjhkAh4",
        "colab_type": "code",
        "colab": {
          "base_uri": "https://localhost:8080/",
          "height": 370
        },
        "outputId": "f5756e64-f0a2-49b7-f6a7-01cfb250f5ea"
      },
      "source": [
        "traces = []\n",
        "\n",
        "for _ in range(1000):\n",
        "  tr = trace(sleep_model).get_trace()\n",
        "\n",
        "  values = {\n",
        "      name: props['value'].item()\n",
        "      for(name, props) in tr.nodes.items()\n",
        "      if props['type'] == 'sample'\n",
        "  }\n",
        "  traces.append(values)\n",
        "\n",
        "pd.DataFrame(traces).hist()"
      ],
      "execution_count": 62,
      "outputs": [
        {
          "output_type": "execute_result",
          "data": {
            "text/plain": [
              "array([[<matplotlib.axes._subplots.AxesSubplot object at 0x7f9ca65240f0>,\n",
              "        <matplotlib.axes._subplots.AxesSubplot object at 0x7f9ca5fb6160>],\n",
              "       [<matplotlib.axes._subplots.AxesSubplot object at 0x7f9ca5f662b0>,\n",
              "        <matplotlib.axes._subplots.AxesSubplot object at 0x7f9ca5f95668>]],\n",
              "      dtype=object)"
            ]
          },
          "metadata": {
            "tags": []
          },
          "execution_count": 62
        },
        {
          "output_type": "display_data",
          "data": {
            "image/png": "[encoded data removed]",
            "text/plain": [
              "<Figure size 432x288 with 4 Axes>"
            ]
          },
          "metadata": {
            "tags": []
          }
        }
      ]
    },
    {
      "cell_type": "markdown",
      "metadata": {
        "id": "Tcg5GpKnwfhX",
        "colab_type": "text"
      },
      "source": [
        "## Sampling conditional distributions\n",
        "\n",
        "Here’s a few more questions we might want to answer.\n",
        "\n",
        "Given I slept 6 hours, what is the probability I was feeling lazy?\n",
        "What is the probability of me sleeping exactly 7.65 hours?"
      ]
    },
    {
      "cell_type": "markdown",
      "metadata": {
        "id": "4w5CI-1ywfkP",
        "colab_type": "text"
      },
      "source": [
        "These are conditional probability questions, meaning they ask: given a particular value of some of the random variables, what are the likely values for the other random variables? The probability folk tend to call these “observed” and “latent” variables (often denoted by X and Z), respectively. A common use case for generative models is that the generated object is the thing you observe in the real world (like an image), and you want to guess the values of unobserved variables given that observation (like whether the image is a cat or a dog)."
      ]
    },
    {
      "cell_type": "markdown",
      "metadata": {
        "id": "FMJwNFNywfmw",
        "colab_type": "text"
      },
      "source": [
        "## Variational Inference 1: Autodifferentiation\n",
        "\n",
        "Since Pyro’s stake in the ground is on variational inference, let’s explore all the mechanics underneath it. For starters, we need to understand autodifferentiation, gradients, and backpropagation in PyTorch. Let’s say I have an extremely simple model that just samples a normal distribution with fixed parameters:"
      ]
    },
    {
      "cell_type": "code",
      "metadata": {
        "id": "hQdVAxxs7k1v",
        "colab_type": "code",
        "colab": {}
      },
      "source": [
        "norm = dist.Normal(0, 1)\n",
        "x = pyro.sample(\"x\", norm)"
      ],
      "execution_count": 0,
      "outputs": []
    },
    {
      "cell_type": "markdown",
      "metadata": {
        "id": "LPy5xXAz_yyO",
        "colab_type": "text"
      },
      "source": [
        "However, let’s say I know the value of x = 5 and I want to find a mean μ to the normal distribution that maximizes the probability of seeing that x. For that, we can use a parameter:"
      ]
    },
    {
      "cell_type": "code",
      "metadata": {
        "id": "J1-4sKuj_zNU",
        "colab_type": "code",
        "colab": {}
      },
      "source": [
        "mu = param(\"mu\", torch.tensor(0.))\n",
        "\n",
        "norm = dist.Normal(mu, 1)\n",
        "\n",
        "x = pyro.sample(\"x\", norm)\n"
      ],
      "execution_count": 0,
      "outputs": []
    },
    {
      "cell_type": "markdown",
      "metadata": {
        "id": "-UnnIs5XAVQG",
        "colab_type": "text"
      },
      "source": [
        "A parameter is a persistent value linked to a string name with an initial value here of 0. It is torch tensor with requires_grad = True. Our goal is to update mu such that the probability of the value 5 under the normal distribution norm is maximized. Pytorch makes that quite easy. "
      ]
    },
    {
      "cell_type": "code",
      "metadata": {
        "id": "iWDw56-fAprh",
        "colab_type": "code",
        "colab": {
          "base_uri": "https://localhost:8080/",
          "height": 88
        },
        "outputId": "ea9365ef-89b1-4a40-b569-15606fe9a7a6"
      },
      "source": [
        "prob = norm.log_prob(5)\n",
        "print(prob, prob.exp())\n",
        "\n",
        "prob.backward()\n",
        "\n",
        "print(mu)\n",
        "print(mu.grad)\n",
        "\n",
        "mu.data += mu.grad\n",
        "print(dist.Normal(mu, 1).log_prob(5))"
      ],
      "execution_count": 67,
      "outputs": [
        {
          "output_type": "stream",
          "text": [
            "tensor(-13.4189, grad_fn=<SubBackward0>) tensor(1.4867e-06, grad_fn=<ExpBackward>)\n",
            "tensor(0., requires_grad=True)\n",
            "tensor(5.)\n",
            "tensor(-0.9189, grad_fn=<SubBackward0>)\n"
          ],
          "name": "stdout"
        }
      ]
    },
    {
      "cell_type": "code",
      "metadata": {
        "id": "ezF3gbY1BqZK",
        "colab_type": "code",
        "colab": {}
      },
      "source": [
        "# Learning from a bunch of observations\n",
        "\n",
        "In this case, we assume we have a bunch of observations about the temperature at different time steps. In this case, following a probabilistic modelling approach, we define a bunch of random variables, one for each observation, using a standard for-loop.\n"
      ],
      "execution_count": 0,
      "outputs": []
    }
  ]
}