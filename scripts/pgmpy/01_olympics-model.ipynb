{
  "nbformat": 4,
  "nbformat_minor": 0,
  "metadata": {
    "kernelspec": {
      "display_name": "Python 3",
      "language": "python",
      "name": "python3"
    },
    "language_info": {
      "codemirror_mode": {
        "name": "ipython",
        "version": 3
      },
      "file_extension": ".py",
      "mimetype": "text/x-python",
      "name": "python",
      "nbconvert_exporter": "python",
      "pygments_lexer": "ipython3",
      "version": "3.5.2"
    },
    "colab": {
      "name": "01-olympics.ipynb",
      "provenance": []
    }
  },
  "cells": [
    {
      "cell_type": "markdown",
      "metadata": {
        "id": "Jsu32hAfChGU",
        "colab_type": "text"
      },
      "source": [
        "https://www.youtube.com/watch?v=DEHqIxX1Kq4"
      ]
    },
    {
      "cell_type": "code",
      "metadata": {
        "id": "XUsNTRloKXRu",
        "colab_type": "code",
        "outputId": "b537fd9a-b74a-43a4-a182-7defc631b25c",
        "colab": {
          "base_uri": "https://localhost:8080/",
          "height": 120
        }
      },
      "source": [
        "from google.colab import drive\n",
        "import os\n",
        "drive.mount('gdrive')"
      ],
      "execution_count": 0,
      "outputs": [
        {
          "output_type": "stream",
          "text": [
            "Go to this URL in a browser: https://accounts.google.com/o/oauth2/auth?client_id=947318989803-6bn6qk8qdgf4n4g3pfee6491hc0brc4i.apps.googleusercontent.com&redirect_uri=urn%3aietf%3awg%3aoauth%3a2.0%3aoob&response_type=code&scope=email%20https%3a%2f%2fwww.googleapis.com%2fauth%2fdocs.test%20https%3a%2f%2fwww.googleapis.com%2fauth%2fdrive%20https%3a%2f%2fwww.googleapis.com%2fauth%2fdrive.photos.readonly%20https%3a%2f%2fwww.googleapis.com%2fauth%2fpeopleapi.readonly\n",
            "\n",
            "Enter your authorization code:\n",
            "··········\n",
            "Mounted at gdrive\n"
          ],
          "name": "stdout"
        }
      ]
    },
    {
      "cell_type": "code",
      "metadata": {
        "id": "F8NrD4SmKxMb",
        "colab_type": "code",
        "outputId": "80af2931-4060-4714-e77b-71836c1d1bcc",
        "colab": {
          "base_uri": "https://localhost:8080/",
          "height": 33
        }
      },
      "source": [
        "import os\n",
        "os.chdir('/content/gdrive/My Drive/Colab_Notebooks/graphical-models/')\n",
        "os.listdir()"
      ],
      "execution_count": 0,
      "outputs": [
        {
          "output_type": "execute_result",
          "data": {
            "text/plain": [
              "['x1.png', 'x2.png']"
            ]
          },
          "metadata": {
            "tags": []
          },
          "execution_count": 11
        }
      ]
    },
    {
      "cell_type": "markdown",
      "metadata": {
        "id": "JJOq2-wtCrJb",
        "colab_type": "text"
      },
      "source": [
        "# Install "
      ]
    },
    {
      "cell_type": "code",
      "metadata": {
        "id": "beUAYXcwBqzh",
        "colab_type": "code",
        "outputId": "1b024e3d-e936-4ce3-e086-d6ac64ddd624",
        "colab": {
          "base_uri": "https://localhost:8080/",
          "height": 333
        }
      },
      "source": [
        "!pip install pgmpy\n",
        "#!git clone https://github.com/pgmpy/pgmpy \n",
        "#!cd pgmpy\n",
        "#!pip install -r requirements.txt\n",
        "#!python setup.py install"
      ],
      "execution_count": 0,
      "outputs": [
        {
          "output_type": "stream",
          "text": [
            "Collecting pgmpy\n",
            "\u001b[?25l  Downloading https://files.pythonhosted.org/packages/68/6b/661a65aa7788f3aff7228ba81625c540917d656f41e3eb031c6d60b0a25d/pgmpy-0.1.10-py3-none-any.whl (339kB)\n",
            "\u001b[K     |████████████████████████████████| 348kB 2.8MB/s \n",
            "\u001b[?25hRequirement already satisfied: tqdm in /usr/local/lib/python3.6/dist-packages (from pgmpy) (4.28.1)\n",
            "Requirement already satisfied: numpy in /usr/local/lib/python3.6/dist-packages (from pgmpy) (1.17.5)\n",
            "Requirement already satisfied: statsmodels in /usr/local/lib/python3.6/dist-packages (from pgmpy) (0.10.2)\n",
            "Requirement already satisfied: pandas in /usr/local/lib/python3.6/dist-packages (from pgmpy) (0.25.3)\n",
            "Requirement already satisfied: joblib in /usr/local/lib/python3.6/dist-packages (from pgmpy) (0.14.1)\n",
            "Requirement already satisfied: torch in /usr/local/lib/python3.6/dist-packages (from pgmpy) (1.4.0)\n",
            "Requirement already satisfied: scipy in /usr/local/lib/python3.6/dist-packages (from pgmpy) (1.4.1)\n",
            "Requirement already satisfied: networkx in /usr/local/lib/python3.6/dist-packages (from pgmpy) (2.4)\n",
            "Requirement already satisfied: pyparsing in /usr/local/lib/python3.6/dist-packages (from pgmpy) (2.4.6)\n",
            "Requirement already satisfied: patsy>=0.4.0 in /usr/local/lib/python3.6/dist-packages (from statsmodels->pgmpy) (0.5.1)\n",
            "Requirement already satisfied: python-dateutil>=2.6.1 in /usr/local/lib/python3.6/dist-packages (from pandas->pgmpy) (2.6.1)\n",
            "Requirement already satisfied: pytz>=2017.2 in /usr/local/lib/python3.6/dist-packages (from pandas->pgmpy) (2018.9)\n",
            "Requirement already satisfied: decorator>=4.3.0 in /usr/local/lib/python3.6/dist-packages (from networkx->pgmpy) (4.4.1)\n",
            "Requirement already satisfied: six in /usr/local/lib/python3.6/dist-packages (from patsy>=0.4.0->statsmodels->pgmpy) (1.12.0)\n",
            "Installing collected packages: pgmpy\n",
            "Successfully installed pgmpy-0.1.10\n"
          ],
          "name": "stdout"
        }
      ]
    },
    {
      "cell_type": "code",
      "metadata": {
        "id": "DvFe9mJWEzU-",
        "colab_type": "code",
        "colab": {}
      },
      "source": [
        "# https://github.com/AileenNielsen/PyGotham_2016_Probabilistic_Graphical_Models/blob/master/pgmpy.ipynb\n",
        "from pgmpy.factors.discrete import TabularCPD\n",
        "from pgmpy.models import BayesianModel"
      ],
      "execution_count": 0,
      "outputs": []
    },
    {
      "cell_type": "markdown",
      "metadata": {
        "id": "Lt96rJTgBqzl",
        "colab_type": "text"
      },
      "source": [
        "# Setting up your model"
      ]
    },
    {
      "cell_type": "markdown",
      "metadata": {
        "id": "UKcp1wipBqzm",
        "colab_type": "text"
      },
      "source": [
        "### First, set the structure"
      ]
    },
    {
      "cell_type": "markdown",
      "metadata": {
        "id": "qBtC5Zx4NFj_",
        "colab_type": "text"
      },
      "source": [
        "![alt text](https://imghostr.com/image.php?sig=NLWDa2c8Y&h=e715637236ebf90b02fb117052dae147&t=1583961429)"
      ]
    },
    {
      "cell_type": "code",
      "metadata": {
        "id": "hWJu0QmlBqzn",
        "colab_type": "code",
        "colab": {}
      },
      "source": [
        "olympic_model = BayesianModel([('Genetics', 'OlympicTrials'),\n",
        "                             ('Practice', 'OlympicTrials'),\n",
        "                             ('OlympicTrials', 'Offer')])"
      ],
      "execution_count": 0,
      "outputs": []
    },
    {
      "cell_type": "markdown",
      "metadata": {
        "id": "RYAyxzMpBqzp",
        "colab_type": "text"
      },
      "source": [
        "### Then set up the relationships (the CPDs)"
      ]
    },
    {
      "cell_type": "code",
      "metadata": {
        "id": "1mzY7zzLBqzq",
        "colab_type": "code",
        "colab": {}
      },
      "source": [
        "genetics_cpd = TabularCPD(\n",
        "                variable = 'Genetics',\n",
        "                variable_card = 2,\n",
        "                values = [[.2,.8]])"
      ],
      "execution_count": 0,
      "outputs": []
    },
    {
      "cell_type": "code",
      "metadata": {
        "id": "unXSONrABqzs",
        "colab_type": "code",
        "colab": {}
      },
      "source": [
        "practice_cpd = TabularCPD(\n",
        "                variable = 'Practice',\n",
        "                variable_card = 2,\n",
        "                values = [[.7,.3]])"
      ],
      "execution_count": 0,
      "outputs": []
    },
    {
      "cell_type": "code",
      "metadata": {
        "id": "GaCwspp3Bqzv",
        "colab_type": "code",
        "colab": {}
      },
      "source": [
        "offer_cpd = TabularCPD(\n",
        "                    variable = 'Offer',\n",
        "                    variable_card = 2,\n",
        "                    values = [[.95, .8, .5],\n",
        "                             [.05, .2, .5]],\n",
        "                    evidence = ['OlympicTrials'],\n",
        "                    evidence_card = [3])"
      ],
      "execution_count": 0,
      "outputs": []
    },
    {
      "cell_type": "code",
      "metadata": {
        "id": "8vAMDYI4Bqzx",
        "colab_type": "code",
        "colab": {}
      },
      "source": [
        "olympic_trials_cpd = TabularCPD(\n",
        "                        variable = 'OlympicTrials', \n",
        "                        variable_card = 3,\n",
        "                        values = [[.5, .8, .8, .9],\n",
        "                                 [.3, .15, .1, .08],\n",
        "                                 [.2, .05, .1, .02]],\n",
        "                        evidence = ['Genetics', 'Practice'],\n",
        "                        evidence_card = [2,2])"
      ],
      "execution_count": 0,
      "outputs": []
    },
    {
      "cell_type": "markdown",
      "metadata": {
        "id": "MJI23BrhBqz2",
        "colab_type": "text"
      },
      "source": [
        "### Add the relationships to your models"
      ]
    },
    {
      "cell_type": "code",
      "metadata": {
        "id": "NZqp7UjLBqz2",
        "colab_type": "code",
        "colab": {}
      },
      "source": [
        "olympic_model.add_cpds (genetics_cpd, practice_cpd, offer_cpd, olympic_trials_cpd)"
      ],
      "execution_count": 0,
      "outputs": []
    },
    {
      "cell_type": "markdown",
      "metadata": {
        "id": "AhGXaYagBqz5",
        "colab_type": "text"
      },
      "source": [
        "### Examine the structure of your graph"
      ]
    },
    {
      "cell_type": "code",
      "metadata": {
        "id": "FOPdSDkgBqz6",
        "colab_type": "code",
        "outputId": "4e65f885-8cf9-4a8a-c6c4-a919f2977198",
        "colab": {
          "base_uri": "https://localhost:8080/",
          "height": 83
        }
      },
      "source": [
        "olympic_model.get_cpds()"
      ],
      "execution_count": 0,
      "outputs": [
        {
          "output_type": "execute_result",
          "data": {
            "text/plain": [
              "[<TabularCPD representing P(Genetics:2) at 0x7fa1c96a3cc0>,\n",
              " <TabularCPD representing P(Practice:2) at 0x7fa1c96a3cf8>,\n",
              " <TabularCPD representing P(Offer:2 | OlympicTrials:3) at 0x7fa1c963c2e8>,\n",
              " <TabularCPD representing P(OlympicTrials:3 | Genetics:2, Practice:2) at 0x7fa1c963c470>]"
            ]
          },
          "metadata": {
            "tags": []
          },
          "execution_count": 19
        }
      ]
    },
    {
      "cell_type": "markdown",
      "metadata": {
        "id": "U3B0h8G0Bqz9",
        "colab_type": "text"
      },
      "source": [
        "### Find active trail nodes"
      ]
    },
    {
      "cell_type": "code",
      "metadata": {
        "id": "I3_m4gieBqz9",
        "colab_type": "code",
        "outputId": "e0b7c9e1-fb2d-4835-e7c2-f850146cb776",
        "colab": {
          "base_uri": "https://localhost:8080/",
          "height": 33
        }
      },
      "source": [
        "olympic_model.active_trail_nodes('Genetics')"
      ],
      "execution_count": 0,
      "outputs": [
        {
          "output_type": "execute_result",
          "data": {
            "text/plain": [
              "{'Genetics': {'Genetics', 'Offer', 'OlympicTrials'}}"
            ]
          },
          "metadata": {
            "tags": []
          },
          "execution_count": 20
        }
      ]
    },
    {
      "cell_type": "code",
      "metadata": {
        "id": "8_TYcoLxBq0A",
        "colab_type": "code",
        "outputId": "d1f20aab-809d-4b90-9318-f4e46aad276d",
        "colab": {
          "base_uri": "https://localhost:8080/",
          "height": 33
        }
      },
      "source": [
        "olympic_model.active_trail_nodes('OlympicTrials')"
      ],
      "execution_count": 0,
      "outputs": [
        {
          "output_type": "execute_result",
          "data": {
            "text/plain": [
              "{'OlympicTrials': {'Genetics', 'Offer', 'OlympicTrials', 'Practice'}}"
            ]
          },
          "metadata": {
            "tags": []
          },
          "execution_count": 21
        }
      ]
    },
    {
      "cell_type": "markdown",
      "metadata": {
        "id": "QsyFwf9WBq0C",
        "colab_type": "text"
      },
      "source": [
        "### Find local independencies"
      ]
    },
    {
      "cell_type": "code",
      "metadata": {
        "id": "MqrCxQORBq0D",
        "colab_type": "code",
        "outputId": "738b753e-5551-4d05-ddd9-f1b3f31035ee",
        "colab": {
          "base_uri": "https://localhost:8080/",
          "height": 33
        }
      },
      "source": [
        "olympic_model.local_independencies('Genetics')"
      ],
      "execution_count": 0,
      "outputs": [
        {
          "output_type": "execute_result",
          "data": {
            "text/plain": [
              "(Genetics _|_ Practice)"
            ]
          },
          "metadata": {
            "tags": []
          },
          "execution_count": 22
        }
      ]
    },
    {
      "cell_type": "code",
      "metadata": {
        "id": "p9rFOoMKBq0F",
        "colab_type": "code",
        "outputId": "071f1706-77c0-4f91-a8d4-eca3735153a0",
        "colab": {
          "base_uri": "https://localhost:8080/",
          "height": 17
        }
      },
      "source": [
        "olympic_model.local_independencies('OlympicTrials')"
      ],
      "execution_count": 0,
      "outputs": [
        {
          "output_type": "execute_result",
          "data": {
            "text/plain": [
              ""
            ]
          },
          "metadata": {
            "tags": []
          },
          "execution_count": 23
        }
      ]
    },
    {
      "cell_type": "markdown",
      "metadata": {
        "id": "XE3U4Tz4Bq0H",
        "colab_type": "text"
      },
      "source": [
        "### Get all independencies"
      ]
    },
    {
      "cell_type": "code",
      "metadata": {
        "id": "e9XjwqUOBq0I",
        "colab_type": "code",
        "outputId": "cae052e7-d316-40c9-da07-7f84cfb2696e",
        "colab": {
          "base_uri": "https://localhost:8080/",
          "height": 167
        }
      },
      "source": [
        "olympic_model.get_independencies()"
      ],
      "execution_count": 0,
      "outputs": [
        {
          "output_type": "execute_result",
          "data": {
            "text/plain": [
              "(Genetics _|_ Practice)\n",
              "(Genetics _|_ Offer | OlympicTrials)\n",
              "(Genetics _|_ Offer | Practice, OlympicTrials)\n",
              "(Practice _|_ Genetics)\n",
              "(Practice _|_ Offer | OlympicTrials)\n",
              "(Practice _|_ Offer | Genetics, OlympicTrials)\n",
              "(Offer _|_ Practice, Genetics | OlympicTrials)\n",
              "(Offer _|_ Genetics | Practice, OlympicTrials)\n",
              "(Offer _|_ Practice | Genetics, OlympicTrials)"
            ]
          },
          "metadata": {
            "tags": []
          },
          "execution_count": 24
        }
      ]
    },
    {
      "cell_type": "markdown",
      "metadata": {
        "id": "WIUeGsE3Bq0K",
        "colab_type": "text"
      },
      "source": [
        "# Making inferences"
      ]
    },
    {
      "cell_type": "markdown",
      "metadata": {
        "id": "VNBTZq5JBq0L",
        "colab_type": "text"
      },
      "source": [
        "### We can get probability distributions that are not explicitly spelled out in our graphs"
      ]
    },
    {
      "cell_type": "code",
      "metadata": {
        "id": "TvRGcz2pBq0L",
        "colab_type": "code",
        "colab": {}
      },
      "source": [
        "from pgmpy.inference import VariableElimination"
      ],
      "execution_count": 0,
      "outputs": []
    },
    {
      "cell_type": "code",
      "metadata": {
        "id": "RnAr3Yf8Bq0O",
        "colab_type": "code",
        "colab": {}
      },
      "source": [
        "olympic_infer = VariableElimination(olympic_model)"
      ],
      "execution_count": 0,
      "outputs": []
    },
    {
      "cell_type": "markdown",
      "metadata": {
        "id": "_4afLmBm-Tww",
        "colab_type": "text"
      },
      "source": [
        "# What is the probability of getting an offer to any person?"
      ]
    },
    {
      "cell_type": "code",
      "metadata": {
        "id": "_hHH1wGA_TtQ",
        "colab_type": "code",
        "outputId": "f5b9326a-db92-4ce0-f935-9f6d317de902",
        "colab": {
          "base_uri": "https://localhost:8080/",
          "height": 167
        }
      },
      "source": [
        "prob_offer = olympic_infer.query(variables = ['Offer'])\n",
        "print(prob_offer)"
      ],
      "execution_count": 0,
      "outputs": [
        {
          "output_type": "stream",
          "text": [
            "Finding Elimination Order: : 100%|██████████| 3/3 [00:00<00:00, 483.68it/s]\n",
            "Eliminating: OlympicTrials: 100%|██████████| 3/3 [00:00<00:00, 275.62it/s]"
          ],
          "name": "stderr"
        },
        {
          "output_type": "stream",
          "text": [
            "+----------+--------------+\n",
            "| Offer    |   phi(Offer) |\n",
            "+==========+==============+\n",
            "| Offer(0) |       0.8898 |\n",
            "+----------+--------------+\n",
            "| Offer(1) |       0.1102 |\n",
            "+----------+--------------+\n"
          ],
          "name": "stdout"
        },
        {
          "output_type": "stream",
          "text": [
            "\n"
          ],
          "name": "stderr"
        }
      ]
    },
    {
      "cell_type": "markdown",
      "metadata": {
        "id": "XmbbATSsB4X5",
        "colab_type": "text"
      },
      "source": [
        "# Combined probability of offer and genetics"
      ]
    },
    {
      "cell_type": "code",
      "metadata": {
        "id": "q-U-HvsWBq0Q",
        "colab_type": "code",
        "outputId": "9accfa7d-3544-4758-a16f-86252b77ca9b",
        "colab": {
          "base_uri": "https://localhost:8080/",
          "height": 233
        }
      },
      "source": [
        "prob_offer = olympic_infer.query(variables = ['Offer', 'Genetics'])\n",
        "print(prob_offer)"
      ],
      "execution_count": 0,
      "outputs": [
        {
          "output_type": "stream",
          "text": [
            "Finding Elimination Order: : 100%|██████████| 2/2 [00:00<00:00, 225.55it/s]\n",
            "Eliminating: OlympicTrials: 100%|██████████| 2/2 [00:00<00:00, 284.29it/s]"
          ],
          "name": "stderr"
        },
        {
          "output_type": "stream",
          "text": [
            "+-------------+----------+-----------------------+\n",
            "| Genetics    | Offer    |   phi(Genetics,Offer) |\n",
            "+=============+==========+=======================+\n",
            "| Genetics(0) | Offer(0) |                0.1684 |\n",
            "+-------------+----------+-----------------------+\n",
            "| Genetics(0) | Offer(1) |                0.0316 |\n",
            "+-------------+----------+-----------------------+\n",
            "| Genetics(1) | Offer(0) |                0.7214 |\n",
            "+-------------+----------+-----------------------+\n",
            "| Genetics(1) | Offer(1) |                0.0786 |\n",
            "+-------------+----------+-----------------------+\n"
          ],
          "name": "stdout"
        },
        {
          "output_type": "stream",
          "text": [
            "\n"
          ],
          "name": "stderr"
        }
      ]
    },
    {
      "cell_type": "markdown",
      "metadata": {
        "id": "K7-PHpccBtF_",
        "colab_type": "text"
      },
      "source": [
        "# What is the joint probability of getting offer, genetics and practice"
      ]
    },
    {
      "cell_type": "code",
      "metadata": {
        "id": "h8WoqSGIBXVW",
        "colab_type": "code",
        "outputId": "b1e1d844-916f-4681-c81b-9dc479aec644",
        "colab": {
          "base_uri": "https://localhost:8080/",
          "height": 367
        }
      },
      "source": [
        "prob_offer = olympic_infer.query(variables = ['Offer', 'Practice', 'Genetics'])\n",
        "print(prob_offer)"
      ],
      "execution_count": 0,
      "outputs": [
        {
          "output_type": "stream",
          "text": [
            "Finding Elimination Order: : 100%|██████████| 1/1 [00:00<00:00, 293.78it/s]\n",
            "Eliminating: OlympicTrials: 100%|██████████| 1/1 [00:00<00:00, 252.81it/s]"
          ],
          "name": "stderr"
        },
        {
          "output_type": "stream",
          "text": [
            "+-------------+-------------+----------+--------------------------------+\n",
            "| Genetics    | Practice    | Offer    |   phi(Genetics,Practice,Offer) |\n",
            "+=============+=============+==========+================================+\n",
            "| Genetics(0) | Practice(0) | Offer(0) |                         0.1141 |\n",
            "+-------------+-------------+----------+--------------------------------+\n",
            "| Genetics(0) | Practice(0) | Offer(1) |                         0.0259 |\n",
            "+-------------+-------------+----------+--------------------------------+\n",
            "| Genetics(0) | Practice(1) | Offer(0) |                         0.0543 |\n",
            "+-------------+-------------+----------+--------------------------------+\n",
            "| Genetics(0) | Practice(1) | Offer(1) |                         0.0057 |\n",
            "+-------------+-------------+----------+--------------------------------+\n",
            "| Genetics(1) | Practice(0) | Offer(0) |                         0.4984 |\n",
            "+-------------+-------------+----------+--------------------------------+\n",
            "| Genetics(1) | Practice(0) | Offer(1) |                         0.0616 |\n",
            "+-------------+-------------+----------+--------------------------------+\n",
            "| Genetics(1) | Practice(1) | Offer(0) |                         0.2230 |\n",
            "+-------------+-------------+----------+--------------------------------+\n",
            "| Genetics(1) | Practice(1) | Offer(1) |                         0.0170 |\n",
            "+-------------+-------------+----------+--------------------------------+\n"
          ],
          "name": "stdout"
        },
        {
          "output_type": "stream",
          "text": [
            "\n"
          ],
          "name": "stderr"
        }
      ]
    },
    {
      "cell_type": "markdown",
      "metadata": {
        "id": "LjZbKjX_Bq0R",
        "colab_type": "text"
      },
      "source": [
        "# We can also get conditional probability distributions that take into account what we already know"
      ]
    },
    {
      "cell_type": "code",
      "metadata": {
        "id": "uYHfmX7VBq0V",
        "colab_type": "code",
        "outputId": "068be60e-4a55-486c-bf35-e84399dea038",
        "colab": {
          "base_uri": "https://localhost:8080/",
          "height": 300
        }
      },
      "source": [
        "prob_offer_good_genes = olympic_infer.query(\n",
        "                                        variables = ['Offer', 'OlympicTrials'])\n",
        "print(prob_offer_good_genes)"
      ],
      "execution_count": 0,
      "outputs": [
        {
          "output_type": "stream",
          "text": [
            "Finding Elimination Order: : 100%|██████████| 2/2 [00:00<00:00, 300.11it/s]\n",
            "Eliminating: Genetics: 100%|██████████| 2/2 [00:00<00:00, 425.26it/s]"
          ],
          "name": "stderr"
        },
        {
          "output_type": "stream",
          "text": [
            "+------------------+----------+----------------------------+\n",
            "| OlympicTrials    | Offer    |   phi(OlympicTrials,Offer) |\n",
            "+==================+==========+============================+\n",
            "| OlympicTrials(0) | Offer(0) |                     0.7429 |\n",
            "+------------------+----------+----------------------------+\n",
            "| OlympicTrials(0) | Offer(1) |                     0.0391 |\n",
            "+------------------+----------+----------------------------+\n",
            "| OlympicTrials(1) | Offer(0) |                     0.1010 |\n",
            "+------------------+----------+----------------------------+\n",
            "| OlympicTrials(1) | Offer(1) |                     0.0252 |\n",
            "+------------------+----------+----------------------------+\n",
            "| OlympicTrials(2) | Offer(0) |                     0.0459 |\n",
            "+------------------+----------+----------------------------+\n",
            "| OlympicTrials(2) | Offer(1) |                     0.0459 |\n",
            "+------------------+----------+----------------------------+\n"
          ],
          "name": "stdout"
        },
        {
          "output_type": "stream",
          "text": [
            "\n"
          ],
          "name": "stderr"
        }
      ]
    },
    {
      "cell_type": "markdown",
      "metadata": {
        "id": "VG3Lnl2HEXd5",
        "colab_type": "text"
      },
      "source": [
        "# What is the probability of getting an offer when good genes"
      ]
    },
    {
      "cell_type": "code",
      "metadata": {
        "id": "nHOK2O0eBq0X",
        "colab_type": "code",
        "outputId": "5cdcf2ef-ce36-4207-9fa2-8e36ed077c3d",
        "colab": {
          "base_uri": "https://localhost:8080/",
          "height": 167
        }
      },
      "source": [
        "prob_offer_bad_genes = olympic_infer.query(\n",
        "                                        variables = ['Offer'], \n",
        "                                        evidence = {'Genetics':0})\n",
        "print(prob_offer_bad_genes)"
      ],
      "execution_count": 0,
      "outputs": [
        {
          "output_type": "stream",
          "text": [
            "Finding Elimination Order: : 100%|██████████| 2/2 [00:00<00:00, 589.96it/s]\n",
            "Eliminating: OlympicTrials: 100%|██████████| 2/2 [00:00<00:00, 445.07it/s]"
          ],
          "name": "stderr"
        },
        {
          "output_type": "stream",
          "text": [
            "+----------+--------------+\n",
            "| Offer    |   phi(Offer) |\n",
            "+==========+==============+\n",
            "| Offer(0) |       0.8420 |\n",
            "+----------+--------------+\n",
            "| Offer(1) |       0.1580 |\n",
            "+----------+--------------+\n"
          ],
          "name": "stdout"
        },
        {
          "output_type": "stream",
          "text": [
            "\n"
          ],
          "name": "stderr"
        }
      ]
    },
    {
      "cell_type": "markdown",
      "metadata": {
        "id": "xQuxm1EFG07e",
        "colab_type": "text"
      },
      "source": [
        "#prob_offer_good_genes_did_practice"
      ]
    },
    {
      "cell_type": "code",
      "metadata": {
        "id": "K_mp_saJBq0b",
        "colab_type": "code",
        "outputId": "371f5884-2c32-436b-faca-38f236af90f2",
        "colab": {
          "base_uri": "https://localhost:8080/",
          "height": 167
        }
      },
      "source": [
        "prob_offer_good_genes_did_practice = olympic_infer.query(\n",
        "                                        variables = ['Offer'], \n",
        "                                        evidence = {'Genetics':0,\n",
        "                                                    'Practice':0})\n",
        "print(prob_offer_good_genes_did_practice)"
      ],
      "execution_count": 0,
      "outputs": [
        {
          "output_type": "stream",
          "text": [
            "Finding Elimination Order: : 100%|██████████| 1/1 [00:00<00:00, 341.92it/s]\n",
            "Eliminating: OlympicTrials: 100%|██████████| 1/1 [00:00<00:00, 449.60it/s]"
          ],
          "name": "stderr"
        },
        {
          "output_type": "stream",
          "text": [
            "+----------+--------------+\n",
            "| Offer    |   phi(Offer) |\n",
            "+==========+==============+\n",
            "| Offer(0) |       0.8150 |\n",
            "+----------+--------------+\n",
            "| Offer(1) |       0.1850 |\n",
            "+----------+--------------+\n"
          ],
          "name": "stdout"
        },
        {
          "output_type": "stream",
          "text": [
            "\n"
          ],
          "name": "stderr"
        }
      ]
    },
    {
      "cell_type": "markdown",
      "metadata": {
        "id": "mtz5E-Y-Bq0d",
        "colab_type": "text"
      },
      "source": [
        "### You can also go upstream logically. For example, evidence about performance at the Olympic Trials affects the probabilities of Genetics."
      ]
    },
    {
      "cell_type": "code",
      "metadata": {
        "id": "plIR76zEBq0d",
        "colab_type": "code",
        "outputId": "0be6afc8-4ab0-4977-88ae-48cc7f04707f",
        "colab": {
          "base_uri": "https://localhost:8080/",
          "height": 167
        }
      },
      "source": [
        "prob_good_genes_if_amazing_olympic_trials = olympic_infer.query(\n",
        "                                        variables = ['Genetics'], \n",
        "                                        evidence = {'OlympicTrials':2})\n",
        "print(prob_good_genes_if_amazing_olympic_trials)"
      ],
      "execution_count": 0,
      "outputs": [
        {
          "output_type": "stream",
          "text": [
            "Finding Elimination Order: : 100%|██████████| 2/2 [00:00<00:00, 510.19it/s]\n",
            "Eliminating: Offer: 100%|██████████| 2/2 [00:00<00:00, 414.19it/s]"
          ],
          "name": "stderr"
        },
        {
          "output_type": "stream",
          "text": [
            "+-------------+-----------------+\n",
            "| Genetics    |   phi(Genetics) |\n",
            "+=============+=================+\n",
            "| Genetics(0) |          0.3377 |\n",
            "+-------------+-----------------+\n",
            "| Genetics(1) |          0.6623 |\n",
            "+-------------+-----------------+\n"
          ],
          "name": "stdout"
        },
        {
          "output_type": "stream",
          "text": [
            "\n"
          ],
          "name": "stderr"
        }
      ]
    },
    {
      "cell_type": "markdown",
      "metadata": {
        "id": "lttFugTVNP_y",
        "colab_type": "text"
      },
      "source": [
        "# What is the probability of offer given OlympicTrials and Offer?"
      ]
    },
    {
      "cell_type": "code",
      "metadata": {
        "id": "sak82kppMVJI",
        "colab_type": "code",
        "outputId": "50c07526-4dc1-44aa-c616-3a9316c19abd",
        "colab": {
          "base_uri": "https://localhost:8080/",
          "height": 167
        }
      },
      "source": [
        "prob_good_genes_if_amazing_olympic_trials = olympic_infer.query(\n",
        "                                        variables = ['Genetics'], \n",
        "                                        evidence = {'OlympicTrials':2, 'Offer': 1})\n",
        "print(prob_good_genes_if_amazing_olympic_trials)"
      ],
      "execution_count": 0,
      "outputs": [
        {
          "output_type": "stream",
          "text": [
            "Finding Elimination Order: : 100%|██████████| 1/1 [00:00<00:00, 165.65it/s]\n",
            "Eliminating: Practice: 100%|██████████| 1/1 [00:00<00:00, 170.57it/s]"
          ],
          "name": "stderr"
        },
        {
          "output_type": "stream",
          "text": [
            "+-------------+-----------------+\n",
            "| Genetics    |   phi(Genetics) |\n",
            "+=============+=================+\n",
            "| Genetics(0) |          0.3377 |\n",
            "+-------------+-----------------+\n",
            "| Genetics(1) |          0.6623 |\n",
            "+-------------+-----------------+\n"
          ],
          "name": "stdout"
        },
        {
          "output_type": "stream",
          "text": [
            "\n"
          ],
          "name": "stderr"
        }
      ]
    },
    {
      "cell_type": "markdown",
      "metadata": {
        "id": "Z4RxOdT8Bq0f",
        "colab_type": "text"
      },
      "source": [
        "### Some variables are only informative about other variables given 'third' variables"
      ]
    },
    {
      "cell_type": "code",
      "metadata": {
        "id": "ZF-1oGNfBq0g",
        "colab_type": "code",
        "outputId": "d514316e-c6b6-4835-be35-60b86feca4ae",
        "colab": {
          "base_uri": "https://localhost:8080/",
          "height": 167
        }
      },
      "source": [
        "# Practice does not inherently tell us something about Genetics\n",
        "prob_good_genes_if_no_practice = olympic_infer.query(\n",
        "                                        variables = ['Genetics'], \n",
        "                                        evidence = {'Practice':1})\n",
        "print(prob_good_genes_if_no_practice)"
      ],
      "execution_count": 0,
      "outputs": [
        {
          "output_type": "stream",
          "text": [
            "Finding Elimination Order: : 100%|██████████| 2/2 [00:00<00:00, 921.72it/s]\n",
            "Eliminating: OlympicTrials: 100%|██████████| 2/2 [00:00<00:00, 480.12it/s]"
          ],
          "name": "stderr"
        },
        {
          "output_type": "stream",
          "text": [
            "+-------------+-----------------+\n",
            "| Genetics    |   phi(Genetics) |\n",
            "+=============+=================+\n",
            "| Genetics(0) |          0.2000 |\n",
            "+-------------+-----------------+\n",
            "| Genetics(1) |          0.8000 |\n",
            "+-------------+-----------------+\n"
          ],
          "name": "stdout"
        },
        {
          "output_type": "stream",
          "text": [
            "\n"
          ],
          "name": "stderr"
        }
      ]
    },
    {
      "cell_type": "code",
      "metadata": {
        "id": "UNK1G7N4Bq0i",
        "colab_type": "code",
        "outputId": "fdf0084d-8819-4bde-c26c-fcd2ce57b016",
        "colab": {
          "base_uri": "https://localhost:8080/",
          "height": 167
        }
      },
      "source": [
        "# BUT Practice does tell us something about genetics IF we also \n",
        "# know something about olympic trials performance\n",
        "prob_good_genes_if_no_practice_good_olympic_trials = olympic_infer.query(\n",
        "                                        variables = ['Genetics'], \n",
        "                                        evidence = {'Practice':1,\n",
        "                                                   'OlympicTrials':2})\n",
        "print(prob_good_genes_if_no_practice_good_olympic_trials)"
      ],
      "execution_count": 0,
      "outputs": [
        {
          "output_type": "stream",
          "text": [
            "Finding Elimination Order: : 100%|██████████| 1/1 [00:00<00:00, 174.28it/s]\n",
            "Eliminating: Offer: 100%|██████████| 1/1 [00:00<00:00, 281.97it/s]"
          ],
          "name": "stderr"
        },
        {
          "output_type": "stream",
          "text": [
            "+-------------+-----------------+\n",
            "| Genetics    |   phi(Genetics) |\n",
            "+=============+=================+\n",
            "| Genetics(0) |          0.3846 |\n",
            "+-------------+-----------------+\n",
            "| Genetics(1) |          0.6154 |\n",
            "+-------------+-----------------+\n"
          ],
          "name": "stdout"
        },
        {
          "output_type": "stream",
          "text": [
            "\n"
          ],
          "name": "stderr"
        }
      ]
    },
    {
      "cell_type": "markdown",
      "metadata": {
        "id": "xft6PRq4Bq0m",
        "colab_type": "text"
      },
      "source": [
        "### We can find out the most probable state for a variable"
      ]
    },
    {
      "cell_type": "code",
      "metadata": {
        "id": "9CTryjxmBq0m",
        "colab_type": "code",
        "outputId": "3c9d5008-c8af-44ff-b38b-83750f213c63",
        "colab": {
          "base_uri": "https://localhost:8080/",
          "height": 67
        }
      },
      "source": [
        "olympic_infer.map_query(variables = ['Genetics'])"
      ],
      "execution_count": 0,
      "outputs": [
        {
          "output_type": "stream",
          "text": [
            "Finding Elimination Order: : 100%|██████████| 3/3 [00:00<00:00, 1341.32it/s]\n",
            "Eliminating: OlympicTrials: 100%|██████████| 3/3 [00:00<00:00, 453.26it/s]\n"
          ],
          "name": "stderr"
        },
        {
          "output_type": "execute_result",
          "data": {
            "text/plain": [
              "{'Genetics': 1}"
            ]
          },
          "metadata": {
            "tags": []
          },
          "execution_count": 37
        }
      ]
    },
    {
      "cell_type": "code",
      "metadata": {
        "id": "Pk4eCD7TBq0p",
        "colab_type": "code",
        "outputId": "d3e1f993-680b-4c26-dd9c-e58f69526d84",
        "colab": {
          "base_uri": "https://localhost:8080/",
          "height": 67
        }
      },
      "source": [
        "olympic_infer.map_query(variables = ['Offer'])"
      ],
      "execution_count": 0,
      "outputs": [
        {
          "output_type": "stream",
          "text": [
            "Finding Elimination Order: : 100%|██████████| 3/3 [00:00<00:00, 555.93it/s]\n",
            "Eliminating: OlympicTrials: 100%|██████████| 3/3 [00:00<00:00, 277.74it/s]\n"
          ],
          "name": "stderr"
        },
        {
          "output_type": "execute_result",
          "data": {
            "text/plain": [
              "{'Offer': 0}"
            ]
          },
          "metadata": {
            "tags": []
          },
          "execution_count": 38
        }
      ]
    },
    {
      "cell_type": "code",
      "metadata": {
        "id": "FitUOt18Bq0r",
        "colab_type": "code",
        "outputId": "b3b691c5-fbc1-4677-ebe0-620ef70da056",
        "colab": {
          "base_uri": "https://localhost:8080/",
          "height": 67
        }
      },
      "source": [
        "olympic_infer.map_query(variables = ['OlympicTrials'])"
      ],
      "execution_count": 0,
      "outputs": [
        {
          "output_type": "stream",
          "text": [
            "Finding Elimination Order: : 100%|██████████| 3/3 [00:00<00:00, 587.16it/s]\n",
            "Eliminating: Genetics: 100%|██████████| 3/3 [00:00<00:00, 204.66it/s]\n"
          ],
          "name": "stderr"
        },
        {
          "output_type": "execute_result",
          "data": {
            "text/plain": [
              "{'OlympicTrials': 0}"
            ]
          },
          "metadata": {
            "tags": []
          },
          "execution_count": 39
        }
      ]
    },
    {
      "cell_type": "code",
      "metadata": {
        "id": "DtnnAS0lBq0t",
        "colab_type": "code",
        "outputId": "da7ca4c3-8cb4-495e-9076-874fb0a74cdf",
        "colab": {
          "base_uri": "https://localhost:8080/",
          "height": 200
        }
      },
      "source": [
        "x = olympic_infer.query(variables = ['OlympicTrials'],\n",
        "            evidence = {'Genetics': 1, 'Practice': 1})\n",
        "print(x)"
      ],
      "execution_count": 0,
      "outputs": [
        {
          "output_type": "stream",
          "text": [
            "Finding Elimination Order: : 100%|██████████| 1/1 [00:00<00:00, 113.82it/s]\n",
            "Eliminating: Offer: 100%|██████████| 1/1 [00:00<00:00, 285.54it/s]"
          ],
          "name": "stderr"
        },
        {
          "output_type": "stream",
          "text": [
            "+------------------+----------------------+\n",
            "| OlympicTrials    |   phi(OlympicTrials) |\n",
            "+==================+======================+\n",
            "| OlympicTrials(0) |               0.9000 |\n",
            "+------------------+----------------------+\n",
            "| OlympicTrials(1) |               0.0800 |\n",
            "+------------------+----------------------+\n",
            "| OlympicTrials(2) |               0.0200 |\n",
            "+------------------+----------------------+\n"
          ],
          "name": "stdout"
        },
        {
          "output_type": "stream",
          "text": [
            "\n"
          ],
          "name": "stderr"
        }
      ]
    },
    {
      "cell_type": "code",
      "metadata": {
        "id": "-Cs-00wxCDwG",
        "colab_type": "code",
        "colab": {}
      },
      "source": [
        ""
      ],
      "execution_count": 0,
      "outputs": []
    }
  ]
}