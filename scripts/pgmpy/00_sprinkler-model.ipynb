{
  "nbformat": 4,
  "nbformat_minor": 0,
  "metadata": {
    "colab": {
      "name": "00-sprinkler-model.ipynb",
      "provenance": [],
      "collapsed_sections": []
    },
    "kernelspec": {
      "name": "python3",
      "display_name": "Python 3"
    }
  },
  "cells": [
    {
      "cell_type": "markdown",
      "metadata": {
        "id": "9wZN8PDNf2Je",
        "colab_type": "text"
      },
      "source": [
        "\n",
        "Ref: https://healthyalgorithms.com/2011/11/23/causal-modeling-in-python-bayesian-networks-in-pymc/"
      ]
    },
    {
      "cell_type": "markdown",
      "metadata": {
        "id": "8HQp5LmwgvUr",
        "colab_type": "text"
      },
      "source": [
        "# Install pgmpy"
      ]
    },
    {
      "cell_type": "code",
      "metadata": {
        "id": "ZuJEqRNYf7Xr",
        "colab_type": "code",
        "colab": {
          "base_uri": "https://localhost:8080/",
          "height": 333
        },
        "outputId": "76ee5d41-2d88-47a3-a3fb-45ae69e3082c"
      },
      "source": [
        "!pip install pgmpy"
      ],
      "execution_count": 2,
      "outputs": [
        {
          "output_type": "stream",
          "text": [
            "Collecting pgmpy\n",
            "\u001b[?25l  Downloading https://files.pythonhosted.org/packages/68/6b/661a65aa7788f3aff7228ba81625c540917d656f41e3eb031c6d60b0a25d/pgmpy-0.1.10-py3-none-any.whl (339kB)\n",
            "\u001b[K     |████████████████████████████████| 348kB 2.8MB/s \n",
            "\u001b[?25hRequirement already satisfied: pandas in /usr/local/lib/python3.6/dist-packages (from pgmpy) (0.25.3)\n",
            "Requirement already satisfied: torch in /usr/local/lib/python3.6/dist-packages (from pgmpy) (1.4.0)\n",
            "Requirement already satisfied: networkx in /usr/local/lib/python3.6/dist-packages (from pgmpy) (2.4)\n",
            "Requirement already satisfied: pyparsing in /usr/local/lib/python3.6/dist-packages (from pgmpy) (2.4.6)\n",
            "Requirement already satisfied: statsmodels in /usr/local/lib/python3.6/dist-packages (from pgmpy) (0.10.2)\n",
            "Requirement already satisfied: joblib in /usr/local/lib/python3.6/dist-packages (from pgmpy) (0.14.1)\n",
            "Requirement already satisfied: numpy in /usr/local/lib/python3.6/dist-packages (from pgmpy) (1.17.5)\n",
            "Requirement already satisfied: scipy in /usr/local/lib/python3.6/dist-packages (from pgmpy) (1.4.1)\n",
            "Requirement already satisfied: tqdm in /usr/local/lib/python3.6/dist-packages (from pgmpy) (4.28.1)\n",
            "Requirement already satisfied: pytz>=2017.2 in /usr/local/lib/python3.6/dist-packages (from pandas->pgmpy) (2018.9)\n",
            "Requirement already satisfied: python-dateutil>=2.6.1 in /usr/local/lib/python3.6/dist-packages (from pandas->pgmpy) (2.6.1)\n",
            "Requirement already satisfied: decorator>=4.3.0 in /usr/local/lib/python3.6/dist-packages (from networkx->pgmpy) (4.4.1)\n",
            "Requirement already satisfied: patsy>=0.4.0 in /usr/local/lib/python3.6/dist-packages (from statsmodels->pgmpy) (0.5.1)\n",
            "Requirement already satisfied: six>=1.5 in /usr/local/lib/python3.6/dist-packages (from python-dateutil>=2.6.1->pandas->pgmpy) (1.12.0)\n",
            "Installing collected packages: pgmpy\n",
            "Successfully installed pgmpy-0.1.10\n"
          ],
          "name": "stdout"
        }
      ]
    },
    {
      "cell_type": "markdown",
      "metadata": {
        "id": "K0vhBbwYgydN",
        "colab_type": "text"
      },
      "source": [
        "#Import pgmpy"
      ]
    },
    {
      "cell_type": "code",
      "metadata": {
        "id": "g27UOzpogyod",
        "colab_type": "code",
        "colab": {
          "base_uri": "https://localhost:8080/",
          "height": 33
        },
        "outputId": "ef90e7f7-ce5e-4514-d837-9cf6f2d5bca4"
      },
      "source": [
        "from pgmpy.factors.discrete  import TabularCPD\n",
        "from pgmpy.models  import BayesianModel\n",
        "\n",
        "# Check version\n",
        "import pgmpy\n",
        "print(pgmpy.__version__)"
      ],
      "execution_count": 71,
      "outputs": [
        {
          "output_type": "stream",
          "text": [
            "0.1.10\n"
          ],
          "name": "stdout"
        }
      ]
    },
    {
      "cell_type": "markdown",
      "metadata": {
        "id": "vFU-L0zVgyzj",
        "colab_type": "text"
      },
      "source": [
        "# Setting up your model"
      ]
    },
    {
      "cell_type": "markdown",
      "metadata": {
        "id": "rjGZD_ZxKB-m",
        "colab_type": "text"
      },
      "source": [
        "![alt text](https://imghostr.com/image.php?sig=31yBZ4681&h=d055d30eb2df0925ae5082caeb676f70&t=1583943208)"
      ]
    },
    {
      "cell_type": "code",
      "metadata": {
        "id": "64Os6xQzgy96",
        "colab_type": "code",
        "colab": {
          "base_uri": "https://localhost:8080/",
          "height": 367
        },
        "outputId": "e8cd20a5-3e27-4ce3-e16f-a02da4ba6016"
      },
      "source": [
        "model = BayesianModel([('rain', 'sprinkler'),\n",
        "                       ('rain', 'wetgrass'),\n",
        "                       ('sprinkler', 'wetgrass')\n",
        "                      ])\n",
        "\n",
        "#######################################\n",
        "\n",
        "# rain definition\n",
        "rain_cpd = TabularCPD(\n",
        "    variable = 'rain', variable_card = 2,\n",
        "    values = [[0.2], [0.8]]\n",
        ")\n",
        "\n",
        "# sprinkler definition\n",
        "sprinkler_cpd = TabularCPD(\n",
        "    variable = 'sprinkler', variable_card = 2,\n",
        "    values = [[0.4, 0.01], [0.6, 0.99]],\n",
        "    evidence = ['rain'], evidence_card = [2])\n",
        "\n",
        "# grass wet definition\n",
        "wetgrass_cpd = TabularCPD(\n",
        "    variable = 'wetgrass', variable_card = 2,\n",
        "    values = [[0, 0.8, 0.9, 0.99], [1, 0.2, 0.1, 0.01]],\n",
        "              evidence = ['rain', 'sprinkler'], evidence_card = [2, 2])\n",
        "\n",
        "\n",
        "print(rain_cpd)\n",
        "print(sprinkler_cpd)\n",
        "print(wetgrass_cpd)"
      ],
      "execution_count": 64,
      "outputs": [
        {
          "output_type": "stream",
          "text": [
            "+---------+-----+\n",
            "| rain(0) | 0.2 |\n",
            "+---------+-----+\n",
            "| rain(1) | 0.8 |\n",
            "+---------+-----+\n",
            "+--------------+---------+---------+\n",
            "| rain         | rain(0) | rain(1) |\n",
            "+--------------+---------+---------+\n",
            "| sprinkler(0) | 0.4     | 0.01    |\n",
            "+--------------+---------+---------+\n",
            "| sprinkler(1) | 0.6     | 0.99    |\n",
            "+--------------+---------+---------+\n",
            "+-------------+--------------+--------------+--------------+--------------+\n",
            "| rain        | rain(0)      | rain(0)      | rain(1)      | rain(1)      |\n",
            "+-------------+--------------+--------------+--------------+--------------+\n",
            "| sprinkler   | sprinkler(0) | sprinkler(1) | sprinkler(0) | sprinkler(1) |\n",
            "+-------------+--------------+--------------+--------------+--------------+\n",
            "| wetgrass(0) | 0.0          | 0.8          | 0.9          | 0.99         |\n",
            "+-------------+--------------+--------------+--------------+--------------+\n",
            "| wetgrass(1) | 1.0          | 0.2          | 0.1          | 0.01         |\n",
            "+-------------+--------------+--------------+--------------+--------------+\n"
          ],
          "name": "stdout"
        }
      ]
    },
    {
      "cell_type": "markdown",
      "metadata": {
        "id": "WXzB_8dYgzJZ",
        "colab_type": "text"
      },
      "source": [
        "# Add relationships to your models"
      ]
    },
    {
      "cell_type": "code",
      "metadata": {
        "id": "DH5RYsfEgzTU",
        "colab_type": "code",
        "colab": {}
      },
      "source": [
        "model.add_cpds(rain_cpd, sprinkler_cpd, wetgrass_cpd)"
      ],
      "execution_count": 0,
      "outputs": []
    },
    {
      "cell_type": "markdown",
      "metadata": {
        "id": "C1HoWFA8gzdk",
        "colab_type": "text"
      },
      "source": [
        "# Examine the structure of your graph"
      ]
    },
    {
      "cell_type": "code",
      "metadata": {
        "id": "FjOl4rdKgzqQ",
        "colab_type": "code",
        "colab": {
          "base_uri": "https://localhost:8080/",
          "height": 67
        },
        "outputId": "711981d5-e666-4a6d-b490-8801937362cc"
      },
      "source": [
        "model.get_cpds()"
      ],
      "execution_count": 46,
      "outputs": [
        {
          "output_type": "execute_result",
          "data": {
            "text/plain": [
              "[<TabularCPD representing P(rain:2) at 0x7f973ece3b00>,\n",
              " <TabularCPD representing P(sprinkler:2 | rain:2) at 0x7f973ece3b70>,\n",
              " <TabularCPD representing P(wetgrass:2 | rain:2, sprinkler:2) at 0x7f973ece3ba8>]"
            ]
          },
          "metadata": {
            "tags": []
          },
          "execution_count": 46
        }
      ]
    },
    {
      "cell_type": "markdown",
      "metadata": {
        "id": "pWuPSAHrgzzu",
        "colab_type": "text"
      },
      "source": [
        "# Find all active trail nodes"
      ]
    },
    {
      "cell_type": "code",
      "metadata": {
        "id": "X0HBJ23tgz-v",
        "colab_type": "code",
        "colab": {
          "base_uri": "https://localhost:8080/",
          "height": 33
        },
        "outputId": "8d43d3c9-2bfb-4227-8ef9-a5d101d72259"
      },
      "source": [
        "model.active_trail_nodes('wetgrass')"
      ],
      "execution_count": 47,
      "outputs": [
        {
          "output_type": "execute_result",
          "data": {
            "text/plain": [
              "{'wetgrass': {'rain', 'sprinkler', 'wetgrass'}}"
            ]
          },
          "metadata": {
            "tags": []
          },
          "execution_count": 47
        }
      ]
    },
    {
      "cell_type": "markdown",
      "metadata": {
        "id": "ccc-1vNwQAHw",
        "colab_type": "text"
      },
      "source": [
        "# Making Inference"
      ]
    },
    {
      "cell_type": "code",
      "metadata": {
        "id": "WcLgqXyUP63B",
        "colab_type": "code",
        "colab": {
          "base_uri": "https://localhost:8080/",
          "height": 17
        },
        "outputId": "829f44d9-5549-48c6-872f-ef801d12304b"
      },
      "source": [
        "model.get_independencies()"
      ],
      "execution_count": 62,
      "outputs": [
        {
          "output_type": "execute_result",
          "data": {
            "text/plain": [
              ""
            ]
          },
          "metadata": {
            "tags": []
          },
          "execution_count": 62
        }
      ]
    },
    {
      "cell_type": "code",
      "metadata": {
        "id": "PyXxV5uzQEvB",
        "colab_type": "code",
        "colab": {}
      },
      "source": [
        "from pgmpy.inference import VariableElimination\n",
        "\n",
        "model_infer = VariableElimination(model)"
      ],
      "execution_count": 0,
      "outputs": []
    },
    {
      "cell_type": "markdown",
      "metadata": {
        "id": "BgMVRyEBQ4v4",
        "colab_type": "text"
      },
      "source": [
        "# P(wetgrass)"
      ]
    },
    {
      "cell_type": "code",
      "metadata": {
        "id": "d28w2nV_QqAH",
        "colab_type": "code",
        "colab": {
          "base_uri": "https://localhost:8080/",
          "height": 167
        },
        "outputId": "1c4383f8-67f5-445c-bcd4-7199d2a71d1e"
      },
      "source": [
        "prob_wetgrass = model_infer.query(variables = ['wetgrass'])\n",
        "print(prob_wetgrass)"
      ],
      "execution_count": 50,
      "outputs": [
        {
          "output_type": "stream",
          "text": [
            "Finding Elimination Order: : 100%|██████████| 2/2 [00:00<00:00, 862.76it/s]\n",
            "Eliminating: rain: 100%|██████████| 2/2 [00:00<00:00, 367.13it/s]"
          ],
          "name": "stderr"
        },
        {
          "output_type": "stream",
          "text": [
            "+-------------+-----------------+\n",
            "| wetgrass    |   phi(wetgrass) |\n",
            "+=============+=================+\n",
            "| wetgrass(0) |          0.8873 |\n",
            "+-------------+-----------------+\n",
            "| wetgrass(1) |          0.1127 |\n",
            "+-------------+-----------------+\n"
          ],
          "name": "stdout"
        },
        {
          "output_type": "stream",
          "text": [
            "\n"
          ],
          "name": "stderr"
        }
      ]
    },
    {
      "cell_type": "markdown",
      "metadata": {
        "id": "_pTaFMFNTBX9",
        "colab_type": "text"
      },
      "source": [
        "# P(rain, wetgrass)"
      ]
    },
    {
      "cell_type": "code",
      "metadata": {
        "id": "PjaRtl50QqIi",
        "colab_type": "code",
        "colab": {
          "base_uri": "https://localhost:8080/",
          "height": 233
        },
        "outputId": "9dd00607-7562-4325-b4a1-ccaa495d288d"
      },
      "source": [
        "prob_wetgrass_rain = model_infer.query(variables = ['rain', 'wetgrass'])\n",
        "print(prob_wetgrass_rain)"
      ],
      "execution_count": 51,
      "outputs": [
        {
          "output_type": "stream",
          "text": [
            "Finding Elimination Order: : 100%|██████████| 1/1 [00:00<00:00, 341.75it/s]\n",
            "Eliminating: sprinkler: 100%|██████████| 1/1 [00:00<00:00, 429.48it/s]"
          ],
          "name": "stderr"
        },
        {
          "output_type": "stream",
          "text": [
            "+---------+-------------+----------------------+\n",
            "| rain    | wetgrass    |   phi(rain,wetgrass) |\n",
            "+=========+=============+======================+\n",
            "| rain(0) | wetgrass(0) |               0.0960 |\n",
            "+---------+-------------+----------------------+\n",
            "| rain(0) | wetgrass(1) |               0.1040 |\n",
            "+---------+-------------+----------------------+\n",
            "| rain(1) | wetgrass(0) |               0.7913 |\n",
            "+---------+-------------+----------------------+\n",
            "| rain(1) | wetgrass(1) |               0.0087 |\n",
            "+---------+-------------+----------------------+\n"
          ],
          "name": "stdout"
        },
        {
          "output_type": "stream",
          "text": [
            "\n"
          ],
          "name": "stderr"
        }
      ]
    },
    {
      "cell_type": "markdown",
      "metadata": {
        "id": "yZWOQFf7StyK",
        "colab_type": "text"
      },
      "source": [
        "# P(wetgrass | given rain)"
      ]
    },
    {
      "cell_type": "code",
      "metadata": {
        "id": "9hdOk0VcQqd2",
        "colab_type": "code",
        "colab": {
          "base_uri": "https://localhost:8080/",
          "height": 167
        },
        "outputId": "b619620f-df4f-43b5-a3f5-c44a4b3fe088"
      },
      "source": [
        "prob_evidence = model_infer.query(variables = ['sprinkler'],\n",
        "                                  evidence = {'rain': 1}) \n",
        "print(prob_evidence)"
      ],
      "execution_count": 65,
      "outputs": [
        {
          "output_type": "stream",
          "text": [
            "Finding Elimination Order: : 100%|██████████| 1/1 [00:00<00:00, 212.22it/s]\n",
            "Eliminating: wetgrass: 100%|██████████| 1/1 [00:00<00:00, 270.95it/s]"
          ],
          "name": "stderr"
        },
        {
          "output_type": "stream",
          "text": [
            "+--------------+------------------+\n",
            "| sprinkler    |   phi(sprinkler) |\n",
            "+==============+==================+\n",
            "| sprinkler(0) |           0.0100 |\n",
            "+--------------+------------------+\n",
            "| sprinkler(1) |           0.9900 |\n",
            "+--------------+------------------+\n"
          ],
          "name": "stdout"
        },
        {
          "output_type": "stream",
          "text": [
            "\n"
          ],
          "name": "stderr"
        }
      ]
    },
    {
      "cell_type": "markdown",
      "metadata": {
        "id": "tFr6UF17qlif",
        "colab_type": "text"
      },
      "source": [
        "# P(wetgrass | given no rain)"
      ]
    },
    {
      "cell_type": "code",
      "metadata": {
        "id": "Vi9dbKqfBjK8",
        "colab_type": "code",
        "colab": {
          "base_uri": "https://localhost:8080/",
          "height": 167
        },
        "outputId": "53ac4a86-c129-4ee2-c981-ef04dedd03d6"
      },
      "source": [
        "output = model_infer.query(variables = ['sprinkler'],\n",
        "            evidence = {'rain':0})\n",
        "print(output)"
      ],
      "execution_count": 67,
      "outputs": [
        {
          "output_type": "stream",
          "text": [
            "Finding Elimination Order: : 100%|██████████| 1/1 [00:00<00:00, 163.43it/s]\n",
            "Eliminating: wetgrass: 100%|██████████| 1/1 [00:00<00:00, 447.39it/s]"
          ],
          "name": "stderr"
        },
        {
          "output_type": "stream",
          "text": [
            "+--------------+------------------+\n",
            "| sprinkler    |   phi(sprinkler) |\n",
            "+==============+==================+\n",
            "| sprinkler(0) |           0.4000 |\n",
            "+--------------+------------------+\n",
            "| sprinkler(1) |           0.6000 |\n",
            "+--------------+------------------+\n"
          ],
          "name": "stdout"
        },
        {
          "output_type": "stream",
          "text": [
            "\n"
          ],
          "name": "stderr"
        }
      ]
    },
    {
      "cell_type": "markdown",
      "metadata": {
        "id": "Bcu4sOs0rOBI",
        "colab_type": "text"
      },
      "source": [
        "# P(sprinkler)"
      ]
    },
    {
      "cell_type": "code",
      "metadata": {
        "id": "2O-DPA11ZSId",
        "colab_type": "code",
        "colab": {
          "base_uri": "https://localhost:8080/",
          "height": 167
        },
        "outputId": "f37f1739-d868-40ad-f66b-6f80b20fefe6"
      },
      "source": [
        "x = model_infer.query(variables = ['sprinkler'])\n",
        "print(x)"
      ],
      "execution_count": 68,
      "outputs": [
        {
          "output_type": "stream",
          "text": [
            "Finding Elimination Order: : 100%|██████████| 2/2 [00:00<00:00, 210.19it/s]\n",
            "Eliminating: rain: 100%|██████████| 2/2 [00:00<00:00, 295.84it/s]"
          ],
          "name": "stderr"
        },
        {
          "output_type": "stream",
          "text": [
            "+--------------+------------------+\n",
            "| sprinkler    |   phi(sprinkler) |\n",
            "+==============+==================+\n",
            "| sprinkler(0) |           0.0880 |\n",
            "+--------------+------------------+\n",
            "| sprinkler(1) |           0.9120 |\n",
            "+--------------+------------------+\n"
          ],
          "name": "stdout"
        },
        {
          "output_type": "stream",
          "text": [
            "\n"
          ],
          "name": "stderr"
        }
      ]
    },
    {
      "cell_type": "markdown",
      "metadata": {
        "id": "4PL8sLHprjoZ",
        "colab_type": "text"
      },
      "source": [
        "P(wetgrass| rain = False, sprinkler = False)"
      ]
    },
    {
      "cell_type": "code",
      "metadata": {
        "id": "CoIQ1c8xaJO1",
        "colab_type": "code",
        "colab": {
          "base_uri": "https://localhost:8080/",
          "height": 167
        },
        "outputId": "3405429a-492f-4294-efb0-9f148e59ae81"
      },
      "source": [
        "prob_evidence = model_infer.query(variables = ['wetgrass'],\n",
        "                                  evidence = {'rain': 0, 'sprinkler': 0}) \n",
        "print(prob_evidence)"
      ],
      "execution_count": 42,
      "outputs": [
        {
          "output_type": "stream",
          "text": [
            "Finding Elimination Order: : : 0it [00:00, ?it/s]\n",
            "0it [00:00, ?it/s]"
          ],
          "name": "stderr"
        },
        {
          "output_type": "stream",
          "text": [
            "+-------------+-----------------+\n",
            "| wetgrass    |   phi(wetgrass) |\n",
            "+=============+=================+\n",
            "| wetgrass(0) |          0.0000 |\n",
            "+-------------+-----------------+\n",
            "| wetgrass(1) |          1.0000 |\n",
            "+-------------+-----------------+\n"
          ],
          "name": "stdout"
        },
        {
          "output_type": "stream",
          "text": [
            "\n"
          ],
          "name": "stderr"
        }
      ]
    },
    {
      "cell_type": "markdown",
      "metadata": {
        "id": "XDzPyZnjpusN",
        "colab_type": "text"
      },
      "source": [
        "# Cloudy Model"
      ]
    },
    {
      "cell_type": "code",
      "metadata": {
        "id": "6LAKK76zpzSH",
        "colab_type": "code",
        "colab": {}
      },
      "source": [
        "model = BayesianModel([('Cloudy', 'Sprinkler'),\n",
        "       ('Cloudy', 'Rain'),\n",
        "       ('Sprinkler', 'Wet_Grass'),\n",
        "       ('Rain', 'Wet_Grass')])\n",
        "       \n",
        "# Cloudy\n",
        "cpt_cloudy = TabularCPD(variable='Cloudy', variable_card=2, values=[[0.3], [0.7]])\n",
        "print(cpt_cloudy)\n",
        "\n",
        "# Sprinkler\n",
        "cpt_sprinkler = TabularCPD(variable='Sprinkler', variable_card=2,\n",
        "                           values=[[0.4, 0.9], [0.6, 0.1]],\n",
        "                           evidence=['Cloudy'], evidence_card=[2])\n",
        "print(cpt_cloudy)\n",
        "# Rain\n",
        "cpt_rain = TabularCPD(variable='Rain', variable_card=2,\n",
        "                      values=[[0.8, 0.2], [0.2, 0.8]],\n",
        "                      evidence=['Cloudy'], evidence_card=[2])\n",
        "print(cpt_rain)\n",
        "\n",
        "# Wet Grass\n",
        "cpt_wet_grass = TabularCPD(variable='Wet_Grass', variable_card=2,\n",
        "                           values=[[1, 0.1, 0.1, 0.01],\n",
        "                                  [0, 0.9, 0.9, 0.99]],\n",
        "                           evidence=['Sprinkler', 'Rain'],\n",
        "                           evidence_card=[2, 2])\n",
        "print(cpt_wet_grass)"
      ],
      "execution_count": 0,
      "outputs": []
    },
    {
      "cell_type": "code",
      "metadata": {
        "id": "PoSO2Ns0pz1M",
        "colab_type": "code",
        "colab": {}
      },
      "source": [
        "from pgmpy.inference import VariableElimination\n",
        "\n",
        "model_infer = VariableElimination(model)"
      ],
      "execution_count": 0,
      "outputs": []
    },
    {
      "cell_type": "markdown",
      "metadata": {
        "id": "tHb2LL_bHOba",
        "colab_type": "text"
      },
      "source": [
        "# References"
      ]
    },
    {
      "cell_type": "markdown",
      "metadata": {
        "id": "bYkW3MMDLC1D",
        "colab_type": "text"
      },
      "source": [
        "Book: Mastering Probabilistic Graphical Models Using Python, Ankur and Abinash, Packt publishing, 2015\n"
      ]
    },
    {
      "cell_type": "markdown",
      "metadata": {
        "id": "vpsUJyW4rxM4",
        "colab_type": "text"
      },
      "source": [
        "1. https://healthyalgorithms.com/2011/11/23/causal-modeling-in-python-bayesian-networks-in-pymc/\n",
        "2. https://stats.stackexchange.com/questions/4687/specifying-conditional-probabilities-in-hybrid-bayesian-networks\n",
        "3. EPFL homework: https://www.epfl.ch/labs/lions/wp-content/uploads/2019/01/Homework_2.pdf\n",
        "4. bnlearn package that was built on pgmpy: https://github.com/erdogant/bnlearn/\n",
        "5. Kevin Murphy: Brief theoretical notes: https://www.cs.ubc.ca/~murphyk/Bayes/bnintro.html#repr\n",
        "6. Application of Probabilistic Graphical Models\n",
        "in Forecasting Crude Oil Price: UCL thesis- Makes use of pgmpy and HMM. Discretised time series data\n",
        "7. https://discourse.pymc.io/t/intercausal-reasoning-in-bayesian-networks/2419\n",
        "8. Thesis- Crude oil prices: https://arxiv.org/pdf/1804.10869.pdf"
      ]
    },
    {
      "cell_type": "code",
      "metadata": {
        "id": "njIERwqUsai3",
        "colab_type": "code",
        "colab": {}
      },
      "source": [
        "model = BayesianModel([('Cloudy', 'Sprinkler'),\n",
        "       ('Cloudy', 'Rain'),\n",
        "       ('Sprinkler', 'Wet_Grass'),\n",
        "       ('Rain', 'Wet_Grass')])\n",
        "       \n",
        "# Cloudy\n",
        "cpt_cloudy = TabularCPD(variable='Cloudy', variable_card=2, values=[[0.3], [0.7]])\n",
        "print(cpt_cloudy)\n",
        "\n",
        "# Sprinkler\n",
        "cpt_sprinkler = TabularCPD(variable='Sprinkler', variable_card=2,\n",
        "                           values=[[0.4, 0.9], [0.6, 0.1]],\n",
        "                           evidence=['Cloudy'], evidence_card=[2])\n",
        "print(cpt_cloudy)\n",
        "# Rain\n",
        "cpt_rain = TabularCPD(variable='Rain', variable_card=2,\n",
        "                      values=[[0.8, 0.2], [0.2, 0.8]],\n",
        "                      evidence=['Cloudy'], evidence_card=[2])\n",
        "print(cpt_rain)\n",
        "\n",
        "# Wet Grass\n",
        "cpt_wet_grass = TabularCPD(variable='Wet_Grass', variable_card=2,\n",
        "                           values=[[1, 0.1, 0.1, 0.01],\n",
        "                                  [0, 0.9, 0.9, 0.99]],\n",
        "                           evidence=['Sprinkler', 'Rain'],\n",
        "                           evidence_card=[2, 2])\n",
        "print(cpt_wet_grass)"
      ],
      "execution_count": 0,
      "outputs": []
    }
  ]
}