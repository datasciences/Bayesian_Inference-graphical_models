{
  "nbformat": 4,
  "nbformat_minor": 0,
  "metadata": {
    "kernelspec": {
      "display_name": "Python 3",
      "language": "python",
      "name": "python3"
    },
    "language_info": {
      "codemirror_mode": {
        "name": "ipython",
        "version": 3
      },
      "file_extension": ".py",
      "mimetype": "text/x-python",
      "name": "python",
      "nbconvert_exporter": "python",
      "pygments_lexer": "ipython3",
      "version": "3.7.4"
    },
    "colab": {
      "name": "heartmodel.ipynb",
      "provenance": [],
      "collapsed_sections": [
        "QcPsc571SPwe",
        "fI_g2jYYtM2a",
        "zvWB1nAnSF0P",
        "sIGA37MnSYJM"
      ]
    }
  },
  "cells": [
    {
      "cell_type": "markdown",
      "metadata": {
        "id": "EfNeykvBbGq4",
        "colab_type": "text"
      },
      "source": [
        "# Reference\n",
        "1. https://repository.aust.edu.ng/xmlui/bitstream/handle/123456789/4903/Muibideen%20Mistura.pdf?sequence=1&isAllowed=y\n",
        "2. https://github.com/gavinest/knn_predicting_heart_disease/blob/master/eda.ipynb"
      ]
    },
    {
      "cell_type": "markdown",
      "metadata": {
        "id": "SYGn7_vOSFds",
        "colab_type": "text"
      },
      "source": [
        "# Components to build a graphical model from data\n",
        "1. structure learning algorithm - Hill climbing\n",
        "2. Bayesian fit\n",
        "3. Parameter learning\n"
      ]
    },
    {
      "cell_type": "markdown",
      "metadata": {
        "id": "QcPsc571SPwe",
        "colab_type": "text"
      },
      "source": [
        "## install pgmpy"
      ]
    },
    {
      "cell_type": "code",
      "metadata": {
        "id": "TiapA88MBsPk",
        "colab_type": "code",
        "colab": {}
      },
      "source": [
        "!pip install pgmpy"
      ],
      "execution_count": 0,
      "outputs": []
    },
    {
      "cell_type": "markdown",
      "metadata": {
        "id": "fI_g2jYYtM2a",
        "colab_type": "text"
      },
      "source": [
        "# How to make use of bayesian fit and get cpds- toy example"
      ]
    },
    {
      "cell_type": "code",
      "metadata": {
        "id": "OKQuoCFatL6d",
        "colab_type": "code",
        "colab": {
          "base_uri": "https://localhost:8080/",
          "height": 0
        },
        "outputId": "08483f1d-cce9-487f-f42b-bab1e1b7c0f2"
      },
      "source": [
        "from pgmpy.models import BayesianModel\n",
        "from pgmpy.estimators import MaximumLikelihoodEstimator\n",
        "import pandas as pd\n",
        "\n",
        "data = {'X': [0, 0, 0, 0, 1, 1, 1, 1], 'Z': [0, 0, 0, 1, 0, 1, 1, 1]}\n",
        "data_xz = pd.DataFrame(data)\n",
        "\n",
        "model_xz = BayesianModel([('X','Z')])\n",
        "\n",
        "model_xz.fit(data_xz, estimator=MaximumLikelihoodEstimator)\n",
        "\n",
        "print (model_xz.get_cpds('Z'))"
      ],
      "execution_count": 3,
      "outputs": [
        {
          "output_type": "stream",
          "text": [
            "+------+------+------+\n",
            "| X    | X(0) | X(1) |\n",
            "+------+------+------+\n",
            "| Z(0) | 0.75 | 0.25 |\n",
            "+------+------+------+\n",
            "| Z(1) | 0.25 | 0.75 |\n",
            "+------+------+------+\n"
          ],
          "name": "stdout"
        }
      ]
    },
    {
      "cell_type": "markdown",
      "metadata": {
        "id": "T9bWNyC3UtTV",
        "colab_type": "text"
      },
      "source": [
        "print ('\\n Model-2: P(Z|X,Y)')\n",
        "from pgmpy.models import BayesianModel\n",
        "from pgmpy.estimators import MaximumLikelihoodEstimator\n",
        "\n",
        "data = {'X': [0, 0, 0, 0, 1, 1, 1, 1], 'Y': [0, 0, 1, 1, 0, 0, 1, 1], 'Z': [0, 0, 0, 1, 0, 1, 1, 1]}\n",
        "data_xyz1 = pd.DataFrame(data)\n",
        "model_xyz1 = BayesianModel([('X','Z'), ('Y','Z')])\n",
        "model_xyz1.fit(data_xyz1, estimator=MaximumLikelihoodEstimator)\n",
        "print (model_xyz1.get_cpds('Z'))\n",
        " "
      ]
    },
    {
      "cell_type": "markdown",
      "metadata": {
        "id": "TRTsX608SK5R",
        "colab_type": "text"
      },
      "source": [
        "# Heart disease model\n"
      ]
    },
    {
      "cell_type": "markdown",
      "metadata": {
        "id": "zvWB1nAnSF0P",
        "colab_type": "text"
      },
      "source": [
        "# mount google drive"
      ]
    },
    {
      "cell_type": "code",
      "metadata": {
        "id": "J6vJmpwPzoOR",
        "colab_type": "code",
        "outputId": "5c67e951-2e9d-46b2-ef75-acadbaaf306a",
        "colab": {
          "base_uri": "https://localhost:8080/",
          "height": 0
        }
      },
      "source": [
        "from google.colab import drive\n",
        "drive.mount('gdrive')\n",
        "\n",
        "import os\n",
        "os.chdir('/content/gdrive/My Drive/Colab_Notebooks/graphical-models/heart-model')"
      ],
      "execution_count": 4,
      "outputs": [
        {
          "output_type": "stream",
          "text": [
            "Go to this URL in a browser: https://accounts.google.com/o/oauth2/auth?client_id=947318989803-6bn6qk8qdgf4n4g3pfee6491hc0brc4i.apps.googleusercontent.com&redirect_uri=urn%3aietf%3awg%3aoauth%3a2.0%3aoob&response_type=code&scope=email%20https%3a%2f%2fwww.googleapis.com%2fauth%2fdocs.test%20https%3a%2f%2fwww.googleapis.com%2fauth%2fdrive%20https%3a%2f%2fwww.googleapis.com%2fauth%2fdrive.photos.readonly%20https%3a%2f%2fwww.googleapis.com%2fauth%2fpeopleapi.readonly\n",
            "\n",
            "Enter your authorization code:\n",
            "··········\n",
            "Mounted at gdrive\n"
          ],
          "name": "stdout"
        }
      ]
    },
    {
      "cell_type": "markdown",
      "metadata": {
        "id": "sIGA37MnSYJM",
        "colab_type": "text"
      },
      "source": [
        "# Import libraries"
      ]
    },
    {
      "cell_type": "code",
      "metadata": {
        "id": "a4cxXV4uxDhl",
        "colab_type": "code",
        "colab": {}
      },
      "source": [
        "#https://github.com/gavinest/knn_predicting_heart_disease/blob/master/eda.ipynb\n",
        "import numpy as np\n",
        "import matplotlib.pyplot as plt\n",
        "plt.style.use('ggplot')\n",
        "%matplotlib inline"
      ],
      "execution_count": 0,
      "outputs": []
    },
    {
      "cell_type": "markdown",
      "metadata": {
        "id": "U93GQU1TSbGh",
        "colab_type": "text"
      },
      "source": [
        "# Import data"
      ]
    },
    {
      "cell_type": "code",
      "metadata": {
        "id": "PxJNFIrFxDhu",
        "colab_type": "code",
        "colab": {}
      },
      "source": [
        "#import dataset while naming columns\n",
        "cols = ['age','sex','cp','trestbps','chol','fbs','restecg','thalach','exang','oldpeak','slope','ca','thal','num']\n",
        "df = pd.read_csv('processed.cleveland.data', index_col=False, names=cols, header=None)"
      ],
      "execution_count": 0,
      "outputs": []
    },
    {
      "cell_type": "markdown",
      "metadata": {
        "id": "b6yf8klFRIAb",
        "colab_type": "text"
      },
      "source": [
        "![alt text](https://imghostr.com/image.php?sig=ErhCDkaxa&h=5a3cae325e59dd0818871c8177055165&t=1586428087)"
      ]
    },
    {
      "cell_type": "markdown",
      "metadata": {
        "id": "DYnTxH_gSdl1",
        "colab_type": "text"
      },
      "source": [
        "## Exploratory data analysis"
      ]
    },
    {
      "cell_type": "code",
      "metadata": {
        "id": "Es-GGJKlxDh1",
        "colab_type": "code",
        "outputId": "d4349e97-edc2-4f24-a127-2d8f740685d4",
        "colab": {
          "base_uri": "https://localhost:8080/",
          "height": 0
        }
      },
      "source": [
        "df.head()"
      ],
      "execution_count": 7,
      "outputs": [
        {
          "output_type": "execute_result",
          "data": {
            "text/html": [
              "<div>\n",
              "<style scoped>\n",
              "    .dataframe tbody tr th:only-of-type {\n",
              "        vertical-align: middle;\n",
              "    }\n",
              "\n",
              "    .dataframe tbody tr th {\n",
              "        vertical-align: top;\n",
              "    }\n",
              "\n",
              "    .dataframe thead th {\n",
              "        text-align: right;\n",
              "    }\n",
              "</style>\n",
              "<table border=\"1\" class=\"dataframe\">\n",
              "  <thead>\n",
              "    <tr style=\"text-align: right;\">\n",
              "      <th></th>\n",
              "      <th>age</th>\n",
              "      <th>sex</th>\n",
              "      <th>cp</th>\n",
              "      <th>trestbps</th>\n",
              "      <th>chol</th>\n",
              "      <th>fbs</th>\n",
              "      <th>restecg</th>\n",
              "      <th>thalach</th>\n",
              "      <th>exang</th>\n",
              "      <th>oldpeak</th>\n",
              "      <th>slope</th>\n",
              "      <th>ca</th>\n",
              "      <th>thal</th>\n",
              "      <th>num</th>\n",
              "    </tr>\n",
              "  </thead>\n",
              "  <tbody>\n",
              "    <tr>\n",
              "      <th>0</th>\n",
              "      <td>63.0</td>\n",
              "      <td>1.0</td>\n",
              "      <td>1.0</td>\n",
              "      <td>145.0</td>\n",
              "      <td>233.0</td>\n",
              "      <td>1.0</td>\n",
              "      <td>2.0</td>\n",
              "      <td>150.0</td>\n",
              "      <td>0.0</td>\n",
              "      <td>2.3</td>\n",
              "      <td>3.0</td>\n",
              "      <td>0.0</td>\n",
              "      <td>6.0</td>\n",
              "      <td>0</td>\n",
              "    </tr>\n",
              "    <tr>\n",
              "      <th>1</th>\n",
              "      <td>67.0</td>\n",
              "      <td>1.0</td>\n",
              "      <td>4.0</td>\n",
              "      <td>160.0</td>\n",
              "      <td>286.0</td>\n",
              "      <td>0.0</td>\n",
              "      <td>2.0</td>\n",
              "      <td>108.0</td>\n",
              "      <td>1.0</td>\n",
              "      <td>1.5</td>\n",
              "      <td>2.0</td>\n",
              "      <td>3.0</td>\n",
              "      <td>3.0</td>\n",
              "      <td>2</td>\n",
              "    </tr>\n",
              "    <tr>\n",
              "      <th>2</th>\n",
              "      <td>67.0</td>\n",
              "      <td>1.0</td>\n",
              "      <td>4.0</td>\n",
              "      <td>120.0</td>\n",
              "      <td>229.0</td>\n",
              "      <td>0.0</td>\n",
              "      <td>2.0</td>\n",
              "      <td>129.0</td>\n",
              "      <td>1.0</td>\n",
              "      <td>2.6</td>\n",
              "      <td>2.0</td>\n",
              "      <td>2.0</td>\n",
              "      <td>7.0</td>\n",
              "      <td>1</td>\n",
              "    </tr>\n",
              "    <tr>\n",
              "      <th>3</th>\n",
              "      <td>37.0</td>\n",
              "      <td>1.0</td>\n",
              "      <td>3.0</td>\n",
              "      <td>130.0</td>\n",
              "      <td>250.0</td>\n",
              "      <td>0.0</td>\n",
              "      <td>0.0</td>\n",
              "      <td>187.0</td>\n",
              "      <td>0.0</td>\n",
              "      <td>3.5</td>\n",
              "      <td>3.0</td>\n",
              "      <td>0.0</td>\n",
              "      <td>3.0</td>\n",
              "      <td>0</td>\n",
              "    </tr>\n",
              "    <tr>\n",
              "      <th>4</th>\n",
              "      <td>41.0</td>\n",
              "      <td>0.0</td>\n",
              "      <td>2.0</td>\n",
              "      <td>130.0</td>\n",
              "      <td>204.0</td>\n",
              "      <td>0.0</td>\n",
              "      <td>2.0</td>\n",
              "      <td>172.0</td>\n",
              "      <td>0.0</td>\n",
              "      <td>1.4</td>\n",
              "      <td>1.0</td>\n",
              "      <td>0.0</td>\n",
              "      <td>3.0</td>\n",
              "      <td>0</td>\n",
              "    </tr>\n",
              "  </tbody>\n",
              "</table>\n",
              "</div>"
            ],
            "text/plain": [
              "    age  sex   cp  trestbps   chol  fbs  ...  exang  oldpeak  slope   ca  thal num\n",
              "0  63.0  1.0  1.0     145.0  233.0  1.0  ...    0.0      2.3    3.0  0.0   6.0   0\n",
              "1  67.0  1.0  4.0     160.0  286.0  0.0  ...    1.0      1.5    2.0  3.0   3.0   2\n",
              "2  67.0  1.0  4.0     120.0  229.0  0.0  ...    1.0      2.6    2.0  2.0   7.0   1\n",
              "3  37.0  1.0  3.0     130.0  250.0  0.0  ...    0.0      3.5    3.0  0.0   3.0   0\n",
              "4  41.0  0.0  2.0     130.0  204.0  0.0  ...    0.0      1.4    1.0  0.0   3.0   0\n",
              "\n",
              "[5 rows x 14 columns]"
            ]
          },
          "metadata": {
            "tags": []
          },
          "execution_count": 7
        }
      ]
    },
    {
      "cell_type": "code",
      "metadata": {
        "id": "4frUP29FxDh9",
        "colab_type": "code",
        "outputId": "34cdd137-3b9c-4fa8-ade0-c583ef310f1a",
        "colab": {
          "base_uri": "https://localhost:8080/",
          "height": 0
        }
      },
      "source": [
        "df.describe()"
      ],
      "execution_count": 8,
      "outputs": [
        {
          "output_type": "execute_result",
          "data": {
            "text/html": [
              "<div>\n",
              "<style scoped>\n",
              "    .dataframe tbody tr th:only-of-type {\n",
              "        vertical-align: middle;\n",
              "    }\n",
              "\n",
              "    .dataframe tbody tr th {\n",
              "        vertical-align: top;\n",
              "    }\n",
              "\n",
              "    .dataframe thead th {\n",
              "        text-align: right;\n",
              "    }\n",
              "</style>\n",
              "<table border=\"1\" class=\"dataframe\">\n",
              "  <thead>\n",
              "    <tr style=\"text-align: right;\">\n",
              "      <th></th>\n",
              "      <th>age</th>\n",
              "      <th>sex</th>\n",
              "      <th>cp</th>\n",
              "      <th>trestbps</th>\n",
              "      <th>chol</th>\n",
              "      <th>fbs</th>\n",
              "      <th>restecg</th>\n",
              "      <th>thalach</th>\n",
              "      <th>exang</th>\n",
              "      <th>oldpeak</th>\n",
              "      <th>slope</th>\n",
              "      <th>num</th>\n",
              "    </tr>\n",
              "  </thead>\n",
              "  <tbody>\n",
              "    <tr>\n",
              "      <th>count</th>\n",
              "      <td>303.000000</td>\n",
              "      <td>303.000000</td>\n",
              "      <td>303.000000</td>\n",
              "      <td>303.000000</td>\n",
              "      <td>303.000000</td>\n",
              "      <td>303.000000</td>\n",
              "      <td>303.000000</td>\n",
              "      <td>303.000000</td>\n",
              "      <td>303.000000</td>\n",
              "      <td>303.000000</td>\n",
              "      <td>303.000000</td>\n",
              "      <td>303.000000</td>\n",
              "    </tr>\n",
              "    <tr>\n",
              "      <th>mean</th>\n",
              "      <td>54.438944</td>\n",
              "      <td>0.679868</td>\n",
              "      <td>3.158416</td>\n",
              "      <td>131.689769</td>\n",
              "      <td>246.693069</td>\n",
              "      <td>0.148515</td>\n",
              "      <td>0.990099</td>\n",
              "      <td>149.607261</td>\n",
              "      <td>0.326733</td>\n",
              "      <td>1.039604</td>\n",
              "      <td>1.600660</td>\n",
              "      <td>0.937294</td>\n",
              "    </tr>\n",
              "    <tr>\n",
              "      <th>std</th>\n",
              "      <td>9.038662</td>\n",
              "      <td>0.467299</td>\n",
              "      <td>0.960126</td>\n",
              "      <td>17.599748</td>\n",
              "      <td>51.776918</td>\n",
              "      <td>0.356198</td>\n",
              "      <td>0.994971</td>\n",
              "      <td>22.875003</td>\n",
              "      <td>0.469794</td>\n",
              "      <td>1.161075</td>\n",
              "      <td>0.616226</td>\n",
              "      <td>1.228536</td>\n",
              "    </tr>\n",
              "    <tr>\n",
              "      <th>min</th>\n",
              "      <td>29.000000</td>\n",
              "      <td>0.000000</td>\n",
              "      <td>1.000000</td>\n",
              "      <td>94.000000</td>\n",
              "      <td>126.000000</td>\n",
              "      <td>0.000000</td>\n",
              "      <td>0.000000</td>\n",
              "      <td>71.000000</td>\n",
              "      <td>0.000000</td>\n",
              "      <td>0.000000</td>\n",
              "      <td>1.000000</td>\n",
              "      <td>0.000000</td>\n",
              "    </tr>\n",
              "    <tr>\n",
              "      <th>25%</th>\n",
              "      <td>48.000000</td>\n",
              "      <td>0.000000</td>\n",
              "      <td>3.000000</td>\n",
              "      <td>120.000000</td>\n",
              "      <td>211.000000</td>\n",
              "      <td>0.000000</td>\n",
              "      <td>0.000000</td>\n",
              "      <td>133.500000</td>\n",
              "      <td>0.000000</td>\n",
              "      <td>0.000000</td>\n",
              "      <td>1.000000</td>\n",
              "      <td>0.000000</td>\n",
              "    </tr>\n",
              "    <tr>\n",
              "      <th>50%</th>\n",
              "      <td>56.000000</td>\n",
              "      <td>1.000000</td>\n",
              "      <td>3.000000</td>\n",
              "      <td>130.000000</td>\n",
              "      <td>241.000000</td>\n",
              "      <td>0.000000</td>\n",
              "      <td>1.000000</td>\n",
              "      <td>153.000000</td>\n",
              "      <td>0.000000</td>\n",
              "      <td>0.800000</td>\n",
              "      <td>2.000000</td>\n",
              "      <td>0.000000</td>\n",
              "    </tr>\n",
              "    <tr>\n",
              "      <th>75%</th>\n",
              "      <td>61.000000</td>\n",
              "      <td>1.000000</td>\n",
              "      <td>4.000000</td>\n",
              "      <td>140.000000</td>\n",
              "      <td>275.000000</td>\n",
              "      <td>0.000000</td>\n",
              "      <td>2.000000</td>\n",
              "      <td>166.000000</td>\n",
              "      <td>1.000000</td>\n",
              "      <td>1.600000</td>\n",
              "      <td>2.000000</td>\n",
              "      <td>2.000000</td>\n",
              "    </tr>\n",
              "    <tr>\n",
              "      <th>max</th>\n",
              "      <td>77.000000</td>\n",
              "      <td>1.000000</td>\n",
              "      <td>4.000000</td>\n",
              "      <td>200.000000</td>\n",
              "      <td>564.000000</td>\n",
              "      <td>1.000000</td>\n",
              "      <td>2.000000</td>\n",
              "      <td>202.000000</td>\n",
              "      <td>1.000000</td>\n",
              "      <td>6.200000</td>\n",
              "      <td>3.000000</td>\n",
              "      <td>4.000000</td>\n",
              "    </tr>\n",
              "  </tbody>\n",
              "</table>\n",
              "</div>"
            ],
            "text/plain": [
              "              age         sex          cp  ...     oldpeak       slope         num\n",
              "count  303.000000  303.000000  303.000000  ...  303.000000  303.000000  303.000000\n",
              "mean    54.438944    0.679868    3.158416  ...    1.039604    1.600660    0.937294\n",
              "std      9.038662    0.467299    0.960126  ...    1.161075    0.616226    1.228536\n",
              "min     29.000000    0.000000    1.000000  ...    0.000000    1.000000    0.000000\n",
              "25%     48.000000    0.000000    3.000000  ...    0.000000    1.000000    0.000000\n",
              "50%     56.000000    1.000000    3.000000  ...    0.800000    2.000000    0.000000\n",
              "75%     61.000000    1.000000    4.000000  ...    1.600000    2.000000    2.000000\n",
              "max     77.000000    1.000000    4.000000  ...    6.200000    3.000000    4.000000\n",
              "\n",
              "[8 rows x 12 columns]"
            ]
          },
          "metadata": {
            "tags": []
          },
          "execution_count": 8
        }
      ]
    },
    {
      "cell_type": "code",
      "metadata": {
        "id": "u5W8BE-AxDiF",
        "colab_type": "code",
        "outputId": "2081c5dd-ccae-4c83-849c-8bf8134746c1",
        "colab": {
          "base_uri": "https://localhost:8080/",
          "height": 0
        }
      },
      "source": [
        "df.info()"
      ],
      "execution_count": 9,
      "outputs": [
        {
          "output_type": "stream",
          "text": [
            "<class 'pandas.core.frame.DataFrame'>\n",
            "RangeIndex: 303 entries, 0 to 302\n",
            "Data columns (total 14 columns):\n",
            " #   Column    Non-Null Count  Dtype  \n",
            "---  ------    --------------  -----  \n",
            " 0   age       303 non-null    float64\n",
            " 1   sex       303 non-null    float64\n",
            " 2   cp        303 non-null    float64\n",
            " 3   trestbps  303 non-null    float64\n",
            " 4   chol      303 non-null    float64\n",
            " 5   fbs       303 non-null    float64\n",
            " 6   restecg   303 non-null    float64\n",
            " 7   thalach   303 non-null    float64\n",
            " 8   exang     303 non-null    float64\n",
            " 9   oldpeak   303 non-null    float64\n",
            " 10  slope     303 non-null    float64\n",
            " 11  ca        303 non-null    object \n",
            " 12  thal      303 non-null    object \n",
            " 13  num       303 non-null    int64  \n",
            "dtypes: float64(11), int64(1), object(2)\n",
            "memory usage: 33.3+ KB\n"
          ],
          "name": "stdout"
        }
      ]
    },
    {
      "cell_type": "code",
      "metadata": {
        "id": "G1s-skt6xDiV",
        "colab_type": "code",
        "outputId": "8cced020-cdde-4d6d-a6c8-7dedf8485c8b",
        "colab": {
          "base_uri": "https://localhost:8080/",
          "height": 0
        }
      },
      "source": [
        "#investigate object datatypes\n",
        "print(df['ca'].unique())\n",
        "print(df['thal'].unique())"
      ],
      "execution_count": 10,
      "outputs": [
        {
          "output_type": "stream",
          "text": [
            "['0.0' '3.0' '2.0' '1.0' '?']\n",
            "['6.0' '3.0' '7.0' '?']\n"
          ],
          "name": "stdout"
        }
      ]
    },
    {
      "cell_type": "code",
      "metadata": {
        "id": "4y06LvEnxDic",
        "colab_type": "code",
        "colab": {}
      },
      "source": [
        "#replace '?' with 'np.nan' for now to avoid errors in eda\n",
        "#cast dtypes as float\n",
        "def clean(x):\n",
        "    if x.strip() == '?':\n",
        "        return np.nan\n",
        "    else:\n",
        "        return x\n",
        "\n",
        "df['ca'] = df['ca'].apply(clean).astype('float64')\n",
        "df['thal'] = df['thal'].apply(clean).astype('float64')\n"
      ],
      "execution_count": 0,
      "outputs": []
    },
    {
      "cell_type": "code",
      "metadata": {
        "id": "ZqGEgLdgxDii",
        "colab_type": "code",
        "outputId": "be6cacec-7dbe-4983-d6c1-961846ab2142",
        "colab": {
          "base_uri": "https://localhost:8080/",
          "height": 0
        }
      },
      "source": [
        "print(df['ca'].unique())\n",
        "print(df['thal'].unique())"
      ],
      "execution_count": 12,
      "outputs": [
        {
          "output_type": "stream",
          "text": [
            "[ 0.  3.  2.  1. nan]\n",
            "[ 6.  3.  7. nan]\n"
          ],
          "name": "stdout"
        }
      ]
    },
    {
      "cell_type": "code",
      "metadata": {
        "id": "NVIsFBu1xDin",
        "colab_type": "code",
        "outputId": "35c64c8b-8162-4ee3-d29b-e549a955f435",
        "colab": {
          "base_uri": "https://localhost:8080/",
          "height": 0
        }
      },
      "source": [
        "#drop rows with nans for now. only looses 6 rows. \n",
        "df.dropna(inplace=True)\n",
        "print(df.shape)"
      ],
      "execution_count": 13,
      "outputs": [
        {
          "output_type": "stream",
          "text": [
            "(297, 14)\n"
          ],
          "name": "stdout"
        }
      ]
    },
    {
      "cell_type": "code",
      "metadata": {
        "colab_type": "code",
        "outputId": "273b9a7c-498f-4b50-b217-fe75293c9d03",
        "id": "GfDT-DGQRibq",
        "colab": {
          "base_uri": "https://localhost:8080/",
          "height": 0
        }
      },
      "source": [
        "for col in df.columns.tolist():\n",
        "    print(col, len(df[col].unique()))"
      ],
      "execution_count": 14,
      "outputs": [
        {
          "output_type": "stream",
          "text": [
            "age 41\n",
            "sex 2\n",
            "cp 4\n",
            "trestbps 50\n",
            "chol 152\n",
            "fbs 2\n",
            "restecg 3\n",
            "thalach 91\n",
            "exang 2\n",
            "oldpeak 40\n",
            "slope 3\n",
            "ca 4\n",
            "thal 3\n",
            "num 5\n"
          ],
          "name": "stdout"
        }
      ]
    },
    {
      "cell_type": "code",
      "metadata": {
        "id": "nCZeJ06rxDix",
        "colab_type": "code",
        "outputId": "7d756a51-581e-46a5-ec10-e05d422019e6",
        "colab": {
          "base_uri": "https://localhost:8080/",
          "height": 0
        }
      },
      "source": [
        "#separate categorical variables from continuous\n",
        "cat_var = [col for col in df.columns.tolist() if len(df[col].unique()) <=5]\n",
        "print(len(cat_var))\n",
        "cont_var = [col for col in df.columns.tolist() if len(df[col].unique()) > 5]\n",
        "print(len(cont_var))"
      ],
      "execution_count": 15,
      "outputs": [
        {
          "output_type": "stream",
          "text": [
            "9\n",
            "5\n"
          ],
          "name": "stdout"
        }
      ]
    },
    {
      "cell_type": "code",
      "metadata": {
        "id": "mxPPj7pmxDi2",
        "colab_type": "code",
        "outputId": "3f0ae8fe-0ed4-4c88-94cb-4029bee844e4",
        "colab": {
          "base_uri": "https://localhost:8080/",
          "height": 0
        }
      },
      "source": [
        "#explore distributions of continuous variables\n",
        "fig, axes = plt.subplots(3,2, figsize=(12,10))\n",
        "for i, ax in enumerate(axes.flatten()):\n",
        "    column_name = cont_var[i]\n",
        "    ax.hist(df[column_name])\n",
        "    ax.set_title(column_name)\n",
        "\n",
        "plt.tightlayout()"
      ],
      "execution_count": 16,
      "outputs": [
        {
          "output_type": "error",
          "ename": "IndexError",
          "evalue": "ignored",
          "traceback": [
            "\u001b[0;31m---------------------------------------------------------------------------\u001b[0m",
            "\u001b[0;31mIndexError\u001b[0m                                Traceback (most recent call last)",
            "\u001b[0;32m<ipython-input-16-a998f879dfee>\u001b[0m in \u001b[0;36m<module>\u001b[0;34m()\u001b[0m\n\u001b[1;32m      1\u001b[0m \u001b[0mfig\u001b[0m\u001b[0;34m,\u001b[0m \u001b[0maxes\u001b[0m \u001b[0;34m=\u001b[0m \u001b[0mplt\u001b[0m\u001b[0;34m.\u001b[0m\u001b[0msubplots\u001b[0m\u001b[0;34m(\u001b[0m\u001b[0;36m3\u001b[0m\u001b[0;34m,\u001b[0m\u001b[0;36m2\u001b[0m\u001b[0;34m,\u001b[0m \u001b[0mfigsize\u001b[0m\u001b[0;34m=\u001b[0m\u001b[0;34m(\u001b[0m\u001b[0;36m12\u001b[0m\u001b[0;34m,\u001b[0m\u001b[0;36m10\u001b[0m\u001b[0;34m)\u001b[0m\u001b[0;34m)\u001b[0m\u001b[0;34m\u001b[0m\u001b[0;34m\u001b[0m\u001b[0m\n\u001b[1;32m      2\u001b[0m \u001b[0;32mfor\u001b[0m \u001b[0mi\u001b[0m\u001b[0;34m,\u001b[0m \u001b[0max\u001b[0m \u001b[0;32min\u001b[0m \u001b[0menumerate\u001b[0m\u001b[0;34m(\u001b[0m\u001b[0maxes\u001b[0m\u001b[0;34m.\u001b[0m\u001b[0mflatten\u001b[0m\u001b[0;34m(\u001b[0m\u001b[0;34m)\u001b[0m\u001b[0;34m)\u001b[0m\u001b[0;34m:\u001b[0m\u001b[0;34m\u001b[0m\u001b[0;34m\u001b[0m\u001b[0m\n\u001b[0;32m----> 3\u001b[0;31m     \u001b[0mcolumn_name\u001b[0m \u001b[0;34m=\u001b[0m \u001b[0mcont_var\u001b[0m\u001b[0;34m[\u001b[0m\u001b[0mi\u001b[0m\u001b[0;34m]\u001b[0m\u001b[0;34m\u001b[0m\u001b[0;34m\u001b[0m\u001b[0m\n\u001b[0m\u001b[1;32m      4\u001b[0m     \u001b[0max\u001b[0m\u001b[0;34m.\u001b[0m\u001b[0mhist\u001b[0m\u001b[0;34m(\u001b[0m\u001b[0mdf\u001b[0m\u001b[0;34m[\u001b[0m\u001b[0mcolumn_name\u001b[0m\u001b[0;34m]\u001b[0m\u001b[0;34m)\u001b[0m\u001b[0;34m\u001b[0m\u001b[0;34m\u001b[0m\u001b[0m\n\u001b[1;32m      5\u001b[0m     \u001b[0max\u001b[0m\u001b[0;34m.\u001b[0m\u001b[0mset_title\u001b[0m\u001b[0;34m(\u001b[0m\u001b[0mcolumn_name\u001b[0m\u001b[0;34m)\u001b[0m\u001b[0;34m\u001b[0m\u001b[0;34m\u001b[0m\u001b[0m\n",
            "\u001b[0;31mIndexError\u001b[0m: list index out of range"
          ]
        },
        {
          "output_type": "display_data",
          "data": {
            "image/png": "[encoded data removed]",
            "text/plain": [
              "<Figure size 864x720 with 6 Axes>"
            ]
          },
          "metadata": {
            "tags": []
          }
        }
      ]
    },
    {
      "cell_type": "code",
      "metadata": {
        "id": "dyzgAhHXxDi6",
        "colab_type": "code",
        "colab": {}
      },
      "source": [
        "fig, axes = plt.subplots(2, 5, figsize=(12,10))\n",
        "for i, ax in enumerate(axes.flatten()):\n",
        "    column_name = cat_var[i]\n",
        "    ax.hist(df[column_name])\n",
        "    ax.set_title(column_name)\n",
        "\n",
        "plt.tightlayout()"
      ],
      "execution_count": 0,
      "outputs": []
    },
    {
      "cell_type": "code",
      "metadata": {
        "id": "vp-hUOjMxDi_",
        "colab_type": "code",
        "colab": {}
      },
      "source": [
        "# #change predictor ('num') col to boolean\n",
        "df['num'] = df['num'] > 0\n",
        "df['num'] = df['num'].map({False: 0, True: 1})"
      ],
      "execution_count": 0,
      "outputs": []
    },
    {
      "cell_type": "code",
      "metadata": {
        "id": "9iDjTHVuxDjD",
        "colab_type": "code",
        "outputId": "d97ae3c3-68d8-412b-aad7-0abb9e7ed684",
        "colab": {
          "base_uri": "https://localhost:8080/",
          "height": 0
        }
      },
      "source": [
        "df.head()"
      ],
      "execution_count": 17,
      "outputs": [
        {
          "output_type": "execute_result",
          "data": {
            "text/html": [
              "<div>\n",
              "<style scoped>\n",
              "    .dataframe tbody tr th:only-of-type {\n",
              "        vertical-align: middle;\n",
              "    }\n",
              "\n",
              "    .dataframe tbody tr th {\n",
              "        vertical-align: top;\n",
              "    }\n",
              "\n",
              "    .dataframe thead th {\n",
              "        text-align: right;\n",
              "    }\n",
              "</style>\n",
              "<table border=\"1\" class=\"dataframe\">\n",
              "  <thead>\n",
              "    <tr style=\"text-align: right;\">\n",
              "      <th></th>\n",
              "      <th>age</th>\n",
              "      <th>sex</th>\n",
              "      <th>cp</th>\n",
              "      <th>trestbps</th>\n",
              "      <th>chol</th>\n",
              "      <th>fbs</th>\n",
              "      <th>restecg</th>\n",
              "      <th>thalach</th>\n",
              "      <th>exang</th>\n",
              "      <th>oldpeak</th>\n",
              "      <th>slope</th>\n",
              "      <th>ca</th>\n",
              "      <th>thal</th>\n",
              "      <th>num</th>\n",
              "    </tr>\n",
              "  </thead>\n",
              "  <tbody>\n",
              "    <tr>\n",
              "      <th>0</th>\n",
              "      <td>63.0</td>\n",
              "      <td>1.0</td>\n",
              "      <td>1.0</td>\n",
              "      <td>145.0</td>\n",
              "      <td>233.0</td>\n",
              "      <td>1.0</td>\n",
              "      <td>2.0</td>\n",
              "      <td>150.0</td>\n",
              "      <td>0.0</td>\n",
              "      <td>2.3</td>\n",
              "      <td>3.0</td>\n",
              "      <td>0.0</td>\n",
              "      <td>6.0</td>\n",
              "      <td>0</td>\n",
              "    </tr>\n",
              "    <tr>\n",
              "      <th>1</th>\n",
              "      <td>67.0</td>\n",
              "      <td>1.0</td>\n",
              "      <td>4.0</td>\n",
              "      <td>160.0</td>\n",
              "      <td>286.0</td>\n",
              "      <td>0.0</td>\n",
              "      <td>2.0</td>\n",
              "      <td>108.0</td>\n",
              "      <td>1.0</td>\n",
              "      <td>1.5</td>\n",
              "      <td>2.0</td>\n",
              "      <td>3.0</td>\n",
              "      <td>3.0</td>\n",
              "      <td>2</td>\n",
              "    </tr>\n",
              "    <tr>\n",
              "      <th>2</th>\n",
              "      <td>67.0</td>\n",
              "      <td>1.0</td>\n",
              "      <td>4.0</td>\n",
              "      <td>120.0</td>\n",
              "      <td>229.0</td>\n",
              "      <td>0.0</td>\n",
              "      <td>2.0</td>\n",
              "      <td>129.0</td>\n",
              "      <td>1.0</td>\n",
              "      <td>2.6</td>\n",
              "      <td>2.0</td>\n",
              "      <td>2.0</td>\n",
              "      <td>7.0</td>\n",
              "      <td>1</td>\n",
              "    </tr>\n",
              "    <tr>\n",
              "      <th>3</th>\n",
              "      <td>37.0</td>\n",
              "      <td>1.0</td>\n",
              "      <td>3.0</td>\n",
              "      <td>130.0</td>\n",
              "      <td>250.0</td>\n",
              "      <td>0.0</td>\n",
              "      <td>0.0</td>\n",
              "      <td>187.0</td>\n",
              "      <td>0.0</td>\n",
              "      <td>3.5</td>\n",
              "      <td>3.0</td>\n",
              "      <td>0.0</td>\n",
              "      <td>3.0</td>\n",
              "      <td>0</td>\n",
              "    </tr>\n",
              "    <tr>\n",
              "      <th>4</th>\n",
              "      <td>41.0</td>\n",
              "      <td>0.0</td>\n",
              "      <td>2.0</td>\n",
              "      <td>130.0</td>\n",
              "      <td>204.0</td>\n",
              "      <td>0.0</td>\n",
              "      <td>2.0</td>\n",
              "      <td>172.0</td>\n",
              "      <td>0.0</td>\n",
              "      <td>1.4</td>\n",
              "      <td>1.0</td>\n",
              "      <td>0.0</td>\n",
              "      <td>3.0</td>\n",
              "      <td>0</td>\n",
              "    </tr>\n",
              "  </tbody>\n",
              "</table>\n",
              "</div>"
            ],
            "text/plain": [
              "    age  sex   cp  trestbps   chol  fbs  ...  exang  oldpeak  slope   ca  thal  num\n",
              "0  63.0  1.0  1.0     145.0  233.0  1.0  ...    0.0      2.3    3.0  0.0   6.0    0\n",
              "1  67.0  1.0  4.0     160.0  286.0  0.0  ...    1.0      1.5    2.0  3.0   3.0    2\n",
              "2  67.0  1.0  4.0     120.0  229.0  0.0  ...    1.0      2.6    2.0  2.0   7.0    1\n",
              "3  37.0  1.0  3.0     130.0  250.0  0.0  ...    0.0      3.5    3.0  0.0   3.0    0\n",
              "4  41.0  0.0  2.0     130.0  204.0  0.0  ...    0.0      1.4    1.0  0.0   3.0    0\n",
              "\n",
              "[5 rows x 14 columns]"
            ]
          },
          "metadata": {
            "tags": []
          },
          "execution_count": 17
        }
      ]
    },
    {
      "cell_type": "code",
      "metadata": {
        "id": "24oNtxpSxDjG",
        "colab_type": "code",
        "outputId": "d8273c3e-6ded-4726-e80e-d138415045bf",
        "colab": {
          "base_uri": "https://localhost:8080/",
          "height": 0
        }
      },
      "source": [
        "fig, (ax1, ax2) = plt.subplots(1,2, figsize=(8, 4))\n",
        "ax1.hist(df['num'])\n",
        "ax1.set_title('Predictor Column')\n",
        "\n",
        "#change predictor ('num') col to boolean\n",
        "df['num'] = df['num'] > 0\n",
        "df['num'] = df['num'].map({False: 0, True: 1})\n",
        "\n",
        "ax2.hist(df['num'])\n",
        "ax2.set_title('Predictor Column Cleaned')\n",
        "plt.xticks([0,1], ['No Heart Disease', 'Heart Disease'])\n",
        "plt.tight_layout()\n",
        "plt.savefig('predictor_column.png')"
      ],
      "execution_count": 18,
      "outputs": [
        {
          "output_type": "display_data",
          "data": {
            "image/png": "[encoded data removed]",
            "text/plain": [
              "<Figure size 576x288 with 2 Axes>"
            ]
          },
          "metadata": {
            "tags": []
          }
        }
      ]
    },
    {
      "cell_type": "markdown",
      "metadata": {
        "id": "mMJ1jZXwxDjX",
        "colab_type": "text"
      },
      "source": [
        "# Discritization of variables"
      ]
    },
    {
      "cell_type": "code",
      "metadata": {
        "id": "JNQ_1rbMxDjY",
        "colab_type": "code",
        "colab": {}
      },
      "source": [
        "bins = [28, 45, 64, 79]\n",
        "names = [0, 1, 2]\n",
        "df['AgeC'] = pd.cut(df['age'], bins, labels = names)"
      ],
      "execution_count": 0,
      "outputs": []
    },
    {
      "cell_type": "code",
      "metadata": {
        "id": "wPHIuGKSxDjc",
        "colab_type": "code",
        "outputId": "6ecd3f97-b6e9-4598-b915-10ebee814e3a",
        "colab": {
          "base_uri": "https://localhost:8080/",
          "height": 0
        }
      },
      "source": [
        "df.age"
      ],
      "execution_count": 20,
      "outputs": [
        {
          "output_type": "execute_result",
          "data": {
            "text/plain": [
              "0      63.0\n",
              "1      67.0\n",
              "2      67.0\n",
              "3      37.0\n",
              "4      41.0\n",
              "       ... \n",
              "297    57.0\n",
              "298    45.0\n",
              "299    68.0\n",
              "300    57.0\n",
              "301    57.0\n",
              "Name: age, Length: 297, dtype: float64"
            ]
          },
          "metadata": {
            "tags": []
          },
          "execution_count": 20
        }
      ]
    },
    {
      "cell_type": "code",
      "metadata": {
        "id": "f7OOBWqZxDjg",
        "colab_type": "code",
        "outputId": "693c0052-651e-4ae4-bf3c-40fd1508ce5c",
        "colab": {
          "base_uri": "https://localhost:8080/",
          "height": 0
        }
      },
      "source": [
        "df.head()"
      ],
      "execution_count": 21,
      "outputs": [
        {
          "output_type": "execute_result",
          "data": {
            "text/html": [
              "<div>\n",
              "<style scoped>\n",
              "    .dataframe tbody tr th:only-of-type {\n",
              "        vertical-align: middle;\n",
              "    }\n",
              "\n",
              "    .dataframe tbody tr th {\n",
              "        vertical-align: top;\n",
              "    }\n",
              "\n",
              "    .dataframe thead th {\n",
              "        text-align: right;\n",
              "    }\n",
              "</style>\n",
              "<table border=\"1\" class=\"dataframe\">\n",
              "  <thead>\n",
              "    <tr style=\"text-align: right;\">\n",
              "      <th></th>\n",
              "      <th>age</th>\n",
              "      <th>sex</th>\n",
              "      <th>cp</th>\n",
              "      <th>trestbps</th>\n",
              "      <th>chol</th>\n",
              "      <th>fbs</th>\n",
              "      <th>restecg</th>\n",
              "      <th>thalach</th>\n",
              "      <th>exang</th>\n",
              "      <th>oldpeak</th>\n",
              "      <th>slope</th>\n",
              "      <th>ca</th>\n",
              "      <th>thal</th>\n",
              "      <th>num</th>\n",
              "      <th>AgeC</th>\n",
              "    </tr>\n",
              "  </thead>\n",
              "  <tbody>\n",
              "    <tr>\n",
              "      <th>0</th>\n",
              "      <td>63.0</td>\n",
              "      <td>1.0</td>\n",
              "      <td>1.0</td>\n",
              "      <td>145.0</td>\n",
              "      <td>233.0</td>\n",
              "      <td>1.0</td>\n",
              "      <td>2.0</td>\n",
              "      <td>150.0</td>\n",
              "      <td>0.0</td>\n",
              "      <td>2.3</td>\n",
              "      <td>3.0</td>\n",
              "      <td>0.0</td>\n",
              "      <td>6.0</td>\n",
              "      <td>0</td>\n",
              "      <td>1</td>\n",
              "    </tr>\n",
              "    <tr>\n",
              "      <th>1</th>\n",
              "      <td>67.0</td>\n",
              "      <td>1.0</td>\n",
              "      <td>4.0</td>\n",
              "      <td>160.0</td>\n",
              "      <td>286.0</td>\n",
              "      <td>0.0</td>\n",
              "      <td>2.0</td>\n",
              "      <td>108.0</td>\n",
              "      <td>1.0</td>\n",
              "      <td>1.5</td>\n",
              "      <td>2.0</td>\n",
              "      <td>3.0</td>\n",
              "      <td>3.0</td>\n",
              "      <td>1</td>\n",
              "      <td>2</td>\n",
              "    </tr>\n",
              "    <tr>\n",
              "      <th>2</th>\n",
              "      <td>67.0</td>\n",
              "      <td>1.0</td>\n",
              "      <td>4.0</td>\n",
              "      <td>120.0</td>\n",
              "      <td>229.0</td>\n",
              "      <td>0.0</td>\n",
              "      <td>2.0</td>\n",
              "      <td>129.0</td>\n",
              "      <td>1.0</td>\n",
              "      <td>2.6</td>\n",
              "      <td>2.0</td>\n",
              "      <td>2.0</td>\n",
              "      <td>7.0</td>\n",
              "      <td>1</td>\n",
              "      <td>2</td>\n",
              "    </tr>\n",
              "    <tr>\n",
              "      <th>3</th>\n",
              "      <td>37.0</td>\n",
              "      <td>1.0</td>\n",
              "      <td>3.0</td>\n",
              "      <td>130.0</td>\n",
              "      <td>250.0</td>\n",
              "      <td>0.0</td>\n",
              "      <td>0.0</td>\n",
              "      <td>187.0</td>\n",
              "      <td>0.0</td>\n",
              "      <td>3.5</td>\n",
              "      <td>3.0</td>\n",
              "      <td>0.0</td>\n",
              "      <td>3.0</td>\n",
              "      <td>0</td>\n",
              "      <td>0</td>\n",
              "    </tr>\n",
              "    <tr>\n",
              "      <th>4</th>\n",
              "      <td>41.0</td>\n",
              "      <td>0.0</td>\n",
              "      <td>2.0</td>\n",
              "      <td>130.0</td>\n",
              "      <td>204.0</td>\n",
              "      <td>0.0</td>\n",
              "      <td>2.0</td>\n",
              "      <td>172.0</td>\n",
              "      <td>0.0</td>\n",
              "      <td>1.4</td>\n",
              "      <td>1.0</td>\n",
              "      <td>0.0</td>\n",
              "      <td>3.0</td>\n",
              "      <td>0</td>\n",
              "      <td>0</td>\n",
              "    </tr>\n",
              "  </tbody>\n",
              "</table>\n",
              "</div>"
            ],
            "text/plain": [
              "    age  sex   cp  trestbps   chol  fbs  ...  oldpeak  slope   ca  thal  num  AgeC\n",
              "0  63.0  1.0  1.0     145.0  233.0  1.0  ...      2.3    3.0  0.0   6.0    0     1\n",
              "1  67.0  1.0  4.0     160.0  286.0  0.0  ...      1.5    2.0  3.0   3.0    1     2\n",
              "2  67.0  1.0  4.0     120.0  229.0  0.0  ...      2.6    2.0  2.0   7.0    1     2\n",
              "3  37.0  1.0  3.0     130.0  250.0  0.0  ...      3.5    3.0  0.0   3.0    0     0\n",
              "4  41.0  0.0  2.0     130.0  204.0  0.0  ...      1.4    1.0  0.0   3.0    0     0\n",
              "\n",
              "[5 rows x 15 columns]"
            ]
          },
          "metadata": {
            "tags": []
          },
          "execution_count": 21
        }
      ]
    },
    {
      "cell_type": "code",
      "metadata": {
        "id": "qvmWyfejxDjk",
        "colab_type": "code",
        "colab": {}
      },
      "source": [
        "# trestbps \n",
        "bins = [90, 120, 140, 201]\n",
        "names = [0, 1, 2]\n",
        "\n",
        "df['trestbpsC'] = pd.cut(df['trestbps'], bins , labels = names)"
      ],
      "execution_count": 0,
      "outputs": []
    },
    {
      "cell_type": "code",
      "metadata": {
        "id": "Upsmm5QGxDjo",
        "colab_type": "code",
        "colab": {}
      },
      "source": [
        "# chol attribute\n",
        "bins = [125, 200, 240, 565]\n",
        "names = [0, 1, 2]\n",
        "df['cholC'] = pd.cut(df['chol'], bins, labels = names)"
      ],
      "execution_count": 0,
      "outputs": []
    },
    {
      "cell_type": "code",
      "metadata": {
        "id": "2AGuvWuQxDju",
        "colab_type": "code",
        "colab": {}
      },
      "source": [
        "# To discritize thalach attribute\n",
        "df['220-age'] = 220 - df['age']\n",
        "df['thalachC'] = df['220-age'] < df['thalach']\n",
        "df['thalachC'].replace([True, False], [1, 0], inplace = True)"
      ],
      "execution_count": 0,
      "outputs": []
    },
    {
      "cell_type": "code",
      "metadata": {
        "id": "Zwi1YwuqxDjz",
        "colab_type": "code",
        "colab": {}
      },
      "source": [
        "# To discritize oldpeak \n",
        "bins = [-1, 2, 6.3]\n",
        "names = [0, 1]\n",
        "\n",
        "df['oldpeakC'] = pd.cut(df['oldpeak'], bins, labels = names)"
      ],
      "execution_count": 0,
      "outputs": []
    },
    {
      "cell_type": "code",
      "metadata": {
        "id": "epQ6cFLqxDj7",
        "colab_type": "code",
        "colab": {}
      },
      "source": [
        "df_heart = df[['sex', 'cp', 'fbs', 'restecg', 'exang', 'slope', 'ca', 'thal', 'num', 'AgeC', 'trestbpsC', 'cholC', 'thalachC', 'oldpeakC']]"
      ],
      "execution_count": 0,
      "outputs": []
    },
    {
      "cell_type": "code",
      "metadata": {
        "id": "NwC-AKCZEEvp",
        "colab_type": "code",
        "colab": {}
      },
      "source": [
        "#df_heart = df[['num', 'AgeC', 'trestbpsC', 'cholC', 'thalachC', 'oldpeakC']]"
      ],
      "execution_count": 0,
      "outputs": []
    },
    {
      "cell_type": "code",
      "metadata": {
        "id": "a-hmGg_6xDkB",
        "colab_type": "code",
        "outputId": "178bc65b-a3a1-496f-8aea-4f37df8cd162",
        "colab": {
          "base_uri": "https://localhost:8080/",
          "height": 0
        }
      },
      "source": [
        "df_heart.head()"
      ],
      "execution_count": 63,
      "outputs": [
        {
          "output_type": "execute_result",
          "data": {
            "text/html": [
              "<div>\n",
              "<style scoped>\n",
              "    .dataframe tbody tr th:only-of-type {\n",
              "        vertical-align: middle;\n",
              "    }\n",
              "\n",
              "    .dataframe tbody tr th {\n",
              "        vertical-align: top;\n",
              "    }\n",
              "\n",
              "    .dataframe thead th {\n",
              "        text-align: right;\n",
              "    }\n",
              "</style>\n",
              "<table border=\"1\" class=\"dataframe\">\n",
              "  <thead>\n",
              "    <tr style=\"text-align: right;\">\n",
              "      <th></th>\n",
              "      <th>sex</th>\n",
              "      <th>cp</th>\n",
              "      <th>fbs</th>\n",
              "      <th>restecg</th>\n",
              "      <th>exang</th>\n",
              "      <th>slope</th>\n",
              "      <th>ca</th>\n",
              "      <th>thal</th>\n",
              "      <th>num</th>\n",
              "      <th>AgeC</th>\n",
              "      <th>trestbpsC</th>\n",
              "      <th>cholC</th>\n",
              "      <th>thalachC</th>\n",
              "      <th>oldpeakC</th>\n",
              "    </tr>\n",
              "  </thead>\n",
              "  <tbody>\n",
              "    <tr>\n",
              "      <th>0</th>\n",
              "      <td>1.0</td>\n",
              "      <td>1.0</td>\n",
              "      <td>1.0</td>\n",
              "      <td>2.0</td>\n",
              "      <td>0.0</td>\n",
              "      <td>3.0</td>\n",
              "      <td>0.0</td>\n",
              "      <td>6.0</td>\n",
              "      <td>0</td>\n",
              "      <td>1</td>\n",
              "      <td>2</td>\n",
              "      <td>1</td>\n",
              "      <td>0</td>\n",
              "      <td>1</td>\n",
              "    </tr>\n",
              "    <tr>\n",
              "      <th>1</th>\n",
              "      <td>1.0</td>\n",
              "      <td>4.0</td>\n",
              "      <td>0.0</td>\n",
              "      <td>2.0</td>\n",
              "      <td>1.0</td>\n",
              "      <td>2.0</td>\n",
              "      <td>3.0</td>\n",
              "      <td>3.0</td>\n",
              "      <td>1</td>\n",
              "      <td>2</td>\n",
              "      <td>2</td>\n",
              "      <td>2</td>\n",
              "      <td>0</td>\n",
              "      <td>0</td>\n",
              "    </tr>\n",
              "    <tr>\n",
              "      <th>2</th>\n",
              "      <td>1.0</td>\n",
              "      <td>4.0</td>\n",
              "      <td>0.0</td>\n",
              "      <td>2.0</td>\n",
              "      <td>1.0</td>\n",
              "      <td>2.0</td>\n",
              "      <td>2.0</td>\n",
              "      <td>7.0</td>\n",
              "      <td>1</td>\n",
              "      <td>2</td>\n",
              "      <td>0</td>\n",
              "      <td>1</td>\n",
              "      <td>0</td>\n",
              "      <td>1</td>\n",
              "    </tr>\n",
              "    <tr>\n",
              "      <th>3</th>\n",
              "      <td>1.0</td>\n",
              "      <td>3.0</td>\n",
              "      <td>0.0</td>\n",
              "      <td>0.0</td>\n",
              "      <td>0.0</td>\n",
              "      <td>3.0</td>\n",
              "      <td>0.0</td>\n",
              "      <td>3.0</td>\n",
              "      <td>0</td>\n",
              "      <td>0</td>\n",
              "      <td>1</td>\n",
              "      <td>2</td>\n",
              "      <td>1</td>\n",
              "      <td>1</td>\n",
              "    </tr>\n",
              "    <tr>\n",
              "      <th>4</th>\n",
              "      <td>0.0</td>\n",
              "      <td>2.0</td>\n",
              "      <td>0.0</td>\n",
              "      <td>2.0</td>\n",
              "      <td>0.0</td>\n",
              "      <td>1.0</td>\n",
              "      <td>0.0</td>\n",
              "      <td>3.0</td>\n",
              "      <td>0</td>\n",
              "      <td>0</td>\n",
              "      <td>1</td>\n",
              "      <td>1</td>\n",
              "      <td>0</td>\n",
              "      <td>0</td>\n",
              "    </tr>\n",
              "  </tbody>\n",
              "</table>\n",
              "</div>"
            ],
            "text/plain": [
              "   sex   cp  fbs  restecg  exang  ...  AgeC  trestbpsC  cholC  thalachC oldpeakC\n",
              "0  1.0  1.0  1.0      2.0    0.0  ...     1          2      1         0        1\n",
              "1  1.0  4.0  0.0      2.0    1.0  ...     2          2      2         0        0\n",
              "2  1.0  4.0  0.0      2.0    1.0  ...     2          0      1         0        1\n",
              "3  1.0  3.0  0.0      0.0    0.0  ...     0          1      2         1        1\n",
              "4  0.0  2.0  0.0      2.0    0.0  ...     0          1      1         0        0\n",
              "\n",
              "[5 rows x 14 columns]"
            ]
          },
          "metadata": {
            "tags": []
          },
          "execution_count": 63
        }
      ]
    },
    {
      "cell_type": "markdown",
      "metadata": {
        "id": "j9eyHZt__gMU",
        "colab_type": "text"
      },
      "source": [
        "# Learn network structure: Hill climbing\n",
        "Performs local hill climb search to estimates the DAG structure that has optimal score, according to the scoring method supplied in the constructor. Starts at model start and proceeds by step-by-step network modifications until a local maximum is reached. Only estimates network structure, no parametrization."
      ]
    },
    {
      "cell_type": "code",
      "metadata": {
        "id": "D9tYofAGxDkL",
        "colab_type": "code",
        "colab": {}
      },
      "source": [
        "import pandas as pd\n",
        "import numpy as np\n",
        "from pgmpy.estimators import HillClimbSearch, BicScore\n",
        "\n",
        "# Initialise Hill Climbing Estimator \n",
        "hc = HillClimbSearch(df_heart, scoring_method=BicScore(df_heart))\n",
        "model = hc.estimate()"
      ],
      "execution_count": 0,
      "outputs": []
    },
    {
      "cell_type": "code",
      "metadata": {
        "id": "7yW1GTWAxDkQ",
        "colab_type": "code",
        "outputId": "a7aa5905-3bdc-4b5b-a8ff-b1a4e8dbc981",
        "colab": {
          "base_uri": "https://localhost:8080/",
          "height": 266
        }
      },
      "source": [
        "sorted(model.nodes())"
      ],
      "execution_count": 65,
      "outputs": [
        {
          "output_type": "execute_result",
          "data": {
            "text/plain": [
              "['AgeC',\n",
              " 'ca',\n",
              " 'cholC',\n",
              " 'cp',\n",
              " 'exang',\n",
              " 'fbs',\n",
              " 'num',\n",
              " 'oldpeakC',\n",
              " 'restecg',\n",
              " 'sex',\n",
              " 'slope',\n",
              " 'thal',\n",
              " 'thalachC',\n",
              " 'trestbpsC']"
            ]
          },
          "metadata": {
            "tags": []
          },
          "execution_count": 65
        }
      ]
    },
    {
      "cell_type": "code",
      "metadata": {
        "id": "EfcLlrTj1rX3",
        "colab_type": "code",
        "outputId": "91d30d02-0b4f-421d-fd91-f7e3f8627df3",
        "colab": {
          "base_uri": "https://localhost:8080/",
          "height": 55
        }
      },
      "source": [
        "model.edges()"
      ],
      "execution_count": 66,
      "outputs": [
        {
          "output_type": "execute_result",
          "data": {
            "text/plain": [
              "OutEdgeView([('cp', 'num'), ('cp', 'exang'), ('slope', 'oldpeakC'), ('slope', 'thalachC'), ('ca', 'AgeC'), ('thal', 'sex'), ('num', 'thal'), ('num', 'ca'), ('num', 'slope'), ('num', 'oldpeakC'), ('AgeC', 'trestbpsC')])"
            ]
          },
          "metadata": {
            "tags": []
          },
          "execution_count": 66
        }
      ]
    },
    {
      "cell_type": "markdown",
      "metadata": {
        "id": "UYxX8qvcDSbw",
        "colab_type": "text"
      },
      "source": [
        "# Learn parameters of the network"
      ]
    },
    {
      "cell_type": "code",
      "metadata": {
        "id": "W-mvn2aCEHZG",
        "colab_type": "code",
        "colab": {}
      },
      "source": [
        "from pgmpy.models import BayesianModel \n",
        "from pgmpy.estimators import HillClimbSearch \n",
        "from pgmpy.estimators import BayesianEstimator \n",
        "\n",
        "expert = BayesianModel(); \n",
        "expert.add_nodes_from(df_heart); \n",
        "expert.add_edges_from([('cp', 'num'), ('cp', 'exang'), \n",
        "                       ('slope', 'oldpeakC'), ('slope', 'thalachC'),\n",
        "                       ('ca', 'AgeC'), ('thal', 'sex'),\n",
        "                       ('num', 'thal'), ('num', 'ca'),\n",
        "                       ('num', 'slope'), ('num', 'oldpeakC'),\n",
        "                       ('AgeC', 'trestbpsC')]);\n",
        "\n",
        "model = hc.estimate(expert); \n"
      ],
      "execution_count": 0,
      "outputs": []
    },
    {
      "cell_type": "code",
      "metadata": {
        "id": "9sueVf4RJjQN",
        "colab_type": "code",
        "colab": {}
      },
      "source": [
        "model.fit(df_heart, \n",
        "          estimator=BayesianEstimator,\n",
        "          prior_type=\"K2\");\n"
      ],
      "execution_count": 0,
      "outputs": []
    },
    {
      "cell_type": "code",
      "metadata": {
        "id": "scfaOCJyJ6q3",
        "colab_type": "code",
        "colab": {
          "base_uri": "https://localhost:8080/",
          "height": 266
        },
        "outputId": "dc48cf13-a1e6-442f-f97f-dbe0e008495a"
      },
      "source": [
        "model.get_cpds()"
      ],
      "execution_count": 69,
      "outputs": [
        {
          "output_type": "execute_result",
          "data": {
            "text/plain": [
              "[<TabularCPD representing P(sex:2 | thal:3) at 0x7ff79ce53550>,\n",
              " <TabularCPD representing P(cp:4) at 0x7ff79ce53208>,\n",
              " <TabularCPD representing P(fbs:2) at 0x7ff79ce53e48>,\n",
              " <TabularCPD representing P(restecg:3) at 0x7ff79ce53c50>,\n",
              " <TabularCPD representing P(exang:2 | cp:4) at 0x7ff79cf49198>,\n",
              " <TabularCPD representing P(slope:3 | num:2) at 0x7ff79c90a908>,\n",
              " <TabularCPD representing P(ca:4 | num:2) at 0x7ff79c90aa58>,\n",
              " <TabularCPD representing P(thal:3 | num:2) at 0x7ff79c90ad68>,\n",
              " <TabularCPD representing P(num:2 | cp:4) at 0x7ff79c90a7f0>,\n",
              " <TabularCPD representing P(AgeC:3 | ca:4) at 0x7ff79c90a2b0>,\n",
              " <TabularCPD representing P(trestbpsC:3 | AgeC:3) at 0x7ff79c90a048>,\n",
              " <TabularCPD representing P(cholC:3) at 0x7ff79c90af60>,\n",
              " <TabularCPD representing P(thalachC:2 | slope:3) at 0x7ff79c90ae48>,\n",
              " <TabularCPD representing P(oldpeakC:2 | num:2, slope:3) at 0x7ff79c90a208>]"
            ]
          },
          "metadata": {
            "tags": []
          },
          "execution_count": 69
        }
      ]
    },
    {
      "cell_type": "markdown",
      "metadata": {
        "id": "Bu_Pc5FaT6cp",
        "colab_type": "text"
      },
      "source": [
        "# cpts of nodes with parents"
      ]
    },
    {
      "cell_type": "code",
      "metadata": {
        "id": "vMiUKHXSKJeh",
        "colab_type": "code",
        "outputId": "f1d4b214-f24c-4165-8ec3-5eadf1701175",
        "colab": {
          "base_uri": "https://localhost:8080/",
          "height": 141
        }
      },
      "source": [
        "print(model.get_cpds('sex'))"
      ],
      "execution_count": 72,
      "outputs": [
        {
          "output_type": "stream",
          "text": [
            "+----------+--------------------+-----------+---------------------+\n",
            "| thal     | thal(3.0)          | thal(6.0) | thal(7.0)           |\n",
            "+----------+--------------------+-----------+---------------------+\n",
            "| sex(0.0) | 0.4879518072289157 | 0.1       | 0.13675213675213677 |\n",
            "+----------+--------------------+-----------+---------------------+\n",
            "| sex(1.0) | 0.5120481927710844 | 0.9       | 0.8632478632478633  |\n",
            "+----------+--------------------+-----------+---------------------+\n"
          ],
          "name": "stdout"
        }
      ]
    },
    {
      "cell_type": "code",
      "metadata": {
        "id": "1zGxRHVaD6TB",
        "colab_type": "code",
        "colab": {
          "base_uri": "https://localhost:8080/",
          "height": 177
        },
        "outputId": "d86fbbd4-dfcd-4f81-db58-91989ea93550"
      },
      "source": [
        "print(model.get_cpds('oldpeakC'))"
      ],
      "execution_count": 71,
      "outputs": [
        {
          "output_type": "stream",
          "text": [
            "+-------------+---------------------+------------+---------------------+---------------------+--------------------+---------------------+\n",
            "| num         | num(0)              | num(0)     | num(0)              | num(1)              | num(1)             | num(1)              |\n",
            "+-------------+---------------------+------------+---------------------+---------------------+--------------------+---------------------+\n",
            "| slope       | slope(1.0)          | slope(2.0) | slope(3.0)          | slope(1.0)          | slope(2.0)         | slope(3.0)          |\n",
            "+-------------+---------------------+------------+---------------------+---------------------+--------------------+---------------------+\n",
            "| oldpeakC(0) | 0.9809523809523809  | 0.94       | 0.5454545454545454  | 0.9210526315789473  | 0.6483516483516484 | 0.21428571428571427 |\n",
            "+-------------+---------------------+------------+---------------------+---------------------+--------------------+---------------------+\n",
            "| oldpeakC(1) | 0.01904761904761905 | 0.06       | 0.45454545454545453 | 0.07894736842105263 | 0.3516483516483517 | 0.7857142857142857  |\n",
            "+-------------+---------------------+------------+---------------------+---------------------+--------------------+---------------------+\n"
          ],
          "name": "stdout"
        }
      ]
    },
    {
      "cell_type": "code",
      "metadata": {
        "id": "oY-mRZprD6fE",
        "colab_type": "code",
        "colab": {
          "base_uri": "https://localhost:8080/",
          "height": 177
        },
        "outputId": "f378b9a9-ba4a-47c5-b4cd-1abf995435dd"
      },
      "source": [
        "print(model.get_cpds('AgeC'))"
      ],
      "execution_count": 73,
      "outputs": [
        {
          "output_type": "stream",
          "text": [
            "+---------+--------------------+---------------------+---------------------+---------------------+\n",
            "| ca      | ca(0.0)            | ca(1.0)             | ca(2.0)             | ca(3.0)             |\n",
            "+---------+--------------------+---------------------+---------------------+---------------------+\n",
            "| AgeC(0) | 0.3107344632768362 | 0.08823529411764706 | 0.04878048780487805 | 0.08695652173913043 |\n",
            "+---------+--------------------+---------------------+---------------------+---------------------+\n",
            "| AgeC(1) | 0.5988700564971752 | 0.7352941176470589  | 0.7073170731707317  | 0.6086956521739131  |\n",
            "+---------+--------------------+---------------------+---------------------+---------------------+\n",
            "| AgeC(2) | 0.0903954802259887 | 0.17647058823529413 | 0.24390243902439024 | 0.30434782608695654 |\n",
            "+---------+--------------------+---------------------+---------------------+---------------------+\n"
          ],
          "name": "stdout"
        }
      ]
    },
    {
      "cell_type": "code",
      "metadata": {
        "id": "7byutz-oD6rS",
        "colab_type": "code",
        "colab": {
          "base_uri": "https://localhost:8080/",
          "height": 177
        },
        "outputId": "f7e118fc-2a45-4803-b987-8f6f4abb6bc0"
      },
      "source": [
        "print(model.get_cpds('trestbpsC'))"
      ],
      "execution_count": 50,
      "outputs": [
        {
          "output_type": "stream",
          "text": [
            "+--------------+----------+---------------------+---------------------+\n",
            "| AgeC         | AgeC(0)  | AgeC(1)             | AgeC(2)             |\n",
            "+--------------+----------+---------------------+---------------------+\n",
            "| trestbpsC(0) | 0.53125  | 0.25757575757575757 | 0.3409090909090909  |\n",
            "+--------------+----------+---------------------+---------------------+\n",
            "| trestbpsC(1) | 0.390625 | 0.5151515151515151  | 0.22727272727272727 |\n",
            "+--------------+----------+---------------------+---------------------+\n",
            "| trestbpsC(2) | 0.078125 | 0.22727272727272727 | 0.4318181818181818  |\n",
            "+--------------+----------+---------------------+---------------------+\n"
          ],
          "name": "stdout"
        }
      ]
    },
    {
      "cell_type": "code",
      "metadata": {
        "id": "6d1Xm1CGD64E",
        "colab_type": "code",
        "colab": {
          "base_uri": "https://localhost:8080/",
          "height": 141
        },
        "outputId": "7c1f69ef-f66c-4ff1-d687-98595173f932"
      },
      "source": [
        "print(model.get_cpds('thalachC'))"
      ],
      "execution_count": 51,
      "outputs": [
        {
          "output_type": "stream",
          "text": [
            "+-------------+---------------------+---------------------+\n",
            "| oldpeakC    | oldpeakC(0)         | oldpeakC(1)         |\n",
            "+-------------+---------------------+---------------------+\n",
            "| thalachC(0) | 0.751004016064257   | 0.9038461538461539  |\n",
            "+-------------+---------------------+---------------------+\n",
            "| thalachC(1) | 0.24899598393574296 | 0.09615384615384616 |\n",
            "+-------------+---------------------+---------------------+\n"
          ],
          "name": "stdout"
        }
      ]
    },
    {
      "cell_type": "code",
      "metadata": {
        "id": "eaFvhEQKTQJQ",
        "colab_type": "code",
        "colab": {
          "base_uri": "https://localhost:8080/",
          "height": 177
        },
        "outputId": "d465ca2f-efa1-43b0-e505-3a43265eac64"
      },
      "source": [
        "print(model.get_cpds('thal'))"
      ],
      "execution_count": 75,
      "outputs": [
        {
          "output_type": "stream",
          "text": [
            "+-----------+---------------------+---------------------+\n",
            "| num       | num(0)              | num(1)              |\n",
            "+-----------+---------------------+---------------------+\n",
            "| thal(3.0) | 0.7852760736196319  | 0.2714285714285714  |\n",
            "+-----------+---------------------+---------------------+\n",
            "| thal(6.0) | 0.04294478527607362 | 0.09285714285714286 |\n",
            "+-----------+---------------------+---------------------+\n",
            "| thal(7.0) | 0.17177914110429449 | 0.6357142857142857  |\n",
            "+-----------+---------------------+---------------------+\n"
          ],
          "name": "stdout"
        }
      ]
    },
    {
      "cell_type": "code",
      "metadata": {
        "id": "8aOSgt6-TQSb",
        "colab_type": "code",
        "colab": {
          "base_uri": "https://localhost:8080/",
          "height": 212
        },
        "outputId": "15bce562-8b22-4bdc-cd8d-f4126f88b5a7"
      },
      "source": [
        "print(model.get_cpds('ca'))"
      ],
      "execution_count": 76,
      "outputs": [
        {
          "output_type": "stream",
          "text": [
            "+---------+----------------------+---------------------+\n",
            "| num     | num(0)               | num(1)              |\n",
            "+---------+----------------------+---------------------+\n",
            "| ca(0.0) | 0.7926829268292683   | 0.3262411347517731  |\n",
            "+---------+----------------------+---------------------+\n",
            "| ca(1.0) | 0.13414634146341464  | 0.3191489361702128  |\n",
            "+---------+----------------------+---------------------+\n",
            "| ca(2.0) | 0.04878048780487805  | 0.22695035460992907 |\n",
            "+---------+----------------------+---------------------+\n",
            "| ca(3.0) | 0.024390243902439025 | 0.1276595744680851  |\n",
            "+---------+----------------------+---------------------+\n"
          ],
          "name": "stdout"
        }
      ]
    },
    {
      "cell_type": "code",
      "metadata": {
        "id": "Nz6LhmrBTQao",
        "colab_type": "code",
        "colab": {
          "base_uri": "https://localhost:8080/",
          "height": 177
        },
        "outputId": "efcc5d4a-ec0b-413b-b9ba-32a4ce0693fa"
      },
      "source": [
        "print(model.get_cpds('slope'))"
      ],
      "execution_count": 77,
      "outputs": [
        {
          "output_type": "stream",
          "text": [
            "+------------+---------------------+---------------------+\n",
            "| num        | num(0)              | num(1)              |\n",
            "+------------+---------------------+---------------------+\n",
            "| slope(1.0) | 0.6380368098159509  | 0.2642857142857143  |\n",
            "+------------+---------------------+---------------------+\n",
            "| slope(2.0) | 0.3006134969325153  | 0.6428571428571429  |\n",
            "+------------+---------------------+---------------------+\n",
            "| slope(3.0) | 0.06134969325153374 | 0.09285714285714286 |\n",
            "+------------+---------------------+---------------------+\n"
          ],
          "name": "stdout"
        }
      ]
    },
    {
      "cell_type": "code",
      "metadata": {
        "id": "Gzlf5n5yTQit",
        "colab_type": "code",
        "colab": {
          "base_uri": "https://localhost:8080/",
          "height": 141
        },
        "outputId": "9861d562-818d-47ee-890d-a32f5c1510bd"
      },
      "source": [
        "print(model.get_cpds('exang'))"
      ],
      "execution_count": 78,
      "outputs": [
        {
          "output_type": "stream",
          "text": [
            "+------------+---------+---------------------+--------------------+--------------------+\n",
            "| cp         | cp(1.0) | cp(2.0)             | cp(3.0)            | cp(4.0)            |\n",
            "+------------+---------+---------------------+--------------------+--------------------+\n",
            "| exang(0.0) | 0.8     | 0.9019607843137255  | 0.8588235294117647 | 0.4513888888888889 |\n",
            "+------------+---------+---------------------+--------------------+--------------------+\n",
            "| exang(1.0) | 0.2     | 0.09803921568627451 | 0.1411764705882353 | 0.5486111111111112 |\n",
            "+------------+---------+---------------------+--------------------+--------------------+\n"
          ],
          "name": "stdout"
        }
      ]
    },
    {
      "cell_type": "code",
      "metadata": {
        "id": "R0gnvaCfTQpP",
        "colab_type": "code",
        "colab": {
          "base_uri": "https://localhost:8080/",
          "height": 141
        },
        "outputId": "37fc73c3-44fc-4f1e-f364-02ff8700a72f"
      },
      "source": [
        "print(model.get_cpds('sex'))"
      ],
      "execution_count": 82,
      "outputs": [
        {
          "output_type": "stream",
          "text": [
            "+----------+--------------------+-----------+---------------------+\n",
            "| thal     | thal(3.0)          | thal(6.0) | thal(7.0)           |\n",
            "+----------+--------------------+-----------+---------------------+\n",
            "| sex(0.0) | 0.4879518072289157 | 0.1       | 0.13675213675213677 |\n",
            "+----------+--------------------+-----------+---------------------+\n",
            "| sex(1.0) | 0.5120481927710844 | 0.9       | 0.8632478632478633  |\n",
            "+----------+--------------------+-----------+---------------------+\n"
          ],
          "name": "stdout"
        }
      ]
    },
    {
      "cell_type": "markdown",
      "metadata": {
        "id": "oCxGoNOLT12e",
        "colab_type": "text"
      },
      "source": [
        "# Nodes that does't have parents??"
      ]
    },
    {
      "cell_type": "code",
      "metadata": {
        "id": "vpGNth1mTQu_",
        "colab_type": "code",
        "colab": {
          "base_uri": "https://localhost:8080/",
          "height": 177
        },
        "outputId": "82bfb77d-856e-4e41-d4cd-2db4c428c09a"
      },
      "source": [
        "print(model.get_cpds('cp'))"
      ],
      "execution_count": 83,
      "outputs": [
        {
          "output_type": "stream",
          "text": [
            "+---------+-----------+\n",
            "| cp(1.0) | 0.0797342 |\n",
            "+---------+-----------+\n",
            "| cp(2.0) | 0.166113  |\n",
            "+---------+-----------+\n",
            "| cp(3.0) | 0.27907   |\n",
            "+---------+-----------+\n",
            "| cp(4.0) | 0.475083  |\n",
            "+---------+-----------+\n"
          ],
          "name": "stdout"
        }
      ]
    },
    {
      "cell_type": "code",
      "metadata": {
        "id": "AaVIKM9ITQ2d",
        "colab_type": "code",
        "colab": {
          "base_uri": "https://localhost:8080/",
          "height": 106
        },
        "outputId": "4ec83583-8162-4e76-89f1-74ab67e15687"
      },
      "source": [
        "print(model.get_cpds('fbs'))"
      ],
      "execution_count": 84,
      "outputs": [
        {
          "output_type": "stream",
          "text": [
            "+----------+----------+\n",
            "| fbs(0.0) | 0.852843 |\n",
            "+----------+----------+\n",
            "| fbs(1.0) | 0.147157 |\n",
            "+----------+----------+\n"
          ],
          "name": "stdout"
        }
      ]
    },
    {
      "cell_type": "code",
      "metadata": {
        "id": "O6a-dHsBTQ63",
        "colab_type": "code",
        "colab": {
          "base_uri": "https://localhost:8080/",
          "height": 141
        },
        "outputId": "f6b6ae8d-055e-4b2d-b09f-ea799ffb2903"
      },
      "source": [
        "print(model.get_cpds('restecg'))"
      ],
      "execution_count": 85,
      "outputs": [
        {
          "output_type": "stream",
          "text": [
            "+--------------+-----------+\n",
            "| restecg(0.0) | 0.493333  |\n",
            "+--------------+-----------+\n",
            "| restecg(1.0) | 0.0166667 |\n",
            "+--------------+-----------+\n",
            "| restecg(2.0) | 0.49      |\n",
            "+--------------+-----------+\n"
          ],
          "name": "stdout"
        }
      ]
    },
    {
      "cell_type": "markdown",
      "metadata": {
        "id": "qzmzCoeXYpKt",
        "colab_type": "text"
      },
      "source": [
        "# Draw the network- Check how to improve it with node names in networkx"
      ]
    },
    {
      "cell_type": "code",
      "metadata": {
        "id": "I7uvhsSgKP5d",
        "colab_type": "code",
        "outputId": "4c25d8e1-421d-45cc-feaa-ee5abc06a311",
        "colab": {
          "base_uri": "https://localhost:8080/",
          "height": 284
        }
      },
      "source": [
        "import networkx as nx\n",
        "import pylab as plt\n",
        "\n",
        "G = nx.Graph()\n",
        "G.add_edges_from(model.edges())\n",
        "pos = nx.spring_layout(G)\n",
        "nx.draw_networkx_nodes(G, pos, node_size = 10)\n",
        "nx.draw_networkx_edges(G, pos, arrows = True)\n",
        "plt.figure(5, figsize = (40, 20))"
      ],
      "execution_count": 91,
      "outputs": [
        {
          "output_type": "execute_result",
          "data": {
            "text/plain": [
              "<Figure size 2880x1440 with 0 Axes>"
            ]
          },
          "metadata": {
            "tags": []
          },
          "execution_count": 91
        },
        {
          "output_type": "display_data",
          "data": {
            "image/png": "[encoded data removed]",
            "text/plain": [
              "<Figure size 432x288 with 1 Axes>"
            ]
          },
          "metadata": {
            "tags": []
          }
        },
        {
          "output_type": "display_data",
          "data": {
            "text/plain": [
              "<Figure size 2880x1440 with 0 Axes>"
            ]
          },
          "metadata": {
            "tags": []
          }
        }
      ]
    },
    {
      "cell_type": "markdown",
      "metadata": {
        "id": "5fw8G2yVYfbO",
        "colab_type": "text"
      },
      "source": [
        "# Variable elimination"
      ]
    },
    {
      "cell_type": "code",
      "metadata": {
        "id": "ZvIEld0_X9xR",
        "colab_type": "code",
        "colab": {
          "base_uri": "https://localhost:8080/",
          "height": 177
        },
        "outputId": "788d4294-2e1e-4343-c3a9-4cc2dc1582df"
      },
      "source": [
        "from pgmpy.inference import VariableElimination\n",
        "\n",
        "model_infer = VariableElimination(model)\n",
        "\n",
        "prob_num = model_infer.query(variables = ['num'])\n",
        "print(prob_num)"
      ],
      "execution_count": 104,
      "outputs": [
        {
          "output_type": "stream",
          "text": [
            "Finding Elimination Order: : 100%|██████████| 13/13 [00:00<00:00, 5458.05it/s]\n",
            "Eliminating: AgeC: 100%|██████████| 13/13 [00:00<00:00, 595.50it/s]"
          ],
          "name": "stderr"
        },
        {
          "output_type": "stream",
          "text": [
            "+--------+------------+\n",
            "| num    |   phi(num) |\n",
            "+========+============+\n",
            "| num(0) |     0.5364 |\n",
            "+--------+------------+\n",
            "| num(1) |     0.4636 |\n",
            "+--------+------------+\n"
          ],
          "name": "stdout"
        },
        {
          "output_type": "stream",
          "text": [
            "\n"
          ],
          "name": "stderr"
        }
      ]
    },
    {
      "cell_type": "code",
      "metadata": {
        "id": "vlJU4QGaX84a",
        "colab_type": "code",
        "colab": {
          "base_uri": "https://localhost:8080/",
          "height": 177
        },
        "outputId": "00013a8d-f823-46dc-e40a-87ba347832d9"
      },
      "source": [
        "prob_evidence = model_infer.query(variables = ['num'],\n",
        "                                  evidence = {'slope': 1.0, 'oldpeakC': 0, 'AgeC': 0}) \n",
        "print(prob_evidence)"
      ],
      "execution_count": 106,
      "outputs": [
        {
          "output_type": "stream",
          "text": [
            "Finding Elimination Order: : 100%|██████████| 10/10 [00:00<00:00, 2658.83it/s]\n",
            "Eliminating: restecg: 100%|██████████| 10/10 [00:00<00:00, 659.60it/s]"
          ],
          "name": "stderr"
        },
        {
          "output_type": "stream",
          "text": [
            "+--------+------------+\n",
            "| num    |   phi(num) |\n",
            "+========+============+\n",
            "| num(0) |     0.8374 |\n",
            "+--------+------------+\n",
            "| num(1) |     0.1626 |\n",
            "+--------+------------+\n"
          ],
          "name": "stdout"
        },
        {
          "output_type": "stream",
          "text": [
            "\n"
          ],
          "name": "stderr"
        }
      ]
    },
    {
      "cell_type": "code",
      "metadata": {
        "id": "zJa-oVZStGxI",
        "colab_type": "code",
        "colab": {}
      },
      "source": [
        "fx"
      ],
      "execution_count": 0,
      "outputs": []
    }
  ]
}