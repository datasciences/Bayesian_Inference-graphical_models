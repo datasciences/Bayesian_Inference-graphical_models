{
 "cells": [
  {
   "cell_type": "markdown",
   "metadata": {},
   "source": [
    "A graphical model is essentially a way of representing joint probability distribution over a set of random variables in a compact and intuitive form. There are two main types of graphical models, namely directed and undirected. We generally use a directed model, also known as a Bayesian network, when we mostly have a causal relationship between the random variables. Graphical models also give us tools to operate on these models to find conditional and marginal probabilities of variables, while keeping the computational complexity under control. "
   ]
  },
  {
   "cell_type": "code",
   "execution_count": null,
   "metadata": {},
   "outputs": [],
   "source": [
    "ppl real world\n",
    "https://www.youtube.com/watch?v=5f-9xCuyZh4"
   ]
  },
  {
   "cell_type": "code",
   "execution_count": 1,
   "metadata": {},
   "outputs": [],
   "source": [
    "import pgmpy"
   ]
  },
  {
   "cell_type": "markdown",
   "metadata": {},
   "source": [
    "# Representing independencies using pgmpy\n",
    "\n",
    "Two classes for representing independencies 1) IndependenceAssertion 2) Independencies. \n",
    "\n",
    "IndependenceAssertion class is used to represent individual assertions of te form  (X _|_Y) or (X _|_ Y | Z)"
   ]
  },
  {
   "cell_type": "code",
   "execution_count": 2,
   "metadata": {},
   "outputs": [
    {
     "data": {
      "text/plain": [
       "(X _|_ Y)"
      ]
     },
     "execution_count": 2,
     "metadata": {},
     "output_type": "execute_result"
    }
   ],
   "source": [
    "from pgmpy.independencies import IndependenceAssertion\n",
    "\n",
    "assertion1 = IndependenceAssertion('X', 'Y')\n",
    "assertion1"
   ]
  },
  {
   "cell_type": "code",
   "execution_count": 3,
   "metadata": {},
   "outputs": [
    {
     "data": {
      "text/plain": [
       "(X _|_ Y | Z)"
      ]
     },
     "execution_count": 3,
     "metadata": {},
     "output_type": "execute_result"
    }
   ],
   "source": [
    "assertion2 = IndependenceAssertion('X', 'Y', 'Z')\n",
    "assertion2"
   ]
  },
  {
   "cell_type": "code",
   "execution_count": 8,
   "metadata": {},
   "outputs": [
    {
     "data": {
      "text/plain": [
       "(X _|_ Y | Z)"
      ]
     },
     "execution_count": 8,
     "metadata": {},
     "output_type": "execute_result"
    }
   ],
   "source": [
    "assertion3 = IndependenceAssertion('X', 'Y', 'Z')\n",
    "assertion3"
   ]
  },
  {
   "cell_type": "code",
   "execution_count": 9,
   "metadata": {},
   "outputs": [
    {
     "data": {
      "text/plain": [
       "[]"
      ]
     },
     "execution_count": 9,
     "metadata": {},
     "output_type": "execute_result"
    }
   ],
   "source": [
    "from pgmpy.independencies import Independencies\n",
    "\n",
    "independencies = Independencies()\n",
    "independencies.get_assertions()"
   ]
  },
  {
   "cell_type": "code",
   "execution_count": 10,
   "metadata": {},
   "outputs": [
    {
     "data": {
      "text/plain": [
       "[(X _|_ Y), (X _|_ Y | Z)]"
      ]
     },
     "execution_count": 10,
     "metadata": {},
     "output_type": "execute_result"
    }
   ],
   "source": [
    "independencies.add_assertions(assertion1, assertion2)\n",
    "independencies.get_assertions()"
   ]
  },
  {
   "cell_type": "markdown",
   "metadata": {},
   "source": [
    "# Representing joint probability distributions using pgmpy"
   ]
  },
  {
   "cell_type": "code",
   "execution_count": 25,
   "metadata": {},
   "outputs": [
    {
     "name": "stdout",
     "output_type": "stream",
     "text": [
      "+----------+----------+------------------+\n",
      "| coin1    | coin2    |   P(coin1,coin2) |\n",
      "+==========+==========+==================+\n",
      "| coin1(0) | coin2(0) |           0.2500 |\n",
      "+----------+----------+------------------+\n",
      "| coin1(0) | coin2(1) |           0.2500 |\n",
      "+----------+----------+------------------+\n",
      "| coin1(1) | coin2(0) |           0.2500 |\n",
      "+----------+----------+------------------+\n",
      "| coin1(1) | coin2(1) |           0.2500 |\n",
      "+----------+----------+------------------+\n",
      "+----------+------------+\n",
      "| coin1    |   P(coin1) |\n",
      "+==========+============+\n",
      "| coin1(0) |     0.5000 |\n",
      "+----------+------------+\n",
      "| coin1(1) |     0.5000 |\n",
      "+----------+------------+\n"
     ]
    }
   ],
   "source": [
    " from pgmpy.factors.discrete import JointProbabilityDistribution  \n",
    "distribution = JointProbabilityDistribution(['coin1', 'coin2'],\n",
    "                     [2, 2],\n",
    "                     [0.25, 0.25, 0.25, 0.25])\n",
    "print(distribution)\n",
    "\n",
    "distribution.marginal_distribution(['coin1'])\n",
    "\n",
    "print(distribution)\n"
   ]
  },
  {
   "cell_type": "code",
   "execution_count": 28,
   "metadata": {},
   "outputs": [
    {
     "data": {
      "text/plain": [
       "True"
      ]
     },
     "execution_count": 28,
     "metadata": {},
     "output_type": "execute_result"
    }
   ],
   "source": [
    "distribution.check_independence(['coin1'], [('coin2', 1)])"
   ]
  },
  {
   "cell_type": "code",
   "execution_count": null,
   "metadata": {},
   "outputs": [],
   "source": [
    "distribution.get_independence()"
   ]
  },
  {
   "cell_type": "code",
   "execution_count": 13,
   "metadata": {},
   "outputs": [
    {
     "name": "stdout",
     "output_type": "stream",
     "text": [
      "\n",
      "Your win rate was:  0.3346 \n",
      "\n"
     ]
    }
   ],
   "source": [
    "import random\n",
    "\n",
    "success = 0\n",
    "switch = 0\n",
    "\n",
    "N = 10000\n",
    "\n",
    "for i in range(N):\n",
    "\tcar = random.randint(0,2)\n",
    "\tchoice = random.randint(0,2)\n",
    "\tdoor_to_reveal = random.randint(0,2)\n",
    "\n",
    "\twhile door_to_reveal == car or choice == door_to_reveal:\n",
    "\t\tdoor_to_reveal = random.randint(0,2)\n",
    "\n",
    "\tfinal_choice = 0\t\n",
    "\tif switch == \"1\":\n",
    "\t\twhile final_choice == choice or final_choice == door_to_reveal:\n",
    "\t\t\tfinal_choice += 1\n",
    "\telse:\n",
    "\t\tfinal_choice = choice\n",
    "\n",
    "\tsuccess += final_choice == car\n",
    "\n",
    "print(\"\\nYour win rate was: \", float(success)/N, \"\\n\")\n",
    "\t\n"
   ]
  },
  {
   "cell_type": "code",
   "execution_count": null,
   "metadata": {},
   "outputs": [],
   "source": []
  },
  {
   "cell_type": "markdown",
   "metadata": {},
   "source": [
    "# Bayesian model representation"
   ]
  },
  {
   "cell_type": "code",
   "execution_count": 31,
   "metadata": {},
   "outputs": [
    {
     "name": "stderr",
     "output_type": "stream",
     "text": [
      "C:\\Users\\Rahul\\Anaconda3\\lib\\site-packages\\networkx\\drawing\\nx_pylab.py:579: MatplotlibDeprecationWarning: \n",
      "The iterable function was deprecated in Matplotlib 3.1 and will be removed in 3.3. Use np.iterable instead.\n",
      "  if not cb.iterable(width):\n",
      "C:\\Users\\Rahul\\Anaconda3\\lib\\site-packages\\networkx\\drawing\\nx_pylab.py:676: MatplotlibDeprecationWarning: \n",
      "The iterable function was deprecated in Matplotlib 3.1 and will be removed in 3.3. Use np.iterable instead.\n",
      "  if cb.iterable(node_size):  # many node sizes\n"
     ]
    },
    {
     "data": {
      "image/png": "[encoded data removed]",
      "text/plain": [
       "<Figure size 432x288 with 1 Axes>"
      ]
     },
     "metadata": {},
     "output_type": "display_data"
    }
   ],
   "source": [
    "from pgmpy.models import BayesianModel\n",
    "import networkx as nx\n",
    "import pylab as plt\n",
    "\n",
    "# Define an empty bayesian model\n",
    "model = BayesianModel()\n",
    "\n",
    "# Add a list of nodes\n",
    "model.add_nodes_from([2, 3, 4, 5, 6 ,7, 8, 9, 10, 11, 12, 13, 14])\n",
    "\n",
    "model.add_edges_from([(1, 2), (1, 3), (4, 5), (6, 7), (7, 8), (8, 9), (9, 10), (19, 11), (11, 12), ])\n",
    "\n",
    "nx.draw_random(model)"
   ]
  },
  {
   "cell_type": "markdown",
   "metadata": {},
   "source": [
    "# Traffic Model Bayesian Network\n",
    "\n",
    "0s are True cases\n",
    "1s are False cases"
   ]
  },
  {
   "cell_type": "code",
   "execution_count": 72,
   "metadata": {},
   "outputs": [
    {
     "name": "stdout",
     "output_type": "stream",
     "text": [
      "['rain', 'traffic_jam', 'accident', 'long_queues', 'getting_up_late', 'late_for_school']\n",
      "[('rain', 'traffic_jam'), ('traffic_jam', 'long_queues'), ('traffic_jam', 'late_for_school'), ('accident', 'traffic_jam'), ('getting_up_late', 'late_for_school')]\n"
     ]
    }
   ],
   "source": [
    "from pgmpy.models import BayesianModel\n",
    "import networkx as nx\n",
    "import pylab as plt\n",
    "from pgmpy.factors.discrete import TabularCPD\n",
    "\n",
    "model = BayesianModel()\n",
    "\n",
    "model.add_nodes_from(['rain', 'traffic_jam'])\n",
    "model.add_edge('rain', 'traffic_jam')\n",
    "model.add_edge('accident', 'traffic_jam')\n",
    "\n",
    "model.add_node('long_queues') \n",
    "model.add_edge('traffic_jam', 'long_queues') \n",
    "\n",
    "model.add_nodes_from(['getting_up_late',                                 \n",
    "                               'late_for_school']) \n",
    "model.add_edges_from( [('getting_up_late', 'late_for_school'),                    \n",
    "                                ('traffic_jam', 'late_for_school')]) \n",
    "\n",
    "\n",
    "print(model.nodes())\n",
    "\n",
    "print(model.edges())\n"
   ]
  },
  {
   "cell_type": "code",
   "execution_count": 73,
   "metadata": {},
   "outputs": [
    {
     "data": {
      "text/plain": [
       "[<TabularCPD representing P(rain:2) at 0x1eb9f4bbc88>,\n",
       " <TabularCPD representing P(accident:2) at 0x1eb9f4bb108>,\n",
       " <TabularCPD representing P(traffic_jam:2 | rain:2, accident:2) at 0x1eb9f4bb048>,\n",
       " <TabularCPD representing P(long_queues:2 | traffic_jam:2) at 0x1eb9f3d1388>,\n",
       " <TabularCPD representing P(getting_up_late:2) at 0x1eb9ed65fc8>,\n",
       " <TabularCPD representing P(late_for_school:2 | getting_up_late:2, traffic_jam:2) at 0x1eb9f3d0308>]"
      ]
     },
     "execution_count": 73,
     "metadata": {},
     "output_type": "execute_result"
    }
   ],
   "source": [
    "cpd_rain = TabularCPD('rain', 2, [[0.4], [0.6]])\n",
    "cpd_accident = TabularCPD('accident', 2, [[0.2], [0.8]])\n",
    "\n",
    "cpd_traffic_jam = TabularCPD('traffic_jam', 2 ,\n",
    "                                [[0.9, 0.6, 0.7, 0.1], \n",
    "                                [0.1, 0.4, 0.3, 0.9]],\n",
    "                                evidence = ['rain', 'accident'],\n",
    "                                evidence_card = [2, 2])\n",
    "                                \n",
    "cpd_long_queues = TabularCPD('long_queues', 2,                                      \n",
    "                                      [[0.9, 0.2],                                       \n",
    "                                       [0.1, 0.8]],                                      \n",
    "                                      evidence=['traffic_jam'],                                      \n",
    "                                      evidence_card=[2]) \n",
    "\n",
    "cpd_getting_up_late = TabularCPD('getting_up_late', 2,                                          \n",
    "                                          [[0.6], [0.4]]) \n",
    "cpd_late_for_school = TabularCPD(  'late_for_school', 2,                               \n",
    "                                          [[0.9, 0.45, 0.8, 0.1],                                \n",
    "                                           [0.1, 0.55, 0.2, 0.9]],                               \n",
    "                                          evidence=['getting_up_late',                                         \n",
    "                                                    'traffic_jam'],                               \n",
    "                                          evidence_card=[2, 2]) \n",
    "\n",
    "model.add_cpds(cpd_rain, cpd_accident, cpd_traffic_jam)\n",
    "model.add_cpds(cpd_long_queues) \n",
    "model.add_cpds(cpd_getting_up_late, cpd_late_for_school) \n",
    "model.get_cpds() "
   ]
  },
  {
   "cell_type": "code",
   "execution_count": 74,
   "metadata": {},
   "outputs": [
    {
     "data": {
      "text/plain": [
       "True"
      ]
     },
     "execution_count": 74,
     "metadata": {},
     "output_type": "execute_result"
    }
   ],
   "source": [
    "model.check_model()"
   ]
  },
  {
   "cell_type": "code",
   "execution_count": 75,
   "metadata": {},
   "outputs": [
    {
     "data": {
      "image/png": "[encoded data removed]",
      "text/plain": [
       "<Figure size 1440x1440 with 1 Axes>"
      ]
     },
     "metadata": {},
     "output_type": "display_data"
    }
   ],
   "source": [
    "G = nx.Graph()\n",
    "G.add_edges_from(model.edges())\n",
    "pos = nx.spring_layout(G)\n",
    "\n",
    "fig, ax = plt.subplots(figsize = (20, 20))\n",
    "nx.draw(G, pos, with_labels = True,\n",
    "       node_size = 4000, font_size = 20,\n",
    "        arrowsize = 1, node_color = 'red', ax = ax\n",
    "       )\n",
    "plt.show()"
   ]
  },
  {
   "cell_type": "markdown",
   "metadata": {},
   "source": [
    "# Notations from the book for variables\n",
    "\n",
    "### Traffic accident as A \n",
    "### Heavy rain as B \n",
    "### Traffic jam as J \n",
    "### Getting up late as G \n",
    "### Long queues as Q \n",
    "### Late to school as L "
   ]
  },
  {
   "cell_type": "code",
   "execution_count": 76,
   "metadata": {},
   "outputs": [],
   "source": [
    "from pgmpy.inference import VariableElimination\n",
    "\n",
    "model_infer = VariableElimination(model)"
   ]
  },
  {
   "cell_type": "code",
   "execution_count": 82,
   "metadata": {},
   "outputs": [
    {
     "data": {
      "text/plain": [
       "NodeView(('rain', 'traffic_jam', 'accident', 'long_queues', 'getting_up_late', 'late_for_school'))"
      ]
     },
     "execution_count": 82,
     "metadata": {},
     "output_type": "execute_result"
    }
   ],
   "source": [
    "model.nodes()"
   ]
  },
  {
   "cell_type": "code",
   "execution_count": 106,
   "metadata": {},
   "outputs": [
    {
     "name": "stderr",
     "output_type": "stream",
     "text": [
      "Finding Elimination Order: : 100%|█████████████████████████████████████████████████████| 5/5 [00:00<00:00, 2424.45it/s]\n",
      "Eliminating: long_queues: 100%|█████████████████████████████████████████████████████████| 5/5 [00:00<00:00, 403.28it/s]\n"
     ]
    },
    {
     "name": "stdout",
     "output_type": "stream",
     "text": [
      "+----------------+--------------------+\n",
      "| traffic_jam    |   phi(traffic_jam) |\n",
      "+================+====================+\n",
      "| traffic_jam(0) |             0.3960 |\n",
      "+----------------+--------------------+\n",
      "| traffic_jam(1) |             0.6040 |\n",
      "+----------------+--------------------+\n"
     ]
    }
   ],
   "source": [
    "# What is the prob of traffic jam when there is no evidence\n",
    "prob = model_infer.query(variables = ['traffic_jam'])\n",
    "print(prob)"
   ]
  },
  {
   "cell_type": "markdown",
   "metadata": {},
   "source": []
  },
  {
   "cell_type": "code",
   "execution_count": 109,
   "metadata": {},
   "outputs": [
    {
     "name": "stderr",
     "output_type": "stream",
     "text": [
      "Finding Elimination Order: : 100%|█████████████████████████████████████████████████████| 4/4 [00:00<00:00, 1238.35it/s]\n",
      "Eliminating: long_queues: 100%|█████████████████████████████████████████████████████████| 4/4 [00:00<00:00, 349.25it/s]\n"
     ]
    },
    {
     "name": "stdout",
     "output_type": "stream",
     "text": [
      "+----------------+--------------------+\n",
      "| traffic_jam    |   phi(traffic_jam) |\n",
      "+================+====================+\n",
      "| traffic_jam(0) |             0.7800 |\n",
      "+----------------+--------------------+\n",
      "| traffic_jam(1) |             0.2200 |\n",
      "+----------------+--------------------+\n"
     ]
    }
   ],
   "source": [
    "# Probability of traffic jam when there is an accident\n",
    "prob = model_infer.query(variables = ['traffic_jam'],\n",
    "                         evidence = {'accident': 0} )\n",
    "print(prob)"
   ]
  },
  {
   "cell_type": "markdown",
   "metadata": {},
   "source": [
    "Prob of having traffic jam increased when accident was given evidence\n",
    "Probability increased from 0.30 to 0.79\n"
   ]
  },
  {
   "cell_type": "code",
   "execution_count": 110,
   "metadata": {},
   "outputs": [
    {
     "name": "stderr",
     "output_type": "stream",
     "text": [
      "Finding Elimination Order: : 100%|█████████████████████████████████████████████████████| 4/4 [00:00<00:00, 1588.00it/s]\n",
      "Eliminating: long_queues: 100%|█████████████████████████████████████████████████████████| 4/4 [00:00<00:00, 486.72it/s]\n"
     ]
    },
    {
     "name": "stdout",
     "output_type": "stream",
     "text": [
      "+----------------+--------------------+\n",
      "| traffic_jam    |   phi(traffic_jam) |\n",
      "+================+====================+\n",
      "| traffic_jam(0) |             0.6600 |\n",
      "+----------------+--------------------+\n",
      "| traffic_jam(1) |             0.3400 |\n",
      "+----------------+--------------------+\n"
     ]
    }
   ],
   "source": [
    "# Probability of traffic jam whern ther is rain and accident\n",
    "prob = model_infer.query(variables = ['traffic_jam'], \n",
    "                         evidence = {'rain':0})\n",
    "print(prob)"
   ]
  },
  {
   "cell_type": "code",
   "execution_count": 114,
   "metadata": {},
   "outputs": [
    {
     "name": "stderr",
     "output_type": "stream",
     "text": [
      "Finding Elimination Order: : 100%|█████████████████████████████████████████████████████| 3/3 [00:00<00:00, 1468.08it/s]\n",
      "Eliminating: long_queues: 100%|█████████████████████████████████████████████████████████| 3/3 [00:00<00:00, 493.14it/s]\n"
     ]
    },
    {
     "name": "stdout",
     "output_type": "stream",
     "text": [
      "+----------------+--------------------+\n",
      "| traffic_jam    |   phi(traffic_jam) |\n",
      "+================+====================+\n",
      "| traffic_jam(0) |             0.9000 |\n",
      "+----------------+--------------------+\n",
      "| traffic_jam(1) |             0.1000 |\n",
      "+----------------+--------------------+\n"
     ]
    }
   ],
   "source": [
    "# Probability of traffic jam whern ther is rain and accident\n",
    "prob = model_infer.query(variables = ['traffic_jam'], \n",
    "                         evidence = {'rain': 0, 'accident': 0})\n",
    "print(prob)"
   ]
  },
  {
   "cell_type": "code",
   "execution_count": 116,
   "metadata": {},
   "outputs": [
    {
     "name": "stderr",
     "output_type": "stream",
     "text": [
      "Finding Elimination Order: : 100%|██████████████████████████████████████████████████████| 2/2 [00:00<00:00, 946.05it/s]\n",
      "Eliminating: getting_up_late: 100%|█████████████████████████████████████████████████████| 2/2 [00:00<00:00, 551.12it/s]\n"
     ]
    },
    {
     "name": "stdout",
     "output_type": "stream",
     "text": [
      "+----------------+--------------------+\n",
      "| traffic_jam    |   phi(traffic_jam) |\n",
      "+================+====================+\n",
      "| traffic_jam(0) |             0.9759 |\n",
      "+----------------+--------------------+\n",
      "| traffic_jam(1) |             0.0241 |\n",
      "+----------------+--------------------+\n"
     ]
    }
   ],
   "source": [
    "# Probability of traffic jam whern ther is rain and accident\n",
    "prob = model_infer.query(variables = ['traffic_jam'], \n",
    "                         evidence = {'rain': 0, 'accident': 0, 'long_queues': 0})\n",
    "print(prob)"
   ]
  },
  {
   "cell_type": "markdown",
   "metadata": {},
   "source": [
    "# Evidential Reasoning"
   ]
  },
  {
   "cell_type": "markdown",
   "metadata": {},
   "source": [
    "If we knew that there was a traffic jam, then the chances of heavy rain would increase. This is known as evidential reasoning, where the **observation of the outcomes of the children or effect influences the probability of parents or causes.**"
   ]
  },
  {
   "cell_type": "code",
   "execution_count": 118,
   "metadata": {},
   "outputs": [
    {
     "name": "stderr",
     "output_type": "stream",
     "text": [
      "Finding Elimination Order: : 100%|█████████████████████████████████████████████████████| 4/4 [00:00<00:00, 1863.93it/s]\n",
      "Eliminating: long_queues: 100%|█████████████████████████████████████████████████████████| 4/4 [00:00<00:00, 561.35it/s]\n"
     ]
    },
    {
     "name": "stdout",
     "output_type": "stream",
     "text": [
      "+---------+-------------+\n",
      "| rain    |   phi(rain) |\n",
      "+=========+=============+\n",
      "| rain(0) |      0.6667 |\n",
      "+---------+-------------+\n",
      "| rain(1) |      0.3333 |\n",
      "+---------+-------------+\n"
     ]
    }
   ],
   "source": [
    "# probability of rain when there is a traffic jam\n",
    "prob = model_infer.query(variables = ['rain'], \n",
    "                        evidence = {'traffic_jam': 0})\n",
    "print(prob)"
   ]
  },
  {
   "cell_type": "code",
   "execution_count": 120,
   "metadata": {},
   "outputs": [
    {
     "name": "stderr",
     "output_type": "stream",
     "text": [
      "Finding Elimination Order: : 100%|█████████████████████████████████████████████████████| 3/3 [00:00<00:00, 1290.69it/s]\n",
      "Eliminating: long_queues: 100%|█████████████████████████████████████████████████████████| 3/3 [00:00<00:00, 542.72it/s]\n"
     ]
    },
    {
     "name": "stdout",
     "output_type": "stream",
     "text": [
      "+-------------+-----------------+\n",
      "| accident    |   phi(accident) |\n",
      "+=============+=================+\n",
      "| accident(0) |          0.0769 |\n",
      "+-------------+-----------------+\n",
      "| accident(1) |          0.9231 |\n",
      "+-------------+-----------------+\n"
     ]
    }
   ],
   "source": [
    "# probability of accident when there is no traffic jam and rain\n",
    "prob = model_infer.query(variables = ['accident'],\n",
    "                        evidence = {'traffic_jam': 1, 'rain': 1})\n",
    "print(prob)"
   ]
  },
  {
   "cell_type": "markdown",
   "metadata": {},
   "source": [
    "# Intercausal reasoning\n",
    "\n",
    "Different causes with the same effect influence each other"
   ]
  },
  {
   "cell_type": "code",
   "execution_count": 121,
   "metadata": {},
   "outputs": [
    {
     "name": "stderr",
     "output_type": "stream",
     "text": [
      "Finding Elimination Order: : 100%|█████████████████████████████████████████████████████| 3/3 [00:00<00:00, 1441.01it/s]\n",
      "Eliminating: long_queues: 100%|█████████████████████████████████████████████████████████| 3/3 [00:00<00:00, 527.28it/s]\n"
     ]
    },
    {
     "name": "stdout",
     "output_type": "stream",
     "text": [
      "+-------------+-----------------+\n",
      "| accident    |   phi(accident) |\n",
      "+=============+=================+\n",
      "| accident(0) |          0.6364 |\n",
      "+-------------+-----------------+\n",
      "| accident(1) |          0.3636 |\n",
      "+-------------+-----------------+\n"
     ]
    }
   ],
   "source": [
    "prob = model_infer.query(variables = ['accident'], \n",
    "                        evidence = {'traffic_jam': 0, 'rain': 1})\n",
    "print(prob)"
   ]
  },
  {
   "cell_type": "code",
   "execution_count": 130,
   "metadata": {},
   "outputs": [
    {
     "name": "stderr",
     "output_type": "stream",
     "text": [
      "Finding Elimination Order: : 100%|█████████████████████████████████████████████████████| 5/5 [00:00<00:00, 3193.47it/s]\n",
      "Eliminating: long_queues: 100%|█████████████████████████████████████████████████████████| 5/5 [00:00<00:00, 366.21it/s]\n"
     ]
    },
    {
     "name": "stdout",
     "output_type": "stream",
     "text": [
      "+-------------+-----------------+\n",
      "| accident    |   phi(accident) |\n",
      "+=============+=================+\n",
      "| accident(0) |          0.2000 |\n",
      "+-------------+-----------------+\n",
      "| accident(1) |          0.8000 |\n",
      "+-------------+-----------------+\n"
     ]
    },
    {
     "name": "stderr",
     "output_type": "stream",
     "text": [
      "Finding Elimination Order: : 100%|█████████████████████████████████████████████████████| 4/4 [00:00<00:00, 2005.64it/s]\n",
      "Eliminating: traffic_jam: 100%|█████████████████████████████████████████████████████████| 4/4 [00:00<00:00, 410.58it/s]\n"
     ]
    },
    {
     "name": "stdout",
     "output_type": "stream",
     "text": [
      "+-------------+-----------------+\n",
      "| accident    |   phi(accident) |\n",
      "+=============+=================+\n",
      "| accident(0) |          0.2000 |\n",
      "+-------------+-----------------+\n",
      "| accident(1) |          0.8000 |\n",
      "+-------------+-----------------+\n"
     ]
    },
    {
     "name": "stderr",
     "output_type": "stream",
     "text": [
      "Finding Elimination Order: : 100%|███████████████████████████████████████████████████████████████| 4/4 [00:00<?, ?it/s]\n",
      "Eliminating: traffic_jam: 100%|█████████████████████████████████████████████████████████| 4/4 [00:00<00:00, 435.17it/s]\n"
     ]
    },
    {
     "name": "stdout",
     "output_type": "stream",
     "text": [
      "+-------------+-----------------+\n",
      "| accident    |   phi(accident) |\n",
      "+=============+=================+\n",
      "| accident(0) |          0.2000 |\n",
      "+-------------+-----------------+\n",
      "| accident(1) |          0.8000 |\n",
      "+-------------+-----------------+\n"
     ]
    }
   ],
   "source": [
    "# Let's check if probability and rain are independent of each other\n",
    "prob = model_infer.query(variables = ['accident'])\n",
    "print(prob)\n",
    "\n",
    "prob1 = model_infer.query(variables = ['accident'], \n",
    "                        evidence = {'rain': 1})\n",
    "print(prob1)\n",
    "\n",
    "prob2 = model_infer.query(variables = ['accident'], \n",
    "                        evidence = {'rain': 0})\n",
    "print(prob1)"
   ]
  },
  {
   "cell_type": "markdown",
   "metadata": {},
   "source": [
    "Irrespective of having given evidence about rain. The probability of accident remain unchanged"
   ]
  },
  {
   "cell_type": "code",
   "execution_count": null,
   "metadata": {},
   "outputs": [],
   "source": []
  }
 ],
 "metadata": {
  "kernelspec": {
   "display_name": "Python 3",
   "language": "python",
   "name": "python3"
  },
  "language_info": {
   "codemirror_mode": {
    "name": "ipython",
    "version": 3
   },
   "file_extension": ".py",
   "mimetype": "text/x-python",
   "name": "python",
   "nbconvert_exporter": "python",
   "pygments_lexer": "ipython3",
   "version": "3.7.4"
  }
 },
 "nbformat": 4,
 "nbformat_minor": 4
}
